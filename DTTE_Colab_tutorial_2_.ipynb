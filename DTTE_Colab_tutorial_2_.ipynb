{
  "cells": [
    {
      "cell_type": "markdown",
      "metadata": {
        "id": "view-in-github",
        "colab_type": "text"
      },
      "source": [
        "<a href=\"https://colab.research.google.com/github/rks16/Python-new-/blob/main/DTTE_assignment_2.ipynb\" target=\"_parent\"><img src=\"https://colab.research.google.com/assets/colab-badge.svg\" alt=\"Open In Colab\"/></a>"
      ]
    },
    {
      "cell_type": "markdown",
      "metadata": {
        "id": "JN97BfHPX7yo"
      },
      "source": [
        "## Module 1, Lab 2<br>\n",
        "Module Coordinator : amit.pandey@research.iiit.ac.in <br>"
      ]
    },
    {
      "cell_type": "markdown",
      "metadata": {
        "id": "Q0DQhRGLo3Tr"
      },
      "source": [
        "### The aim of this lab is to introduce DATA and FEATURES.\n",
        "We will study: Feature extraction and Data Augmentation.\n",
        "Let's get started.\n",
        "\n"
      ]
    },
    {
      "cell_type": "markdown",
      "metadata": {
        "id": "o4AtXdwvNRGS"
      },
      "source": [
        "Make a copy before running the cells"
      ]
    },
    {
      "cell_type": "markdown",
      "metadata": {
        "id": "gkEBupTXa1xo"
      },
      "source": [
        "### Data can be anything like text, image , sound signals, and even a mix of multiple types (multimodal). We need to learn how to handle raw data, and how to use them for our analysis."
      ]
    },
    {
      "cell_type": "markdown",
      "metadata": {
        "id": "A6I1yI79fbLD"
      },
      "source": [
        "# Extracting features from data\n",
        "\n",
        "\n",
        "\n",
        "\n"
      ]
    },
    {
      "cell_type": "code",
      "execution_count": null,
      "metadata": {
        "colab": {
          "base_uri": "https://localhost:8080/"
        },
        "id": "OimBnfcpvcNS",
        "outputId": "e0c4c0d8-bbe1-4630-c051-fa0bce353722"
      },
      "outputs": [
        {
          "name": "stdout",
          "output_type": "stream",
          "text": [
            "Looking in indexes: https://pypi.org/simple, https://us-python.pkg.dev/colab-wheels/public/simple/\n",
            "Collecting wikipedia\n",
            "  Downloading wikipedia-1.4.0.tar.gz (27 kB)\n",
            "Requirement already satisfied: beautifulsoup4 in /usr/local/lib/python3.7/dist-packages (from wikipedia) (4.6.3)\n",
            "Requirement already satisfied: requests<3.0.0,>=2.0.0 in /usr/local/lib/python3.7/dist-packages (from wikipedia) (2.23.0)\n",
            "Requirement already satisfied: certifi>=2017.4.17 in /usr/local/lib/python3.7/dist-packages (from requests<3.0.0,>=2.0.0->wikipedia) (2022.6.15)\n",
            "Requirement already satisfied: urllib3!=1.25.0,!=1.25.1,<1.26,>=1.21.1 in /usr/local/lib/python3.7/dist-packages (from requests<3.0.0,>=2.0.0->wikipedia) (1.24.3)\n",
            "Requirement already satisfied: chardet<4,>=3.0.2 in /usr/local/lib/python3.7/dist-packages (from requests<3.0.0,>=2.0.0->wikipedia) (3.0.4)\n",
            "Requirement already satisfied: idna<3,>=2.5 in /usr/local/lib/python3.7/dist-packages (from requests<3.0.0,>=2.0.0->wikipedia) (2.10)\n",
            "Building wheels for collected packages: wikipedia\n",
            "  Building wheel for wikipedia (setup.py) ... \u001b[?25l\u001b[?25hdone\n",
            "  Created wheel for wikipedia: filename=wikipedia-1.4.0-py3-none-any.whl size=11695 sha256=7de4717474c0832afd121b50f9ace3349d78ddb3cb3f95e20f1031b43b81c558\n",
            "  Stored in directory: /root/.cache/pip/wheels/15/93/6d/5b2c68b8a64c7a7a04947b4ed6d89fb557dcc6bc27d1d7f3ba\n",
            "Successfully built wikipedia\n",
            "Installing collected packages: wikipedia\n",
            "Successfully installed wikipedia-1.4.0\n"
          ]
        }
      ],
      "source": [
        "## Standard Imports.\n",
        "\n",
        "! pip install wikipedia\n",
        "\n",
        "import wikipedia\n",
        "import nltk\n",
        "from nltk.util import ngrams\n",
        "from collections import Counter\n",
        "import matplotlib.pyplot as plt\n",
        "import numpy as np\n",
        "import re\n",
        "import unicodedata\n",
        "import plotly.express as px\n",
        "import pandas as pd\n"
      ]
    },
    {
      "cell_type": "markdown",
      "metadata": {
        "id": "_f74mfnO8Rd_"
      },
      "source": [
        "## What are features?\n",
        "### Features are individual independent variables that act like an input to your system.\n",
        "A very basic example is: In z = x + y, x and y are the features.\n",
        "We can have simple features like above or even more complex features learned by our machine learning models (we will study these later on)."
      ]
    },
    {
      "cell_type": "code",
      "execution_count": null,
      "metadata": {
        "colab": {
          "base_uri": "https://localhost:8080/",
          "height": 265
        },
        "id": "n9KMUJBd8QKx",
        "outputId": "9d77d09f-e816-4e1e-e207-79d9cedef8b4"
      },
      "outputs": [
        {
          "data": {
            "text/plain": [
              "<matplotlib.colorbar.Colorbar at 0x7fac8db84550>"
            ]
          },
          "execution_count": 2,
          "metadata": {},
          "output_type": "execute_result"
        },
        {
          "data": {
            "image/png": "[encoded data removed]",
            "text/plain": [
              "<Figure size 288x288 with 2 Axes>"
            ]
          },
          "metadata": {},
          "output_type": "display_data"
        }
      ],
      "source": [
        "import matplotlib.pyplot as plt\n",
        "from matplotlib import cm\n",
        "import numpy as np\n",
        "\n",
        "from mpl_toolkits.mplot3d.axes3d import get_test_data\n",
        "\n",
        "\n",
        "# set up a figure twice as wide as it is tall\n",
        "fig = plt.figure(figsize=plt.figaspect(1))\n",
        "\n",
        "# =============\n",
        "# First subplot\n",
        "# =============\n",
        "# set up the axes for the first plot\n",
        "ax = fig.add_subplot(1, 1, 1, projection='3d')\n",
        "\n",
        "# plot a 3D surface like in the example mplot3d/surface3d_demo\n",
        "X = np.arange(-5, 5, 0.25) # feature 1\n",
        "Y = np.arange(-5, 5, 0.25) # feature 2\n",
        "X, Y = np.meshgrid(X, Y)\n",
        "R = np.sqrt(X**2 + Y**2)\n",
        "Z = np.sin(R) #output\n",
        "surf = ax.plot_surface(X, Y, Z, rstride=1, cstride=1, cmap=cm.coolwarm,\n",
        "                       linewidth=0.4, antialiased=False)\n",
        "ax.set_zlim(-1.01, 1.01)\n",
        "fig.colorbar(surf, shrink=0.5, aspect=10)"
      ]
    },
    {
      "cell_type": "markdown",
      "metadata": {
        "id": "m6hGhIGiy4GP"
      },
      "source": [
        "# Part 2: Features of text\n",
        "How do we apply machine learning on text? We can't directly use the text as input to our algorithms. We need to convert them to features.They are converted into vectors (embeddings) or one hot encoded.  Let us explore a simple way of converting text to features.\n",
        "\n",
        "Let us download a few documents off Wikipedia."
      ]
    },
    {
      "cell_type": "code",
      "execution_count": null,
      "metadata": {
        "id": "lpUmCoEr2R3J"
      },
      "outputs": [],
      "source": [
        "## set language and then download the data.\n",
        "\n",
        "topic1 = 'Giraffe'\n",
        "topic2 = 'Elephant'\n",
        "wikipedia.set_lang('en')\n",
        "eng1 = wikipedia.page(topic1).content\n",
        "eng2 = wikipedia.page(topic2).content\n",
        "wikipedia.set_lang('fr')\n",
        "fr1 = wikipedia.page(topic1).content\n",
        "fr2 = wikipedia.page(topic2).content\n",
        "\n"
      ]
    },
    {
      "cell_type": "markdown",
      "metadata": {
        "id": "Cj7RlhMiO5kd"
      },
      "source": [
        "This is what the text looks like:"
      ]
    },
    {
      "cell_type": "code",
      "execution_count": null,
      "metadata": {
        "colab": {
          "base_uri": "https://localhost:8080/",
          "height": 105
        },
        "id": "GW0G-t912UXZ",
        "outputId": "f6e8b32d-6416-4b09-ecf4-14fa682fe2d2"
      },
      "outputs": [
        {
          "data": {
            "application/vnd.google.colaboratory.intrinsic+json": {
              "type": "string"
            },
            "text/plain": [
              "'Les éléphants sont des mammifères proboscidiens de la famille des Éléphantidés. Ils correspondent aujourd\\'hui à trois espèces réparties en deux genres distincts. L\\'éléphant de savane d\\'Afrique et l\\'éléphant de forêt d\\'Afrique, autrefois regroupés sous la même espèce d\\'« éléphant d\\'Afrique », appartiennent au genre Loxodonta, tandis que l\\'éléphant d\\'Asie, anciennement appelé « éléphant indien », appartient au genre Elephas. Ils se différencient par certaines caractéristiques anatomiques, les éléphants d\\'Asie étant en général plus petits avec des oreilles plus petites, ou encore une différence du bout de la trompe. Ces espèces survivantes font localement l\\'objet de programmes ou de projets de réintroduction et de protection.\\nLe mot français « éléphant » vient du mot latin elephantus qui tire son origine du grec ἐλέφας signifiant « ivoire » ou « éléphant ».\\nL\\'éléphant apparait dans de nombreuses cultures. Il est symbole de sagesse dans la culture asiatique, connu pour sa mémoire et son intelligence, qui est comparée à celle des cétacés et hominidés. Aristote avait dit que l\\'éléphant est « la bête qui dépasse toutes les autres par l\\'intelligence et l\\'esprit ».\\n\\n\\n== Description ==\\n\\nL\\'éléphant d\\'Afrique, qui peut atteindre 7 tonnes, est le plus gros animal terrestre actuel, mais il est loin derrière la Baleine bleue (Balaenoptera musculus) qui peut peser jusqu\\'à 200 tonnes et dépasser 30 mètres de long.\\n\\n\\n=== Squelette et muscles ===\\n\\nLe squelette de l\\'éléphant présente des caractéristiques dictées par la masse qu\\'il doit soutenir : il représente environ 16,5 % de la masse totale de l\\'animal, cela signifie que pour un éléphant de 7 tonnes, le squelette pèse 1,155 tonne. Les os de l\\'éléphant sont spongieux. Sa cage thoracique, formée de vingt côtes, est arrimée le long de l\\'épine dorsale.\\nL\\'éléphant possède deux genoux à ses membres postérieurs, qui sont constitués d\\'un fémur, d\\'une rotule et de l\\'association tibia-fibula. Les membres antérieurs, quant à eux, comprennent une scapula, un humérus, et l\\'association radius-ulna.\\nL\\'éléphant marche sur le bout des doigts,. Les orteils sont insérés dans le pied, il y en a entre 2 et 5, on en voit seulement les ongles. Cependant on peut voir entre trois et cinq ongles en fonction des pieds. Les pieds antérieurs ont une forme arrondie, alors que les pieds postérieurs ont une forme ovale. Les pieds sont composés de tissus adipeux qui agissent comme des amortisseurs.\\nContrairement à la plupart des mammifères, il est impossible pour un éléphant de sauter, pour des raisons d\\'ordre biomécanique : il lui faut toujours un pied sur le sol. Cependant il peut courir à une vitesse maximale de 20 km/h (un éléphant ayant été chronométré à 24 km/h dans le cadre d\\'une étude scientifique).\\nMême si on emploie le terme « courir » pour un éléphant, il est à noter que le terme est inapproprié. Il serait plus logique de dire qu’il « marche vite ». En effet, il ne change pas son allure (sa façon de se déplacer) lorsqu’il accélère.\\nUn éléphant d\\'Afrique mâle adulte mesure 3,50 mètres au garrot et pèse 5 à 6 tonnes, une femelle adulte mesure 3 mètres de haut au garrot pour une masse de 4 tonnes environ. À la naissance, l\\'éléphant pèse environ 120 kg. Un éléphant vit en moyenne 60 ans. Le plus grand éléphant connu a été signalé en Angola en 1974 : il s’agissait d’un mâle de 12 tonnes mesurant 4,20 m au garrot, soit un mètre de plus que la moyenne des éléphants africains.\\nDes éléphants nains, de la taille d\\'un grand cochon, ont également peuplé les îles méditerranéennes au cours de la Préhistoire, ; certains sont signalés en Crète jusqu\\'en 5000 av. J.-C., voire jusqu’en 3000 av. J.-C.,.\\n\\n\\n=== Trompe ===\\nLa principale caractéristique des éléphants est leur trompe appelée proboscis. Il s\\'agit d\\'un organe nasal (avec une fonction de respiration et de perception des odeurs) allongé qui découle de la fusion de la lèvre supérieure et du nez. La trompe est un organe souple et préhensile leur servant à porter l\\'eau et la nourriture à leur bouche, à tirer ou transporter des objets et à pousser des cris.\\nLa trompe comporte entre 100 000 et 150 000 muscles ; elle est dépourvue d\\'os et pèse plus de 100 kg.\\n« La trompe se compose de deux longs tuyaux cylindriques, partant de l’ouverture antérieure des fosses nasales. Ces tubes se rétrécissent à la région de l’inter mâchoire, ce qui empêche l’eau pompée par la trompe de pénétrer dans la cavité nasale ; ils offrent ensuite une dilatation, puis se resserrent de nouveau à l’endroit où ils s’ouvrent dans les narines osseuses, et où ils sont couverts par un cartilage nasal ovale. (…) Les tubes sont entourés d’une multitude de faisceaux musculaires, les uns longitudinaux, les autres rayonnant vers la peau et servant à comprimer les premiers. Quelques-uns enfin, mais en moins grand nombre sont circulaires. Cependant il faut distinguer de ces muscles, propres à la trompe, ceux qui servent à mouvoir l’organe en entier. Ces derniers sont comparables aux muscles de la queue. On les distingue en élévateurs et abaisseurs supérieurs et latéraux, qui naissent du front, des os propres du nez et des cartilages, tant de l’os maxillaire supérieur que de l’intermaxillaire ».\\nLe bout de la trompe d\\'un éléphant d\\'Afrique est en forme d\\'amande, alors que celle d\\'un éléphant d\\'Asie est en forme de poire. L\\'excroissance à son extrémité a une fonction analogue à un doigt, leur permettant de décortiquer une cacahuète. Les éléphants ne boivent pas directement par leur trompe. L\\'effort nécessaire pour se pencher jusqu\\'au sol afin de boire l\\'eau par la bouche étant trop important et l\\'opération étant même impossible lorsque l\\'eau se trouve au-dessous du niveau du sol, ils boivent en remplissant leur trompe avec de l\\'eau qu\\'ils aspirent et gardent momentanément avant de la verser ensuite, par gravité, dans leur bouche.\\nL\\'allongement du museau des proboscidiens anciens à l\\'origine de l\\'éléphant serait lié à la croissance continue des incisives (les défenses) et leur augmentation de taille : herbivores concurrencés par les ruminants et les équidés, leur adaptation trophique se traduit alors par un régime de plantes plus fibreuses peu nutritives et une augmentation de taille corrélative, les proboscidiens fourrageant pendant des heures à la recherche aussi bien de végétaux au sol que de feuilles d\\'arbres.\\n\\n\\t\\t\\n\\t\\t\\n\\n\\n=== Denture et défenses ===\\n\\nLe plus souvent les éléphants ont des défenses, des dents très allongées utilisées par ces animaux comme outil, arme de défense et attribut sexuel. Les défenses sont des dents supérieures à croissance continue. L\\'éléphanteau possède des prémolaires de lait qui tombent lorsque les molaires apparaissent, l\\'adulte n\\'en possède pas. Chez les éléphants adultes il n\\'y a que 6 dents, 2 incisives, ce sont les défenses, et 4 molaires. La formule dentaire est i1/0 c0/0 m1/1.\\n\\n\\n==== Dents ====\\nLes dents sont essentiellement composées d’ivoire et d’émail qui forment la couronne des dents par de nombreuses crêtes transversales, qui sont plus ou moins lamellées. Les crêtes sont disjointes puis, au fur et à mesure, un cément se forme et s’intercale entre les dents pour former un tout. Un petit nombre de dents molaires sont présentes à chaque mâchoire, « parfois une paire (…), (…) une paire à l’une des mâchoires et deux à l’autre, (…) encore deux paires à chacune », de plus les dents correspondantes entre elles « n’ont ni la même apparence, ni le même nombre de lamelles ».\\n\\nSelon les études de Corse et de Blainville, « les éléphants (…) ont six paires de dents à chacune des mâchoires. Ces dents augmentent de volume depuis la première jusqu’à la dernière ou sixième, et le nombre de leurs lamelles (…) est aussi de plus en plus considérable. ». « La succession des dents molaires s’opère ainsi par flots d’une manière lente mais réglée, et l’on admet trois flots différents. Les dents se présentent deux par deux de chaque côté de l’une et de l’autre mâchoire. Le degré plus ou moins avancé de l’usure de chacune d’elles détermine les différences que l’on remarque dans le nombre total de lamelles (…) pour chaque flot ».\\nLes éléphants ont généralement 26 dents : les 2 incisives appelées défenses, 12 prémolaires déciduales et 12 molaires. Contrairement à la plupart des mammifères, qui font pousser des dents de lait, puis les remplacent par un seul ensemble permanent de dents adultes, les éléphants sont des polyphyodontes : ils ont des cycles de rotation dentaire tout au long de leur vie. Les molaires sont remplacées six fois au cours de la vie d\\'un éléphant typique. Les dents ne sont pas remplacées par de nouvelles dents émergeant des mâchoires verticalement comme chez la plupart des mammifères. Au lieu de cela, de nouvelles dents poussent à l\\'arrière de la bouche et avancent pour repousser les anciennes. La première molaire de chaque côté de la mâchoire tombe lorsque l\\'éléphant a 2 ou 3 ans. La deuxième série de molaires tombe à l\\'âge de 4 à 6 ans. La troisième série tombe entre 9 et 15 ans et la quatrième série dure jusqu\\'à 18-28 ans. La cinquième série de dents tombe vers la quarantaine. La sixième poussée — et généralement la dernière — doit durer à l\\'éléphant le reste de sa vie. Les dents d\\'éléphant ont des crêtes dentaires en forme de boucle, qui sont plus épaisses et plus en forme de losange chez les éléphants d\\'Afrique.\\n\\n\\n==== Défenses ====\\n\\nLes défenses d\\'un éléphant sont les deuxièmes incisives modifiées de la mâchoire supérieure. Elles remplacent les dents de lait à l\\'âge de 6 à 12 mois et poussent continuellement d\\'environ 17 cm par an. Une défense nouvellement développée a un capuchon en émail lisse qui finit par s\\'estomper. La dentine est connue sous le nom d\\'ivoire ; sa section transversale se compose de motifs de lignes entrecroisées qui créent des zones en forme de losange. Une grande partie des défenses est visible de l\\'extérieur ; le reste est enserré dans un logement du crâne. Au moins un tiers de la défense contient la pulpe et certains nerfs s\\'étendent jusqu\\'à la pointe. Il serait donc difficile de l\\'enlever sans nuire à l\\'animal. Une fois retiré, l\\'ivoire commence à se dessécher et à se fissurer s\\'il n\\'est pas conservé au frais et à l\\'humidité.\\nL\\'éléphant se sert de ses défenses à plusieurs fins. Il les utilise pour creuser dans l\\'eau, le sel ou parmi les racines; écorcer ou marquer les arbres ; déplacer des arbres et des branches pour dégager un chemin. Lors des combats, elles servent pour attaquer, se défendre, protéger le corps.\\n\\nComme les humains, qui sont généralement droitiers ou gauchers, les éléphants ont généralement une différenciation des défenses droite et gauche. La défense dominante, appelée défense principale, est généralement plus usée et plus courte, avec une pointe plus arrondie. Pour les éléphants d\\'Afrique, les défenses sont présentes chez les mâles et les femelles, et ont à peu près la même longueur pour les deux sexes, atteignant jusqu\\'à 3 m, mais celles des mâles ont tendance à être plus épaisses. Autrefois, les défenses d\\'éléphant pesant 100 kg et plus n\\'étaient pas rares, mais on n\\'en voit plus guère aujourd\\'hui dépassant 50 kg.\\nChez les espèces asiatiques, seuls les mâles ont de grandes défenses. Les femelles asiatiques ont de très petites défenses, voire aucune. Il existe des mâles dépourvus de défenses, particulièrement communs au Sri Lanka. Les mâles asiatiques peuvent avoir des défenses aussi longues que celles des africains, mais elles sont généralement plus minces et plus légères : les plus grandes enregistrées mesuraient 3,02 m de long et pesaient 39 kg. La chasse à l\\'ivoire d\\'éléphant en Afrique et en Asie a conduit à une sélection naturelle pour des défenses plus courtes, ou absentes,.\\n\\n\\n=== Peau ===\\nLa peau de l\\'éléphant est d\\'une épaisseur d\\'environ 2 cm. Cette peau est fragile du fait de la présence de plis où viennent se loger des parasites. Il n\\'y a pratiquement pas de poils, et il n\\'y a ni glande sudoripare, ni glande sébacée. De ce fait, leur peau est sèche, c\\'est pour cela qu\\'elle doit être souvent humectée à l\\'aide d\\'eau projetée par la trompe ou couverte de poussière ou de boue également projetée par leur trompe.\\nLa couleur de la peau est grisâtre ; cependant sa couleur apparente est liée au sol sur lequel évolue l\\'éléphant. Elle peut aussi être due aux bains de boues.\\nLa faible densité des poils (quelques centaines par mètre carré, chaque poil mesurant en moyenne 2 centimètres de longueur et 0,5 mm de diamètre) agit non plus comme une fourrure mais participe — à hauteur de 23 % — avec d\\'autres mécanismes de thermorégulation (battement des oreilles, bains, pulvérisation d\\'eau avec leurs trompes, respiration percutanée) à la thermolyse du mammifère, les poils agissant comme des ailettes qui augmentent la surface d\\'échange et donc les transferts thermiques.\\n\\n\\t\\t\\n\\t\\t\\n\\n\\n=== Oreille ===\\nLes oreilles de l\\'éléphant lui permettent de réguler sa température corporelle, grâce à une vascularisation très importante. Lorsqu\\'il mange des fruits fermentés ayant un degré d\\'alcool d\\'environ 7°, l\\'éléphant remue violemment ses oreilles, de même pour sa queue et sa trompe. Elles sont généralement plus petites chez l\\'éléphant d\\'Asie.\\n\\n\\n=== Cerveau ===\\nLe cerveau de l\\'éléphant, situé à l\\'arrière de son crâne, pèse entre 4 et 6 kg, ce qui est déjà considérable. Si l\\'on compare la taille du cerveau de l\\'éléphant à sa masse corporelle, il est alors le mammifère ayant le plus petit cerveau, alors que la souris possède le plus grand.\\n\\n\\n== Biologie et comportement ==\\n\\n\\n=== Reproduction ===\\n\\n\\n==== Maturité sexuelle ====\\nSi les fonctions reproductrices des éléphants mâles se mettent en place vers l\\'âge de 10-15 ans, ils commencent à se reproduire vers l\\'âge de 30 ans quand ils sont suffisamment imposants pour pouvoir se battre avec d\\'autres mâles pour conquérir les femelles.\\nLes fonctions reproductrices de l\\'éléphant femelle apparaissent de 9 ans jusqu\\'à 15 ans.\\nDans l\\'organisation matriarcale des éléphants, les mâles sont connus pour leur tempérament indépendant et ont tendance à vivre en solitaire, forgeant parfois une alliance provisoire avec un autre individu ou intégrant une bande de manière informelle. Tandis que les femelles entretiennent des liens familiaux étroits et solides.\\n\\n\\n==== Comportement sexuel ====\\n\\nLes mâles en rut, dont le taux sanguin de testostérone peut s\\'accroître cinquante fois, agitent les oreilles et secouent la tête, leur pénis devient vert. Il en dégouline une urine fortement odorante. Cela est dû à la libération d\\'un musc d’une phéromone, la frontaline, sécrétée sous deux formes chirales. Ces deux énantiomères (deux formes : (+)-frontaline et (-)-frontaline) ne sont pas sécrétés en mêmes proportions. Chez les jeunes mâles, la forme (+) domine. Au fur et à mesure de la maturité et de la période de rut, les deux isomères forment un racémique, qui attire les femelles en phase folliculaire et en œstrus. La frontaline est libérée par la glande temporale chez l’éléphant en période de rut, la sécrétion débute peu de temps avant la puberté, à l’âge de 15 ans. Cependant le rut ne se produit qu\\'à partir de 25 ans et ne durera que quelques jours. Puis vers 31-35 ans, celui-ci dure plusieurs semaines. Vers 36-40 ans, il dure de 1 à 2 mois. Pour finir, après 40 ans, le rut s’étend sur une période de 2 à 4 mois. La quantité de phéromones émises augmente avec l’âge de l’éléphant ainsi qu’en milieu de rut. La concentration et la proportion d’énantiomères de la frontaline constituent pour les animaux qui seront attentifs au message une source d’information sur l’âge et le stade du musth de l\\'éléphant qui émet. Une concentration de frontaline, en racémique, sera le synonyme d\\'un mâle mature ayant un statut social important.\\n\\n\\n==== Accouplement ====\\n\\nUne fois que la femelle et le mâle sont ensemble, l\\'accouplement peut commencer. L\\'éléphant mâle étant très lourd, la copulation est très rapide. En général, elle dure entre 20 et 30 secondes. La période de copulations dure environ trois jours.\\nLa jeune femelle est effrayée lors de sa première période de chaleur, le mâle peut la poursuivre. Pour avertir la femelle qu\\'il va la saillir, le mâle pose sa trompe sur son dos ; la femelle s\\'immobilise alors.\\nLes mâles passent dans les troupeaux de femelles lors de leur rut pour sentir les vulves des femelles.\\n\\n\\n==== Gestation et mise bas ====\\n\\nLa gestation d\\'une éléphante est la plus longue de tous les mammifères terrestres. Elle dure de 20 à 22 mois. La durée d\\'allaitement est comprise entre 36 et 48 mois. Les mises bas s\\'espacent d\\'environ 2 ans et demi à 5 ans. La gestation est plus longue pour un éléphanteau mâle que pour un éléphanteau femelle.\\nUne éléphante peut être en gestation jusqu\\'à l\\'âge de cinquante ans. Dans la plupart des cas, un seul éléphant est porté ; les cas de gémellité sont très rares.\\n\\n\\n=== Vie sociale ===\\n\\nLes éléphants vivent dans une société matriarcale. Cette structure matriarcale existe depuis plus de sept millions d\\'années, des empreintes d\\'une harde d\\'éléphants de cette époque ayant été découvertes sur une surface de 5 hectares sur le site de Mleisa 1 dans les Émirats arabes unis, faisant de cette piste de mammifères fossile la plus vieille de ce type et probablement la plus longue piste préservée dans le monde. Les troupeaux sont composés d\\'une dizaine d\\'éléphantes et de jeunes éléphanteaux, après la maturité sexuelle les mâles quittent le groupe. Ils errent jusqu\\'à ce qu\\'ils fassent alliance avec d\\'autres jeunes mâles.\\nUne étude, menée dans un zoo, montre que l\\'éléphant aime les fruits fermentés à un degré d\\'alcool de 7°. Lorsque l\\'éléphant est saoul, il perd de sa sociabilité (alors que sobre il est très sociable). Lorsqu\\'il est ivre, il reste à l\\'écart du troupeau. Un chercheur américain défendait l\\'idée que les animaux s\\'enivrent ou se droguent, volontairement, pour oublier les tourments de leur existence. Pour le prouver, il a fait vivre durant un mois des éléphants d\\'une réserve californienne sur un territoire plus restreint qu\\'à leur accoutumée. La surpopulation due au petit espace a angoissé les animaux qui, du coup, ont bu trois fois plus que d\\'habitude. Ils sont devenus si agressifs qu\\'il a été dangereux de les approcher.\\n\\n\\n=== Communication ===\\nLe cri de l\\'éléphant est le barrissement. De récentes études scientifiques ont montré que les éléphants, comme de nombreux animaux, sont sensibles aux infrasons. L\\'utilité de l\\'audition de ces infrasons reste cependant mystérieuse. Il semble qu\\'ils soient capables de communiquer entre eux par les ondes acoustiques de surface transmises par le sol.\\n\\n\\n=== Sommeil ===\\nLes éléphants peuvent dormir debout ou couchés. Le fait de se coucher indique qu\\'ils sont parfaitement détendus.\\n\\n\\n=== Alimentation ===\\n\\nL\\'éléphant est herbivore, il mange une grande variété d\\'éléments végétaux : herbes, plantes, feuilles, fruits, racines et tubercules, écorces et même du bois. Il apprécie par exemple le bois tendre et gorgé de sève du baobab.\\nLes besoins alimentaires de l\\'éléphant sont importants, surtout qualitativement. En fonction de son environnement, il consacre une grande partie de son temps à la recherche de nourriture (16 à 20 heures par jour), se déplaçant sur de longues distances et sélectionnant les aliments les plus riches. Il peut se dresser sur ses pattes arrière pour attraper avec sa trompe les rameaux les plus tendres jusqu\\'à cinq ou six mètres de hauteur.\\nQuotidiennement, il faut à l\\'éléphant entre 150 et 180 kilogrammes de nourriture en saison sèche, et entre 200 et 260 kilogrammes en saison des pluies. Ces quantités varient aussi en fonction des espèces et des milieux fréquentés.\\nUn éléphant adulte boit jusqu\\'à 140 L d\\'eau par jour. Il aspire dans sa trompe jusqu\\'à dix litres à la fois, puis se les verse dans la bouche. Il peut rester trois ou quatre jours sans boire. Il peut se servir de sa trompe pour reprendre de l\\'eau dans son estomac et s\\'en servir pour se rafraîchir la peau. Sa peau très épaisse est l\\'objet de soins constants : outre les aspersions, les baignades et les roulades dans la boue, le poudrage à la poussière est bienvenu pour protéger l\\'épiderme des insectes et du soleil.\\nMalgré la quarantaine de mètres d\\'intestin qu\\'il possède, sa digestion est peu efficace. Elle dure environ 12 heures après les 16 à 20 heures où il a cherché à se nourrir, 40 à 60 % de la nourriture n\\'étant pas digérée. Si son alimentation n\\'est pas suffisamment riche, son tonus, son humeur et sa santé en général sont rapidement affectés.\\nLe comportement alimentaire a en général un impact important sur le milieu. Le bilan de ces conséquences varie en fonction des espèces (Afrique, Asie), de la saison, du biotope et de la densité de la population. Ainsi, l\\'éléphant peut être considéré comme destructeur d\\'arbres en particulier dans la savane, alors qu\\'il participe ailleurs très activement à la régénération en limite des zones forestières. Certaines espèces d\\'arbres sont dépendantes de l\\'éléphant pour leur extension : celui-ci, friand de leurs fruits, en dissémine les graines avec l\\'excellent terreau que constitue son crottin, capable de contenir jusqu\\'à 35 % de graines.\\n\\n\\n=== Intelligence ===\\n\\nEn l’état actuel des connaissances, l’éléphant est, avec l\\'humain, le dauphin, le corbeau et certaines espèces de grands singes, l\\'une des rares espèces animales à réussir le test du miroir de Gallup : lorsqu’on marque d’une tache le front d’un éléphant en un point qu’il ne peut voir directement et qu’on lui présente un miroir, il passe sa trompe sur la tache ; démontrant ainsi qu’il a reconnu son image et donc qu’il a conscience de lui-même,,.\\nLes éléphants peuvent utiliser des outils de défense, telles des pierres saisies avec leur trompe et qu\\'ils lancent sur leurs ennemis. Ils peuvent également se toiletter en se grattant avec des branches ou des baguettes des parties de corps qu\\'ils ne peuvent atteindre avec leur trompe. Ils présentent ainsi un exemple d’utilisation d\\'outil par un animal.\\nLors d\\'une expérimentation de Preston Foerder, un éléphant (d\\'Asie, Elephas maximus) s\\'est montré capable d\\'un éclair de compréhension (insight). Il est allé chercher un cube pour monter dessus et atteindre de la nourriture,.\\n\\n\\n=== Perception ===\\nLes éléphants sont réputés pour leur capacité à anticiper l\\'arrivée des intempéries. il semblerait qu\\'ils soient capables d\\'entendre les sons provoqués par le déplacement des nuages.\\n\\n\\n== Systématique ==\\n\\n\\n=== Taxonomie ===\\n\\nL’éléphant d\\'Asie et l’éléphant d’Afrique ont longtemps été considérés comme les deux seules espèces représentant la famille des Éléphantidés à l’époque moderne. Depuis, de récentes études génétiques ont permis de distinguer deux sous-espèces africaines distinctes : Loxodonta africana africana (« éléphant de la savane ») et Loxodonta africana cyclotis (« éléphant des forêts »).\\nLes espèces d\\'Éléphantidés vivant à l’heure actuelle sont donc :\\n\\n\\n=== Histoire évolutive ===\\n\\nL’extinction Crétacé-Tertiaire est suivie d\\'une diversification très rapide des ongulés africains, notamment l\\'ordre des Proboscidiens dont les plus anciennes espèces découvertes à ce jour sont Eritherium azzouzorum et Phosphatherium escuilliei, datant de la fin du Paléocène il y a 60 millions d\\'années. Sans trompe mais avec une première incisive agrandie (rappelant la naissance d\\'une défense) et des orbites oculaires en position antérieure, ces premiers proboscidiens sont petits et graciles, ont un corps bas sur pattes et un mode de vie semi-aquatique, à l\\'instar de Moeritherium.\\nAprès un déclin à l\\'oligocène, les proboscidiens connaissent une diversification avec l\\'apparition des Deinotheriidae et des Mammutidae. La seconde radiation évolutive voit l\\'émergence au début du Miocène des Gomphotheriidae qui sont à l\\'origine des Elephantidae et des Stegodontidae, familles qui correspondent à la troisième radiation évolutive au miocène supérieur.\\nLes Proboscidiens présents sur le continent américain, tels Mammut americanum ou Haplomastodon, se sont éteints il y a une dizaine de milliers d\\'années.\\n\\n\\n== L\\'éléphant et l\\'homme ==\\n\\n\\n=== Menaces de disparition ===\\n\\n\\n==== Chasse et braconnage ====\\n\\nDurant des millénaires, l\\'homme chassa l\\'éléphant pour sa consommation et pour le commerce de l\\'ivoire tiré des défenses. Durant l\\'Antiquité, les éléphants de Nubie furent utilisés dans les armées des Carthaginois. Au XVe siècle av. J.-C., il y avait encore des éléphants sur les bords de l\\'Euphrate, où le pharaon Thoutmôsis Ier chassait l\\'éléphant.\\nLa population des éléphants africains et asiatiques a été décimée, passant de plusieurs millions d\\'individus au début des années 1970 à quelques centaines de milliers 30 ans plus tard. Si bien qu\\'en 1989, la CITES interdit le commerce de l\\'ivoire. Les éléphants sont désormais considérés comme des espèces protégées et la chasse aux éléphants est très réglementée.\\nLe braconnage s\\'intensifie malheureusement chaque année. En 2011, entre 25 000 et 30 000 éléphants ont été abattus sauvagement afin de récupérer leurs défenses et alimenter les commerces illégaux notamment en provenance d\\'Asie.\\nL\\'éléphant n\\'a pas réellement de prédateurs hormis les humains. De grands fauves tels le lion ou le tigre peuvent exercer une prédation sur les petits et les individus faibles, mais vu le nombre d\\'herbivores plus faciles à chasser, il n\\'y a que peu de chance que ces prédateurs se rabattent sur l\\'éléphant, bien trop imposant.\\nSelon l’Union internationale pour la conservation de la nature (UICN), la population des éléphants d’Afrique a sensiblement diminué au cours des années 2010 : le continent compte en 2019 environ 415 000 spécimens, soit 111 000 de moins que lors de la précédente décennie.\\n\\n\\n==== L\\'éléphant des forêts africaines menacé d\\'extinction d\\'ici 2025 ====\\nAu terme de la conférence organisée à Bangkok du 3 au 14 mars 2013, par la CITES, à laquelle 178 pays ont participé, l\\'état d\\'esprit était au pessimisme concernant la protection des éléphants « victimes dans leurs pays d\\'origine d\\'un braconnage sans précédent et d\\'un commerce effréné en Asie ». Nombre d\\'ONG concernées par cette action pensent que « la communauté internationale a échoué à protéger les éléphants ». Depuis 2007 le trafic d\\'ivoire a doublé et plus que triplé par rapport à 1998. Le nombre d\\'éléphants africains, selon les enquêtes présentées à la conférence, est compris entre 420 000 et 650 000. 25 000 ont été tués en 2011 et probablement 30 000 en 2012. Publiée en mars 2013 dans la revue PLoS One, une autre étude révèle que 62 % des éléphants des forêts ont été abattus durant ces dix dernières années. Si ce rythme perdure, ils pourraient disparaitre d\\'Afrique centrale d\\'ici 2025. Les spécialistes affirment qu\\'à terme, si le braconnage ne cesse pas, tous les éléphants du continent seront menacés d\\'extinction.\\n\\nÀ Gembloux Agro-Bio Tech - Université de Liège en Belgique, plusieurs chercheurs avaient déjà fait le même constat pour la population des éléphants de l\\'Afrique de l\\'Ouest. En 40 ans, leur nombre a diminué de moitié.\\nL\\'ONG Save the Elephants estime que le commerce illégal de l\\'ivoire à Hong Kong menace la survie des éléphants, étant donné que le marché de l\\'ivoire en Chine et en Asie du Sud-Est passe en grande partie par Hong Kong.\\n\\n\\n=== Perte d\\'habitat ===\\n\\nL\\'augmentation des risques de conflits d\\'intérêt pour l\\'habitat avec des populations humaines menace la survie de l\\'éléphant. Ce conflit tue 150 éléphants et un peu plus de 100 personnes par an au Sri Lanka. Contrairement à son cousin d\\'Afrique, l\\'éléphant d\\'Asie, possède de petites défenses. La disparition de celui-ci est principalement attribuée à la perte de son habitat. De grands morceaux de forêt disparaissent, ce qui touche profondément leur écosystème. Les arbres contribuent à l\\'ancrage du sol et l\\'absorption des eaux de ruissellement. La déforestation entraine des inondations et une érosion massive. Lorsque la forêt est réduite, les éléphants deviennent une partie du problème, car ils détruisent rapidement la végétation de la zone où ils vivent et éliminent toutes les ressources en nourriture.\\n\\n\\n=== Parcs nationaux ===\\n\\nLa première réserve officielle, Parc national Kruger, est peut-être la plus connue des réserves et celle ayant obtenu le plus grand succès. Cependant, de nombreux problèmes sont apparus depuis sa création. Les clôtures de la réserve ont coupé de nombreux animaux de leur alimentation en hiver ou de leurs zones de reproduction au printemps. Certains animaux sont morts, alors que d\\'autres comme les éléphants ont démoli les clôtures, entraînant des ravages dans les champs voisins. Lorsque les éléphants sont limités à un petit territoire, les dégâts infligés au paysage peuvent être énormes.\\nDe ce fait, certaines réserves, comme le Parc national Kruger, de l\\'avis de certains gestionnaires de faune sauvage, ont souffert de la surpopulation des éléphants, au détriment d\\'autres espèces de la faune dans la réserve. Le 25 février 2008, l\\'Afrique du Sud a annoncé que l\\'abattage pour contrôler le nombre d\\'éléphants, arrêté depuis 1994, reprendrait. Les défenseurs des droits des animaux ont menacé d\\'un appel au boycott par les touristes et à d\\'autres formes d\\'oppositions.\\n\\n\\n=== Utilisation par l\\'Homme ===\\n\\nLes éléphants en captivité (en) sont utilisés ou exhibés dans les cirques, ménageries (tel Abul-Abbas, l\\'éléphant blanc de Charlemagne et Hanno, celui du pape Léon X) et zoos (tel le célèbre Jumbo). On ne peut pas parler à leur égard de domestication car le cycle de vie de l\\'éléphant est trop long pour que cela soit économiquement rentable par rapport à une capture d\\'individus sauvages, la phase précédant la maturité sexuelle de l\\'animal durant plus de 10 ans.\\n\\nUtilisé comme animal de trait par les humains, ainsi que lors de batailles en tant qu\\'éléphant de guerre, l\\'éléphant a occupé de nombreuses fonctions, notamment celle d\\'exécuteur lors d\\'exécutions par éléphant. En 1914-1918, des éléphants de cirque ont en Europe par exemple servi à débarder le bois en forêt (de Mormal, dans le Nord de la France), ou encore à labourer, ou à tirer des wagons dans les usines de munitions.\\nL\\'éléphant peut également être entrainé par anéantissement.\\nLe conducteur d\\'un éléphant est appelé cornac ou mahout.\\n\\n\\n=== Expression ===\\n“avoir une mémoire d’éléphant” veut dire que l’ont a une très bonne mémoire\\n\\n\\n=== Produits dérivés ===\\n\\nÀ l\\'origine, les éléphants étaient chassés par les hommes pour leur viande.\\nCertaines parties, comme les pieds d\\'éléphants, ou des animaux entiers étaient naturalisés. Les poils et les défenses d\\'ivoire, bien sûr, étaient aussi utilisés. On s\\'en servait pour fabriquer des objets de décoration et en bijouterie, ou bien ils étaient destinés, ainsi que les dents et les ossements, à des cabinets de curiosité ou des museums.\\nL\\'ivoire a longtemps fait l\\'objet d\\'un commerce important qui subsiste encore parfois sous forme de trafic illégal malgré le statut de protection dont bénéficient les éléphants survivants.\\n\\n\\n=== Culture ===\\n\\n\\n==== Symbolique ====\\nDans la symbolique occidentale comme orientale, l\\'éléphant est associé à la mémoire, la sagesse, la longévité, la prospérité, la bienveillance, le père. Pour beaucoup de peuples africains, l\\'éléphant tient le rôle du père, du chef des animaux, du roi.\\n\\n\\n===== Orient =====\\n\\nL\\'éléphant apparaît dans la panthéon hindouiste et bouddhiste à partir du troisième millénaire avant Jésus-Christ, époque de sa domestication.\\nDans la religion hindoue, Ganesh est un dieu à tête d’éléphant ; il est le dieu de la Sagesse et le patron des étudiants. Les rares éléphants blancs sont les plus sacrés en Inde, et les éléphants domestiqués et décorés aux couleurs des dieux bénissent les fidèles de leur trompe dans certains temples.\\nEn Inde, l’éléphant évoque la force, la puissance, l\\'orage (forme ronde et grise des nuages de pluie), et il est sacré. Chaque dieu hindou chevauche un animal : Indra, dieu des Orages et de la Bataille, et Agni, dieu du Feu, se déplacent à dos d’éléphant.\\nAu Laos, passer sous la trompe d\\'un éléphant permet d\\'acquérir ses attributs : force, longévité, fertilité et caractère sacré. Chaque année à l\\'occasion du Nouvel An bouddhique, les cornacs laotiens organisent un baci ou soukhouan, cérémonie de rappel des âmes, pour leur éléphant.\\n\\n\\n===== Islam =====\\nDans le Coran, la 105e sourate (la 19e dans l’ordre chronologique) s\\'intitule Al-Fîl (l’Éléphant). Elle comprend cinq versets révélés à la Mecque et doit son nom à l’expression « ashâb al-fîl » (les gens de l’éléphant) présente dans le tout premier verset. Cette expression désigne les Abyssins, qui occupaient le Yémen voisin, voulaient évangéliser l’Arabie tout entière, notamment en attaquant la Kaaba, à La Mecque. En raison des entraves qu’ils mettaient au pèlerinage, le « ministre du calendrier » dans le gouvernement mecquois se vengea en profanant l’église de Sana\\'a. C’est alors que le gouverneur abyssin fit venir un éléphant de taille gigantesque appelé Mahmoud et dirigea une expédition sur La Mecque.\\n\\n\\n===== Occident =====\\nDans la symbolique chrétienne, l\\'éléphant symbolise le baptême : la femelle met bas dans l\\'eau d\\'un étang à côté duquel le mâle monte la garde pour écarter le dragon, symbole de l\\'esprit du mal.[réf. nécessaire]Dans la symbolique chrétienne, il représente aussi la chasteté (de tempérament frigide, il ne peut engendrer qu\\'après avoir absorbé, en guise d\\'aphrodisiaque, une racine de mandragore), la constance, la maîtrise de soi, la bénignité des princes (il n\\'a pas de fiel), la tempérance, la circonspection et la prudence.[réf. nécessaire]En France, on dit de quelqu\\'un qui a une bonne mémoire qu\\'il a « une mémoire d\\'éléphant » ; effectivement, l\\'éléphant a une excellente mémoire pour se rappeler ses congénères ou retrouver les pistes qu\\'il emprunte chaque année pour chercher sa nourriture. Sa mémoire visuelle lui permet également de se rappeler très longtemps les visages humains[source insuffisante].\\nL\\'éléphant représente les quatre piliers du monde : il porte le monde sur son dos.\\nL\\'éléphant est le symbole de la ville de Catane, en Italie, depuis le Moyen Âge (mais le lien remonte peut-être à l\\'Antiquité). La Fontaine de l\\'éléphant s\\'y dresse sur la place de la cathédrale.\\n\\n\\n===== Afrique =====\\nL\\'éléphant est l\\'emblème de la Côte d\\'Ivoire.\\nL\\'éléphant est symbole de royauté, de puissance et de sagesse et ce en général pour les peuples de tout le continent africain.\\nSon image est utilisée dans les cérémonies et danses, pour la fabrication des masques ou encore de mobiliers, d\\'objets rituels, dans beaucoup de tribus notamment chez les Bamileke de l\\'ouest du Cameroun ou encore chez les Gurusi du Burkina Faso.\\nHors tribus, l\\'éléphant est un symbole important au même titre que le lion et son image est présente au quotidien dans le monde africain.\\n\\n\\n===== Politique =====\\nEn politique, l\\'image de l\\'éléphant a pu être utilisé dans différents pays pour caractériser des courants politiques ou des politiciens : ainsi, l\\'emblème du Parti républicain américain est un éléphant, et certains des membres les plus influents du Parti socialiste français sont surnommés les « éléphants ».\\n\\n\\n===== Art =====\\n\\nDes représentations picturales de l\\'éléphant sont retrouvées en Occident dès le XIIe siècle comme dans le quartier historique de Montferrand sur la « Maison de l\\'Éléphant » (12 rue Kléber).\\nL\\'ivoire des défenses de l\\'éléphant a longtemps servi à la réalisation d\\'œuvres d\\'art. Les œuvres en or et ivoire sont qualifiées de chryséléphantines — chrusos, or en grec. Ce nom a été déformé en olifant, pour désigner une corne (instrument de musique) en ivoire.\\n\\n\\n===== Sport =====\\nEn sport, certaines équipes nationales portent des surnoms à l\\'image de l\\'éléphant :\\n\\nLa Côte d\\'Ivoire : Les éléphants\\nLa Guinée : Le Sily national (L\\'éléphant national)\\nLa Thaïlande : Les éléphants de guerre\\n\\n\\n==== Fiction ====\\n\\nLes éléphants ont inspiré de nombreux artistes. La liste ci-après est loin d\\'être exhaustive.\\n\\nCinéma :\\nLes Racines du ciel (The Roots of Heaven) de John Huston (1958), tiré du roman de Romain Gary.\\nTusk d\\'Alejandro Jodorowsky (1980).\\nChasseur blanc, cœur noir (White Hunter Black Heart) de Clint Eastwood (1990, inspiré par John Huston, chasseur d\\'éléphant sur le tournage de the African Queen en 1950).\\nSunny et l\\'éléphant de Frédéric Lepage, 2008.\\nDe l\\'eau pour les éléphants de Francis Lawrence, 2011, tiré du roman de Sara Gruen.\\nElephant Boy de Robert J. Flaherty en 1937\\nGrimsby : Agent trop spécial de Louis Leterrier (2016), Norman \"Nobby\" Butcher (Sacha Baron Cohen) se cache dans le vagin d\\'une éléphante.\\nDocumentaire\\nL\\'Homme et l’Éléphant de Vijay Singh.\\nDessins animés :\\nDumbo.\\nWinnie l\\'ourson et l\\'Éfélant\\nBabar\\nLittérature :\\nLes Racines du ciel de Romain Gary, Prix Goncourt en 1956.\\nLes Annales du disque-monde de Terry Pratchett (le disque-monde est soutenu par quatre éléphants géants).\\nL\\'Éléphant et le Singe de Jupiter de Jean de La Fontaine.\\nLe Voyage de l\\'éléphant de José Saramago\\nLittérature jeunesse :\\nHistoires comme ça de Rudyard Kipling (L\\'Enfant d\\'éléphant)\\nPoo Lorn l\\'éléphant de Reginald Campbell\\nLe Livre de la jungle de Rudyard Kipling (personnages de Hathi et de Kala Nag).\\nBabar de Laurent de Brunhoff\\nUn éléphant ça compte énormément de Helme Heine\\nLe Mystère de l\\'éléphant bleu de Enid Blyton\\nLa Maison éléphant de Henriette Bichonnier\\n Elmer, l\\'éléphant multicolore de David McKee\\nPomelo, l\\'éléphant rose, texte de Ramona Bádescu, illustrations de Benjamin Chaud : une quinzaine de titres, depuis 2002. Plusieurs de ces titres font partie de la « Bibliothèque jeunesse idéale » du Centre national de la littérature pour la jeunesse (BnF).\\n\\t\\t\\n\\n\\n== Notes et références ==\\n\\n\\n== Annexes ==\\n\\n\\n=== Bibliographie ===\\nElephants: Majestic Creatures of the Wild, Checkmark Books, 2000 (ISBN 978-0-87596-143-9, OCLC 475147472)\\n\\n\\n=== Articles connexes ===\\nBouse d\\'éléphant\\nIntelligence animale\\nÉléphant de guerre\\nHanno\\nListe d\\'éléphants de fiction\\nOrdre de l’Éléphant\\nMammouphant\\nBraconnage\\nÉléphant rose\\n\\n\\n=== Références taxonomiques ===\\n(en) Référence Mammal Species of the World (3e éd., 2005) : Elephas maximus  \\n(fr+en) Référence ITIS : genre Loxodonta Cuvier, 1825\\n(en) Référence Animal Diversity Web : Elephas maximus\\n(en) Référence UICN : espèce Elephas maximus Linnaeus, 1758\\n(en) Référence NCBI : genre Loxodonta (taxons inclus)\\n(en) Référence Fonds documentaire ARKive : Loxodonta africana  \\n(en) Référence Fonds documentaire ARKive : Elephas maximus  \\n\\n\\n=== Liens externes ===\\n\\nAnalyse des instruments internationaux de lutte contre le trafic et le braconnage des espèces menacées en Afrique centrale : le cas de l\\'éléphant et du gorille\\n« Physiologie de l\\'éléphant », sur elephants.free.fr\\nUn dossier sur l\\'éléphant chez Futura-Sciences\\n« Chang Nam : La légende des éléphants nains aquatiques en Thaïlande », sur magiedubouddha.com\\n Portail des mammifères'"
            ]
          },
          "execution_count": 4,
          "metadata": {},
          "output_type": "execute_result"
        }
      ],
      "source": [
        "fr2 ## the french textual data describing the second topic."
      ]
    },
    {
      "cell_type": "markdown",
      "metadata": {
        "id": "EZkmNJ7XO9xX"
      },
      "source": [
        "We need to clean this up a bit. Let us remove all the special characters and keep only 26 letters and space. Note that this will remove accented characters in French also. We are also removing all the numbers and spaces. So this is not an ideal solution."
      ]
    },
    {
      "cell_type": "code",
      "execution_count": null,
      "metadata": {
        "id": "e5yf5P9pPI4t"
      },
      "outputs": [],
      "source": [
        "def cleanup(text):\n",
        "  text = text.lower()  # make it lowercase\n",
        "  text = re.sub('[^a-z]+', '', text) # only keep characters, i.e. if not a-z then replace with space.\n",
        "  return text"
      ]
    },
    {
      "cell_type": "code",
      "execution_count": null,
      "metadata": {
        "colab": {
          "base_uri": "https://localhost:8080/",
          "height": 35
        },
        "id": "Iawqez-f4oT5",
        "outputId": "08b3392a-339f-4aa4-f5ff-4d05f0768b4d"
      },
      "outputs": [
        {
          "data": {
            "application/vnd.google.colaboratory.intrinsic+json": {
              "type": "string"
            },
            "text/plain": [
              "\"111è11 1'« é1é11111 1\\\\?A111111 »,\""
            ]
          },
          "execution_count": 25,
          "metadata": {},
          "output_type": "execute_result"
        }
      ],
      "source": [
        "text1 = re.sub('[a-z]', '1', 'espèce d\\'« éléphant d\\?Afrique »,')\n",
        "text1"
      ]
    },
    {
      "cell_type": "code",
      "execution_count": null,
      "metadata": {
        "id": "qrOjC32fRuTK"
      },
      "outputs": [],
      "source": [
        "eng1 = cleanup(eng1)\n",
        "eng2 = cleanup(eng2)\n",
        "fr1 = cleanup(fr1)\n",
        "fr2 = cleanup(fr2)"
      ]
    },
    {
      "cell_type": "code",
      "execution_count": null,
      "metadata": {
        "colab": {
          "base_uri": "https://localhost:8080/"
        },
        "id": "rIdqvL2G-LqL",
        "outputId": "707abdcb-3dbc-451b-801e-bad3af5e20fa"
      },
      "outputs": [
        {
          "name": "stdout",
          "output_type": "stream",
          "text": [
            "thegiraffeisatallafricanhoofedmammalbelongingtothegenusgiraffaitisthetallestlivingterrestrialanimalandthelargestruminanthoofedherbivorousonearthtraditionallygiraffeswerethoughttobeonespeciesgiraffacamelopardaliswithninesubspeciesmostrecentlyresearchersproposeddividingthemintouptoeightextantspeciesduetonewresearchintotheirmitochondrialandnucleardnaaswellasmorphologicalmeasurementssevenotherextinctspeciesofgiraffaareknownfromthefossilrecordthegiraffeschiefdistinguishingcharacteristicsareitsextremelylongneckandlegsitshornlikeossiconesanditsspottedcoatpatternsitisclassifiedunderthefamilygiraffidaealongwithitsclosestextantrelativetheokapiitsscatteredrangeextendsfromchadinthenorthtosouthafricainthesouthandfromnigerinthewesttosomaliaintheeastgiraffesusuallyinhabitsavannahsandwoodlandstheirfoodsourceisleavesfruitsandflowersofwoodyplantsprimarilyacaciaspecieswhichtheybrowseatheightsmostotherherbivorescannotreachlionsleopardsspottedhyenasandafricanwilddogsmaypreyupongiraffesgiraffesliveinherdsofrelatedfemalesandtheiroffspringorbachelorherdsofunrelatedadultmalesbutaregregariousandmaygatherinlargeaggregationsmalesestablishsocialhierarchiesthroughneckingcombatboutswheretheneckisusedasaweapondominantmalesgainmatingaccesstofemaleswhichbearsoleresponsibilityforraisingtheyoungthegiraffehasintriguedvariousancientandmodernculturesforitspeculiarappearanceandhasoftenbeenfeaturedinpaintingsbooksandcartoonsitisclassifiedbytheinternationalunionforconservationofnatureiucnasvulnerabletoextinctionandhasbeenextirpatedfrommanypartsofitsformerrangegiraffesarestillfoundinnumerousnationalparksandgamereservesbutestimatesasofindicatethereareapproximatelymembersofgiraffainthewildmorethanwerekeptinzoosinetymologythenamegiraffehasitsearliestknownoriginsinthearabicwordzarfahperhapsborrowedfromtheanimalssomalinamegerithearabnameistranslatedasfastwalkerinearlymodernenglishthespellingsjarrafandziraphwereusedprobablydirectlyfromthearabicandinmiddleenglishorafleandgyrfauntgerfaunttheitalianformgiraffaaroseinthesthemodernenglishformdevelopedaroundfromthefrenchgirafecamelopardisanarchaicenglishnameforthegiraffeitderivesfromtheancientgreekkamloprdalisfromkmloscamelandprdalisleopardreferringtoitscamellikeshapeandleopardlikecolourationtaxonomycarllinnaeusoriginallyclassifiedlivinggiraffesasonespeciesinhegaveitthebinomialnamecervuscamelopardalismortenthranebrnnichclassifiedthegenusgiraffainthespeciesnamecamelopardalisisfromlatinevolutionthegiraffeisoneofonlytwolivinggeneraofthefamilygiraffidaeintheorderartiodactylatheotherbeingtheokapithefamilywasoncemuchmoreextensivewithoverfossilgeneradescribedtheelongationoftheneckappearstohavestartedearlyinthegiraffelineagecomparisonsbetweengiraffesandtheirancientrelativessuggestvertebraeclosetotheskulllengthenedearlierfollowedbylengtheningofvertebraefurtherdownoneearlygiraffidancestorwascanthumeryxwhichhasbeendatedvariouslytohavelivedmillionyearsagomyamyaormyaandwhosedepositshavebeenfoundinlibyathisanimalresembledanantelopeandhadamediumsizedlightlybuiltbodygiraffokeryxappearedmyaontheindiansubcontinentandresembledanokapiorasmallgiraffeandhadalongerneckandsimilarossiconesgiraffokeryxmayhavesharedacladewithmoremassivelybuiltgiraffidslikesivatheriumandbramatheriumgiraffidslikepalaeotragusshansitheriumandsamotheriumappearedmyaandlivedthroughoutafricaandeurasiatheseanimalshadbroaderskullwithreducedfrontalcavitiespaleotragusresembledtheokapiandmayhavebeenitsancestorothersfindthattheokapilineagedivergedearlierbeforegiraffokeryxsamotheriumwasaparticularlyimportanttransitionalfossilinthegiraffelineageasthelengthandstructureofitscervicalvertebraewerebetweenthoseofamoderngiraffeandanokapianditsneckposturewaslikelysimilartotheformerbohliniawhichfirstappearedinsoutheasterneuropeandlivedmyawaslikelyadirectancestorofthegiraffebohliniacloselyresembledmoderngiraffeshavingalongneckandlegsandsimilarossiconesanddentitionbohliniacolonisedchinaandnorthernindiaandproducedthegiraffawhicharoundmyareachedafricaclimatechangesleadedtotheextinctionoftheasiangiraffeswhiletheafricangiraffessurvivedandradiatedintonewspecieslivinggiraffesappeartohavearisenaroundmyaineasternafricaduringthepleistocenesomebiologistssuggestthemoderngiraffesdescendedfromgjumaeothersfindggracilisamorelikelycandidategjumaewaslargerandmorerobustwhileggraciliswassmallerandmoreslenderthechangesfromextensiveforeststomoreopenhabitatswhichbeganmyaarebelievedtobethemaindriverfortheevolutionofgiraffesduringthistimetropicalplantsdisappearedandwerereplacedbyaridcplantsandadrysavannahemergedacrosseasternandnorthernafricaandwesternindiasomeresearchershavehypothesisedthatthisnewhabitatcoupledwithadifferentdietincludingacaciaspeciesmayhaveexposedgiraffeancestorstotoxinsthatcausedhighermutationratesandahigherrateofevolutionthecoatpatternsofmoderngiraffesmayalsohavecoincidedwiththesehabitatchangesasiangiraffesarehypothesisedtohavehadmoreokapilikecolourationsthegiraffegenomeisaroundbillionbasepairsinlengthcomparedtothebillionbasepairsoftheokapioftheproteinsingiraffeandokapigenesareidenticalthedivergenceofgiraffeandokapilineagesdatestoaroundmyaasmallgroupofregulatorygenesinthegiraffeappeartoberesponsiblefortheanimalsstatureandassociatedcirculatoryadaptationsspeciesandsubspeciestheinternationalunionforconservationofnatureiucncurrentlyrecognisesonlyonespeciesofgiraffewithninesubspeciesduringthesvarioustaxonomieswithtwoorthreespecieswereproposedastudyonthegeneticsofgiraffesusingmitochondrialdnasuggestedatleastsixlineagescouldberecognisedasspeciesastudyusingdetailedanalysesofthemorphologyofgiraffesandapplicationofthephylogeneticspeciesconceptdescribedeightspeciesoflivinggiraffesastudyalsoconcludedthatlivinggiraffesconsistofmultiplespeciestheresearcherssuggestedtheexistenceoffourspecieswhichhavenotexchangedgeneticinformationbetweeneachotherfortomillionyearsastudyshowedthatdependingonthemethodchosendifferenttaxonomichypothesesrecognizingfromtwotosixspeciescanbeconsideredforthegenusgiraffathatstudyalsofoundthatmultispeciescoalescentmethodscanleadtotaxonomicoversplittingasthosemethodsdelimitgeographicstructuresratherthanspeciesthethreespecieshypothesiswhichrecognisesgcamelopardalisggiraffaandgtippelskirchiishighlysupportedbyphylogeneticanalysesandalsocorroboratedbymostpopulationgeneticandmultispeciescoalescentanalysesawholegenomesequencingstudysuggeststheexistenceoffourdistinctspeciesandsevensubspeciesthecladogrambelowshowsthephylogeneticrelationshipbetweenthefourproposedspeciesandsevensubspeciesbasedonthegenomeanalysisnotetheeightlineagescorrespondtoeightofthetraditionalsubspeciesintheonespecieshypothesistherothschildgiraffeissubsumedintogcamelopardaliscamelopardalisthefollowingtablecomparesthedifferenthypothesesforgiraffespeciesthedescriptioncolumnshowsthetraditionalninesubspeciesintheonespecieshypothesisthefirstextinctspeciestobedescribedwasgiraffasivalensisfalconerandcautleyareevaluationofavertebrathatwasinitiallydescribedasafossilofthelivinggiraffewhiletaxonomicopinionmaybelackingonsomenamestheextinctspeciesthathavebeenpublishedincludegiraffagracilisgiraffajumaegiraffapriscillagiraffapomeligiraffapunjabiensisgiraffapygmaeagiraffasivalensisgiraffastilleiappearanceandanatomyfullygrowngiraffesstandmfttallwithmalestallerthanfemalestheaverageweightiskglbforanadultmaleandkglbforanadultfemaledespiteitslongneckandlegsitsbodyisrelativelyshorttheskinismostlygrayortanandcanreachathicknessofmminthecentimetresinlongtailendsinalongdarktuftofhairandisusedasadefenseagainstinsectsthecoathasdarkblotchesorpatcheswhichcanbeorangechestnutbrownornearlyblacksurroundedbylighthairusuallywhiteorcreamcolouredmalegiraffesbecomedarkerastheygrowoldthecoatpatternhasbeenclaimedtoserveascamouflageinthelightandshadepatternsofsavannahwoodlandswhenstandingamongtreesandbushestheyarehardtoseeatevenafewmetresdistancehoweveradultgiraffesmoveabouttogainthebestviewofanapproachingpredatorrelyingontheirsizeandabilitytodefendthemselvesratherthanoncamouflagewhichmaybemoreimportantforcalveseachgiraffehasauniquecoatpatterncalvesinheritsomecoatpatterntraitsfromtheirmothersandvariationinsomespottraitsiscorrelatedwithcalfsurvivaltheskinundertheblotchesmayserveaswindowsforthermoregulationbeingsitesforcomplexbloodvesselsystemsandlargesweatglandsthefurmaygivetheanimalchemicaldefenseasitsparasiterepellentsgiveitacharacteristicscentatleastmainaromaticchemicalsareinthefuralthoughindoleandmethylindoleareresponsibleformostofthesmellbecausemaleshaveastrongerodourthanfemalesitmayalsohaveasexualfunctionheadbothsexeshaveprominenthornlikestructurescalledossiconeswhichcanreachcmintheyareformedfromossifiedcartilagecoveredinskinandfusedtotheskullattheparietalbonesbeingvascularisedtheossiconesmayhavearoleinthermoregulationandareusedincombatbetweenmalesappearanceisareliableguidetothesexorageofagiraffetheossiconesoffemalesandyoungarethinanddisplaytuftsofhairontopwhereasthoseofadultmalestendtobebaldandknobedontopalumpwhichismoreprominentinmalesemergesinthemiddleoftheskullmalesdevelopcalciumdepositsthatformbumpsontheirskullsastheyagemultiplesinuseslightenagiraffesskullhoweverasmalesagetheirskullsbecomeheavierandmoreclublikehelpingthembecomemoredominantincombattheoccipitalcondylesoftheskullallowtheanimaltotipitsheadoverdegreesandgrabfoodonthebranchesdirectlyabovethemwiththetonguelocatedonthesidesoftheheadthegiraffehasabroadvisualfieldfromitsgreatheightcomparedtootherungulatesthegiraffevisonismorebinocularandtheeyeislargerwithagreaterretinalsurfaceareagiraffespossiblyseeincolourandtheirsensesofhearingandsmellaresharptheearsaremovableandthenostrilsareslitshapedpossiblytowithstandblowingsandthegiraffestongueisaboutcminlongitisblackperhapstoprotectagainstsunburnandcangraspfoliageanddelicatelypickoffleavesitalsohasaflexibleupperlipthatiscoveredinhairtoprotectagainstsharppicklespapillaecoverthetongueandtheinsideofthemouththeupperjawhasahardpalateinsteadoffrontteeththemolarsandpremolarsarewidewithlowcrownsonthesurfaceneckthegiraffehasanextremelyelongatedneckwhichcanbeuptomftinlengthalongtheneckisamanemadeofshorterecthairsthenecktypicallyrestsatanangleofdegreesthoughjuvenilesareclosertodegreesthelongneckresultsfromadisproportionatelengtheningofthecervicalvertebraenotfromtheadditionofmorevertebraeeachcervicalvertebraisovercminlongtheycomprisepercentofthelengthofthegiraffesvertebralcolumncomparedwiththepercenttypicalofsimilarlargeungulatesincludingthegiraffesclosestlivingrelativetheokapithiselongationlargelytakesplaceafterbirthperhapsbecausegiraffemotherswouldhaveadifficulttimegivingbirthtoyoungwiththesameneckproportionsasadultsthegiraffesheadandneckareheldupbylargemusclesandanuchalligamentwhichareanchoredbylongthoracicvertebraespinesgivingthemahumpthegiraffesneckvertebraehaveballandsocketjointsthepointofarticulationbetweenthecervicalandthoracicvertebraeofgiraffesisshiftedtoliebetweenthefirstandsecondthoracicvertebraetandtunlikemostotherruminantswherethearticulationisbetweentheseventhcervicalvertebracandtthisallowsctocontributedirectlytoincreasednecklengthandhasgivenrisetothesuggestionthattisactuallycandthatgiraffeshaveaddedanextracervicalvertebrahoweverthispropositionisnotgenerallyacceptedasthasothermorphologicalfeaturessuchasanarticulatingribdeemeddiagnosticofthoracicvertebraeandbecauseexceptionstothemammalianlimitofsevencervicalvertebraearegenerallycharacterisedbyincreasedneurologicalanomaliesandmaladiesthereareseveralhypothesesregardingtheevolutionaryoriginandmaintenanceofelongationingiraffeneckscharlesdarwinoriginallysuggestedthecompetingbrowsershypothesiswhichhasbeenchallengedonlyrecentlyitsuggeststhatcompetitivepressurefromsmallerbrowserslikekudusteenbokandimpalaencouragedtheelongationoftheneckasitenabledgiraffestoreachfoodthatcompetitorscouldnotthisadvantageisrealasgiraffescananddofeeduptomfthighwhileevenquitelargecompetitorssuchaskuducanfeeduptoonlyaboutmftinhighthereisalsoresearchsuggestingthatbrowsingcompetitionisintenseatlowerlevelsandgiraffesfeedmoreefficientlygainingmoreleafbiomasswitheachmouthfulhighinthecanopyhoweverscientistsdisagreeaboutjusthowmuchtimegiraffesspendfeedingatlevelsbeyondthereachofotherbrowsersandastudyfoundthatadultgiraffeswithlongernecksactuallysufferedhighermortalityratesunderdroughtconditionsthantheirshorterneckedcounterpartsthisstudysuggeststhatmaintainingalongerneckrequiresmorenutrientswhichputslongerneckedgiraffesatriskduringafoodshortageanothertheorythesexualselectionhypothesisproposesthelongnecksevolvedasasecondarysexualcharacteristicgivingmalesanadvantageinneckingcontestsseebelowtoestablishdominanceandobtainaccesstosexuallyreceptivefemalesinsupportofthistheorynecksarelongerandheavierformalesthanfemalesofthesameageandmalesdonotemployotherformsofcombathoweveroneobjectionisitfailstoexplainwhyfemalegiraffesalsohavelongnecksithasalsobeenproposedthattheneckservestogivetheanimalgreatervigilancelegslocomotionandpostureagiraffesfrontandbacklegsareaboutthesamelengththeradiusandulnaofthefrontlegsarearticulatedbythecarpuswhichwhilestructurallyequivalenttothehumanwristfunctionsasakneeitappearsthatasuspensoryligamentallowsthelankylegstosupporttheanimalsgreatweightthehoovesoflargemalegiraffesreachcmcmininindiameterthefetlockofthelegislowtothegroundallowingthehooftobettersupporttheanimalsweightgiraffeslackdewclawsandinterdigitalglandswhilethepelvisisrelativelyshorttheiliumhasstrechedoutcrestsagiraffehasonlytwogaitswalkingandgallopingwalkingisdonebymovingthelegsononesideofthebodythendoingthesameontheothersidewhengallopingthehindlegsmovearoundthefrontlegsbeforethelattermoveforwardandthetailwillcurluptheanimalreliesontheforwardandbackwardmotionsofitsheadandnecktomaintainbalanceandthecountermomentumwhilegallopingthegiraffecanreachasprintspeedofuptokmhmphandcansustainkmhmphforseveralkilometresgiraffeswouldprobablynotbecompetentswimmersastheirlonglegswouldbehighlycumbersomeinthewateralthoughtheycouldpossiblyfloatwhenswimmingthethoraxwouldbeweigheddownbythefrontlegsmakingitdifficultfortheanimaltomoveitsneckandlegsinharmonyorkeepitsheadabovethewaterssurfaceagirafferestsbylyingwithitsbodyontopofitsfoldedlegstoliedowntheanimalkneelsonitsfrontlegsandthenlowerstherestofitsbodytogetbackupitfirstgetsonitsfrontkneesandpositionsitsbacksideontopofitshindlegsitthenpullsupthebacksideupwardsandthefrontlegsstandstraightupagainateachstagetheanimalswingsitsheadforbalanceifthegiraffewantstoreachdowntodrinkiteitherspreadsitsfrontlegsorbendsitskneesstudiesincaptivityfoundthegiraffesleepsintermittentlyaroundhoursperdaymostlyatnightitusuallysleepslyingdownhoweverstandingsleepshavebeenrecordedparticularlyinolderindividualsintermittentshortdeepsleepphaseswhilelyingarecharacterisedbythegiraffebendingitsneckbackwardsandrestingitsheadonthehiporthighapositionbelievedtoindicateparadoxicalsleepinternalsystemsinmammalstheleftrecurrentlaryngealnerveislongerthantherightinthegiraffeitisovercminlongerthesenervesarelongerinthegiraffethaninanyotherlivinganimaltheleftnerveisovermftinlongeachnervecellinthispathbeginsinthebrainstemandpassesdowntheneckalongthevagusnervethenbranchesoffintotherecurrentlaryngealnervewhichpassesbackupthenecktothelarynxthusthesenervecellshavealengthofnearlymftinthelargestgiraffesdespiteitslongneckandlargeskullthebrainofthegiraffeistypicalforanungulateevaporativeheatlossinthenasalpassageskeepthegiraffesbraincooltheshapeoftheskeletongivesthegiraffeasmalllungvolumerelativetoitsmassitslongneckgivesitalargeamountofdeadspaceinspiteofitsnarrowwindpipethegiraffealsohasahightidalvolumesothebalanceofdeadspaceandtidalvolumeismuchthesameasothermammalstheanimalcanstillprovideenoughoxygenforitstissuesanditcanincreaseitsrespiratoryrateandoxygendiffusionwhenrunningthecirculatorysystemofthegiraffehasseveraladaptationsforitsgreatheightitskglbandcmftheartmustgenerateapproximatelydoublethebloodpressurerequiredforahumantomaintainbloodflowtothebrainassuchthewalloftheheartcanbeasthickascmingiraffeshaverelativelyhighheartratesfortheirsizeatbeatsperminutewhentheanimallowersitsheadthebloodrushesdownfairlyunopposedandaretemirabileintheupperneckwithitslargecrosssectionalareapreventsexcessbloodflowtothebrainwhenitraisesagainthebloodvesselsconstrictandpushbloodintothebrainsotheanimaldoesnotfaintthejugularveinscontainseveralmostcommonlysevenvalvestopreventbloodflowingbackintotheheadfromtheinferiorvenacavaandrightatriumwhiletheheadisloweredconverselythebloodvesselsinthelowerlegsareundergreatpressurebecauseoftheweightoffluidpressingdownonthemtosolvethisproblemtheskinofthelowerlegsisthickandtightpreventingtoomuchbloodfrompouringintothemgiraffeshaveoesophagealmusclesthatarestrongenoughtoallowregurgitationoffoodfromthestomachuptheneckandintothemouthforruminationtheyhavefourchamberedstomachswhichareadaptedtotheirspecializeddiettheintestinesofanadultgiraffemeasuremorethanmftinlengthandhavearelativelysmallratioofsmalltolargeintestinethegiraffehasasmallcompactliverfetusesmaybeasmallgallbladderthatvanishesbeforebirthbehaviourandecologyhabitatandfeedinggiraffesusuallyinhabitsavannahsandopenwoodlandstheypreferacacieaecommiphoracombretumandopenterminaliawoodlandsoverdenserenvironmentslikebrachystegiawoodlandstheangolangiraffecanbefoundindesertenvironmentsgiraffesbrowseonthetwigsoftreespreferringthoseofthesubfamilyacacieaeandthegeneracommiphoraandterminaliawhichareimportantsourcesofcalciumandproteintosustainthegiraffesgrowthratetheyalsofeedonshrubsgrassandfruitagiraffeeatsaroundkglbofplantmatterdailywhenstressedgiraffesmaychewthebarkoffbranchesgiraffesarealsorecordedtochewoldbonesduringthewetseasonfoodisabundantandgiraffesaremorespreadoutwhileduringthedryseasontheygatheraroundtheremainingevergreentreesandbushesmotherstendtofeedinopenareaspresumablytomakeiteasiertodetectpredatorsalthoughthismayreducetheirfeedingefficiencyasaruminantthegiraffefirstchewsitsfoodthenswallowsitforprocessingandthenvisiblypassesthehalfdigestedcuduptheneckandbackintothemouthtochewagainthegirafferequireslessfoodthanmanyotherherbivoresbecausethefoliageiteatshasmoreconcentratednutrientsandithasamoreefficientdigestivesystemtheanimalsfaecescomeintheformofsmallpelletswhenithasaccesstowateragiraffewillgonomorethanthreedayswithoutdrinkinggiraffeshaveagreateffectonthetreesthattheyfeedondelayingthegrowthofyoungtreesforsomeyearsandgivingwaistlinestotootalltreesfeedingisatitshighestduringthefirstandlasthoursofdaytimebetweenthesehoursgiraffesmostlystandandruminateruminationisthedominantactivityduringthenightwhenitismostlydonelyingdownsociallifegiraffesareusuallyfoundingroupsthatvaryinsizeandcompositionaccordingtoecologicalanthropogenictemporalandsocialfactorstraditionallythecompositionofthesegroupshadbeendescribedasopenandeverchangingforresearchpurposesagrouphasbeendefinedasacollectionofindividualsthatarelessthanakilometreapartandmovinginthesamegeneraldirectionmorerecentstudieshavefoundthatgiraffeshavelonglastingsocialgroupsorcliquesbasedonkinshipsexorotherfactorsandthesegroupsregularlyassociatewithothergroupsinlargercommunitiesorsubcommunitieswithinafissionfusionsocietyproximitytohumanscandisruptsocialarrangementsmasaigiraffesintanzaniahavedifferentsubpopulationswithoverlappingrangeseachofwhichdifferinreproductiveratesandcalfmortalitythenumberofgiraffesinagroupcanrangefromoneuptoindividualsgiraffegroupstendtobesexsegregatedalthoughmixedsexgroupsmadeofadultfemalesandyoungmalesalsooccurfemalegroupsmaybematrilineallyrelatedgenerallyfemalesaremoreselectivethanmalesinwhotheyassociatewithregardingindividualsofthesamesexparticularlystablegiraffegroupsarethosemadeofmothersandtheiryoungwhichcanlastweeksormonthsyoungmalesalsoformgroupsandwillengageinplayfightshoweverastheygetoldermalesbecomemoresolitarybutmayalsoassociateinpairsorwithfemalegroupsgiraffesarenotterritorialbuttheyhavehomerangesthatvaryaccordingtorainfallandproximitytohumansettlementsmalegiraffesoccasionallywanderfarfromareasthattheynormallyfrequentearlybiologistssuggestedgiraffesweremuteandunabletocreateenoughairflowtovibratetheirvocalfoldstothecontrarytheyhavebeenrecordedtocommunicateusingsnortssneezescoughssnoreshissesburstsmoansgruntsgrowlsandflutelikesoundsduringcourtshipmalesemitloudcoughsfemalescalltheiryoungbybellowingcalveswillemitbleatsmooingandmewingsoundssnortingandhissingisassociatedwithvigilanceduringnighttimegiraffesappeartohumtoeachotherabovetheinfrasoundrangethepurposeisuncleardominantmalesdisplaytoothermaleswithanerectpostureholdingthechinandheadupwhilewalkingstifflyanddisplayingtheirsidethelessdominantshowsubmissivenessbydroppingtheheadandearsloweringthechinandfleeingreproductionandparentalcarereproductioningiraffesisbroadlypolygamousafewoldermalesmatewiththefertilefemalesfemalescanreproducethroughouttheyearandexperienceoestruscyclingapproximatelyeverydaysfemalegiraffesinoestrousaredispersedoverspaceandtimesoreproductiveadultmalesadoptastrategyofroamingamongfemalegroupstoseekmatingopportunitieswithperiodichormoneinducedruttingbehaviourapproximatelyeverytwoweeksmalespreferyoungadultfemalesoverjuvenilesandolderadultsmalegiraffesassessfemalefertilitybytastingthefemalesurinetodetectoestrusinamultistepprocessknownastheflehmenresponseonceanoestrousfemaleisdetectedthemalewillattempttocourtherwhencourtingdominantmaleswillkeepsubordinateonesatbayacourtingmalemaylickafemalestaillayhisheadandneckonherbodyornudgeherwithhisossiconesduringcopulationthemalestandsonhishindlegswithhisheadheldupandhisfrontlegsrestingonthefemalessidesgiraffegestationlastsdaysafterwhichasinglecalfisnormallybornalthoughtwinsoccuronrareoccasionsthemothergivesbirthstandingupthecalfemergesheadandfrontlegsfirsthavingbrokenthroughthefetalmembranesandfallstothegroundseveringtheumbilicalcordanewborngiraffeismfttallwithinafewhoursofbirththecalfcanrunaroundandisalmostindistinguishablefromaoneweekoldhoweverforthefirstonetothreeweeksitspendsmostofitstimehidingitscoatpatternprovidingcamouflagetheossiconeswhichhavelainflatwhileitwasinthewombraiseupinafewdaysmotherswithcalveswillgatherinnurseryherdsmovingorbrowsingtogethermothersinsuchagroupmaysometimesleavetheircalveswithonefemalewhiletheyforageanddrinkelsewherethisisknownasacalvingpooladultmalesplayalmostnoroleinraisingtheyoungalthoughtheyappeartohavefriendlyinteractionscalvesareatriskofpredationandamothergiraffewillstandoverthemandkickatanapproachingpredatorfemaleswatchingcalvingpoolswillonlyalerttheirownyoungiftheydetectadisturbancealthoughtheotherswilltakenoticeandfollowcalvesfirstruminateatfourtosixmonthsandstopnursingatsixtoeightmonthsyoungmaynotreachindependenceuntiltheyaremonthsoldfemalesbecomesexuallymaturewhentheyarefouryearsoldwhilemalesbecomematureatfourorfiveyearsspermatogenesisinmalegiraffesbeginsatthreetofouryearsofagemalesmustwaituntiltheyareatleastsevenyearsoldtogaintheopportunitytomateneckingmalegiraffesusetheirnecksasweaponsincombatabehaviourknownasneckingneckingisusedtoestablishdominanceandmalesthatwinneckingboutshavegreaterreproductivesuccessthisbehaviouroccursatloworhighintensityinlowintensityneckingthecombatantsrubandleanoneachotherthemalethatcankeepitselfmoreuprightwinstheboutinhighintensityneckingthecombatantswillspreadtheirfrontlegsandswingtheirnecksateachotherattemptingtolandblowswiththeirossiconesthecontestantswilltrytododgeeachothersblowsandthenpreparetocounterthepowerofablowdependsontheweightoftheskullandthearcoftheswinganeckingduelcanlastmorethanhalfanhourdependingonhowwellmatchedthecombatantsarealthoughmostfightsdonotleadtoseriousinjurytherehavebeenrecordsofbrokenjawsbrokennecksandevendeathsafteraduelitiscommonfortwomalegiraffestocaressandcourteachothersuchinteractionsbetweenmaleshavebeenfoundtobemorefrequentthanheterosexualcouplinginonestudyuptopercentofobservedmountingincidentstookplacebetweenmalestheproportionofsamesexactivitiesvariedfromtopercentonlyonepercentofsamesexmountingincidentsoccurredbetweenfemalesmortalityandhealthgiraffeshavehighadultsurvivalprobabilityandanunusuallylonglifespancomparedtootherruminantsuptoyearsbecauseoftheirsizeeyesightandpowerfulkicksadultgiraffesareusuallynotsubjecttopredationalthoughlionsmayregularlypreyonindividualsuptokglbgiraffesarethemostcommonfoodsourceforthebigcatsinkrugernationalparkcomprisingnearlyathirdofthemeatconsumedalthoughonlyasmallportionofthegiraffeswereprobablykilledbypredatorsasamajorityoftheconsumedgiraffesappearedtobescavengedadultfemalesurvivalissignificantlycorrelatedwiththenumberofsocialassociationscalvesaremuchmorevulnerablethanadultsandarealsopreyedonbyleopardscheetahsnilecrocodilesspottedhyenasandwilddogsaquartertoahalfofgiraffecalvesreachadulthoodcalfsurvivalvariesaccordingtotheseasonofbirthwithcalvesbornduringthedryseasonhavinghighersurvivalratesthelocalseasonalpresenceoflargeherdsofmigratorywildebeestsandzebrasreducespredationpressureongiraffecalvesandincreasestheirsurvivalprobabilityinturnithasbeensuggestedthatotherungulatesmaybenefitfromassociatingwithgiraffesastheirheightallowsthemtospotpredatorsfromfurtherawayzebraswerefoundtogleaninformationonpredationriskfromgiraffebodylanguageandspendlesstimescanningtheenvironmentwhengiraffesarepresentsomeparasitesfeedongiraffestheyareoftenhostsforticksespeciallyintheareaaroundthegenitalswhichhavethinnerskinthanotherareastickspeciesthatcommonlyfeedongiraffesarethoseofgenerahyalommaamblyommaandrhipicephalusgiraffesmayrelyonredbilledandyellowbilledoxpeckerstocleanthemofticksandalertthemtodangergiraffeshostnumerousspeciesofinternalparasitesandaresusceptibletovariousdiseasestheywerevictimsofthenoweradicatedviralillnessrinderpestgiraffescanalsosufferfromaskindisorderwhichcomesintheformofwrinkleslesionsorrawfissuresasmuchasofgiraffeshavesymptomsofthediseaseinruahanationalparkbutitdidnotcausemortalityintarangireandislessprevalentinareaswithfertilesoilsrelationshipwithhumansculturalsignificancewithitslankybuildandspottedcoatthegiraffehasbeenasourceoffascinationthroughouthumanhistoryanditsimageiswidespreadincultureithasrepresentedflexibilityfarsightednessfemininityfragilitypassivitygracebeautyandthecontinentofafricaitselfgiraffesweredepictedinartthroughouttheafricancontinentincludingthatofthekiffiansegyptiansandkushitesthekiffianswereresponsibleforalifesizerockengravingoftwogiraffesdatedyearsagothathasbeencalledtheworldslargestrockartpetroglyphhowthegiraffegotitsheighthasbeenthesubjectofvariousafricanfolktalesthetugenpeopleofmodernkenyausedthegiraffetodepicttheirgodmdatheegyptiansgavethegiraffeitsownhieroglyphsrinoldegyptianandmmyinlaterperiodsgiraffeshaveapresenceinmodernwesternculturesalvadordaldepictedthemwithburningmanesinsomeofhissurrealistpaintingsdaliconsideredthegiraffetobeamasculinesymbolandaflaminggiraffewasmeanttobeamasculinecosmicapocalypticmonsterseveralchildrensbooksfeaturethegiraffeincludingdavidaufersthegiraffewhowasafraidofheightsgilesandreaesgiraffescantdanceandroalddahlsthegiraffeandthepellyandmegiraffeshaveappearedinanimatedfilmsasminorcharactersindisneysthelionkinganddumboandinmoreprominentrolesinthewildandthemadagascarfilmssophiethegiraffehasbeenapopularteethersinceanotherfamousfictionalgiraffeisthetoysrusmascotgeoffreythegiraffethegiraffehasalsobeenusedforsomescientificexperimentsanddiscoveriesscientistshaveusedthepropertiesofgiraffeskinasamodelforastronautandfighterpilotsuitsbecausethepeopleintheseprofessionsareindangerofpassingoutifbloodrushestotheirlegscomputerscientistshavemodeledthecoatpatternsofseveralsubspeciesusingreactiondiffusionmechanismstheconstellationofcamelopardalisintroducedintheseventeenthcenturydepictsagiraffethetswanapeopleofbotswanatraditionallyseetheconstellationcruxastwogiraffesacruxandmimosaformingamaleandgacruxanddeltacrucisformingthefemalecaptivitytheegyptianswereamongtheearliestpeopletokeepgiraffesincaptivityshippedthemaroundthemediterraneanthegiraffewasamongthemanyanimalscollectedanddisplayedbytheromansthefirstoneinromewasbroughtinbyjuliuscaesarinbcwiththefallofthewesternromanempirethehousingofgiraffesineuropedeclinedduringthemiddleagesgiraffeswereknowntoeuropeansthroughcontactwiththearabswhoreveredthegiraffeforitspeculiarappearanceindividualcaptivegiraffesweregivencelebritystatusthroughouthistoryinagiraffefrommalindiwastakentochinabyexplorerzhengheandplacedinamingdynastyzootheanimalwasasourceoffascinationforthechinesepeoplewhoassociateditwiththemythicalqilinthemedicigiraffewasagiraffepresentedtolorenzodemediciinitcausedagreatstironitsarrivalinflorencezarafaanotherfamousgiraffewasbroughtfromegypttoparisintheearlythcenturyasagiftforcharlesxoffranceasensationthegiraffewasthesubjectofnumerousmemorabiliaorgiraffanaliagiraffeshavebecomepopularattractionsinmodernzoosthoughkeepingthemhealthyisdifficultastheyrequirevastareasandneedtoeatlargeamountsofbrowsecaptivegiraffesinnorthamericaandeuropeappeartohaveahighermortalityratethaninthewildthemostcommoncausesbeingpoorhusbandrynutritionandmanagementgiraffesinzoosdisplaystereotypicalbehavioursparticularlythelickingofinanimateandpacingzookeepersmayoffervariousactivitiestostimulategiraffesincludingtrainingthemtotakefoodfromvisitorsstablesforgiraffesarebuiltparticularlyhightoaccommodatetheirheightexploitationgiraffeswereprobablycommontargetsforhuntersthroughoutafricadifferentpartsoftheirbodieswereusedfordifferentpurposestheirmeatwasusedforfoodthetailhairsservedasflyswattersbraceletsnecklacesandthreadsshieldssandalsanddrumsweremadeusingtheskinandthestringsofmusicalinstrumentswerefromthetendonsthesmokefromburninggiraffeskinswasusedbythemedicinemenofbugandatotreatnosebleedsthehumrpeopleofkordofanconsumethedrinkummnyolokhwhichispreparedfromtheliverandbonemarrowofgiraffesrichardrudgleyhypothesisedthatummnyolokhmightcontaindmtthedrinkissaidtocausehallucinationsofgiraffesbelievedtobethegiraffesghostsbythehumrconservationstatusingiraffeswereassessedasvulnerablefromaconservationperspectivebytheiucninitwasestimatedthereweregiraffesinthewildthisdeclinedtooverinestimatesasofindicatethereareapproximatelymembersofgiraffainthewildthemasaiandreticulatedsubspeciesareendangeredandtherothschildsubspeciesisnearthreatenedthenubiansubspeciesiscriticallyendangeredtheprimarycausesforgiraffepopulationdeclinesarehabitatlossanddirectkillingforbushmeatmarketsgiraffeshavebeenextirpatedfrommuchoftheirhistoricrangeincludingeritreaguineamauritaniaandsenegaltheymayalsohavedisappearedfromangolamaliandnigeriabuthavebeenintroducedtorwandaandeswatiniasofthereweremorethanincaptivityatspeciesregisteredzooshabitatdestructionhashurtthegiraffeinthesaheltheneedforfirewoodandgrazingroomforlivestockhasledtodeforestationnormallygiraffescancoexistwithlivestocksincetheyavoiddirectcompetitionbyfeedingabovetheminseveredroughtsinnorthernkenyaledtoincreasedtensionsoverlandandthekillingofwildlifebyherderswithgiraffepopulationsbeingparticularlyhitprotectedareaslikenationalparksprovideimportanthabitatandantipoachingprotectiontogiraffepopulationscommunitybasedconservationeffortsoutsidenationalparksarealsoeffectiveatprotectinggiraffesandtheirhabitatsprivategamereserveshavecontributedtothepreservationofgiraffepopulationsineasternandsouthernafricathegiraffeisaprotectedspeciesinmostofitsrangeitisthenationalanimaloftanzaniaandisprotectedbylawandunauthorisedkillingcanresultinimprisonmenttheunbackedconventionofmigratoryspeciesselectedgiraffesforprotectioniningiraffeswerelistedunderappendixiioftheconventiononinternationaltradeinendangeredspeciesciteswhichmeansinternationaltradeincludinginpartsderivativesisregulatedtranslocationsaresometimesusedtoaugmentorreestablishdiminishedorextirpatedpopulationsbuttheseactivitiesareriskyanddifficulttoundertakeusingthebestpracticesofextensivepreandposttranslocationstudiesandensuringaviablefoundingpopulationaerialsurveyisthemostcommonmethodofmonitoringgiraffepopulationtrendsinthevastroadlesstractsofafricanlandscapesbutaerialmethodsareknowntoundercountgiraffesgroundbasedsurveymethodsaremoreaccurateandcanbeusedinconjunctionwithaerialsurveystomakeaccurateestimatesofpopulationsizesandtrendsthegiraffeconservationfoundationhasbeencriticizedforallegedmistreatmentofgiraffesandgiraffescientistsseealsofaunaofafricagiraffecentregiraffemanorhotelinnairobiwithgiraffesreferencesexternallinksgiraffeconservationfoundation\n"
          ]
        }
      ],
      "source": [
        "print(eng1)"
      ]
    },
    {
      "cell_type": "markdown",
      "metadata": {
        "id": "XAJNs7PD_cVM"
      },
      "source": [
        "Instead of directly using characters as the features, to understand a text better, we may consider group of tokens i.e. ngrams as features.\n",
        "\n",
        "For this example let us consider that each character is one word, and let us see how n-grams work."
      ]
    },
    {
      "cell_type": "markdown",
      "metadata": {
        "id": "E1pXE4sK_0kl"
      },
      "source": [
        "\n",
        "## nltk library provides many tools for text processing, please explore them."
      ]
    },
    {
      "cell_type": "markdown",
      "metadata": {
        "id": "jXFTWwd0rk63"
      },
      "source": [
        "Now let us calculate the frequency of the character n-grams. N-grams are groups of characters of size n. A unigram is a single character and a bigram is a group of two characters and so on.\n",
        "\n",
        "Let us count the frequency of each character in a text and plot it in a histogram."
      ]
    },
    {
      "cell_type": "code",
      "execution_count": null,
      "metadata": {
        "id": "g3Lz3YUjN0L5"
      },
      "outputs": [],
      "source": [
        "## Dont worry if you do not understand these functions right away, you can revisit them and follow step-by-step.\n",
        "\n",
        "# convert a tuple of characters to a string\n",
        "def tuple2string(tup):\n",
        "  st = ''\n",
        "  for ii in tup:\n",
        "    st = st + ii\n",
        "  return st\n",
        "\n",
        "# convert a tuple of tuples to a list of strings\n",
        "def key2string(keys):\n",
        "  return [tuple2string(i) for i in keys]\n",
        "\n",
        "# plot the histogram\n",
        "def plothistogram(ngram):\n",
        "  keys = key2string(ngram.keys())\n",
        "  values = list(ngram.values())\n",
        "\n",
        "  # sort the keys in alphabetic order\n",
        "  combined = zip(keys, values) ## keys i.e. characters on x axis and their count in the given doc as values.\n",
        "  zipped_sorted = sorted(combined, key=lambda x: x[0]) ## sorting based on keys, to get a to z order.\n",
        "  keys, values = map(list, zip(*zipped_sorted))\n",
        "  plt.bar(keys, values)"
      ]
    },
    {
      "cell_type": "markdown",
      "metadata": {
        "id": "zHD62zbZcwAB"
      },
      "source": [
        "Let us compare the histograms of English pages and French pages. Can you spot a difference?"
      ]
    },
    {
      "cell_type": "code",
      "execution_count": null,
      "metadata": {
        "colab": {
          "base_uri": "https://localhost:8080/",
          "height": 545
        },
        "id": "LKcGRgH6b0KP",
        "outputId": "0cf63545-7500-4f21-b628-8e01dc26eaf2"
      },
      "outputs": [
        {
          "data": {
            "image/png": "[encoded data removed]",
            "text/plain": [
              "<Figure size 432x288 with 1 Axes>"
            ]
          },
          "metadata": {},
          "output_type": "display_data"
        },
        {
          "data": {
            "image/png": "[encoded data removed]",
            "text/plain": [
              "<Figure size 432x288 with 1 Axes>"
            ]
          },
          "metadata": {},
          "output_type": "display_data"
        }
      ],
      "source": [
        "## we passed ngrams 'n' as 1 to get unigrams. Unigram is nothing but single token (in this case character).\n",
        "## ngrams imported from nltk, it returns ngrams from given string. Counter returns dictionary with keys as elements and counts as values.\n",
        "unigram_eng1 = Counter(ngrams(eng1,1)) ##just to get count of each element.\n",
        "plothistogram(unigram_eng1)\n",
        "plt.title('English 1')\n",
        "plt.show()\n",
        "unigram_eng2 = Counter(ngrams(eng2,1))\n",
        "plothistogram(unigram_eng2)\n",
        "plt.title('English 2')\n",
        "plt.show()"
      ]
    },
    {
      "cell_type": "code",
      "execution_count": null,
      "metadata": {
        "colab": {
          "base_uri": "https://localhost:8080/",
          "height": 545
        },
        "id": "fDM_UhCL2QLt",
        "outputId": "90934ff4-a539-47a8-f041-17283b8af650"
      },
      "outputs": [
        {
          "data": {
            "image/png": "[encoded data removed]",
            "text/plain": [
              "<Figure size 432x288 with 1 Axes>"
            ]
          },
          "metadata": {},
          "output_type": "display_data"
        },
        {
          "data": {
            "image/png": "[encoded data removed]",
            "text/plain": [
              "<Figure size 432x288 with 1 Axes>"
            ]
          },
          "metadata": {},
          "output_type": "display_data"
        }
      ],
      "source": [
        "unigram_fr1 = Counter(ngrams(fr1,1))\n",
        "plothistogram(unigram_eng1)\n",
        "plt.title('French 1')\n",
        "plt.show()\n",
        "unigram_fr2 = Counter(ngrams(fr2,1))\n",
        "plothistogram(unigram_fr2)\n",
        "plt.title('French 2')\n",
        "plt.show()"
      ]
    },
    {
      "cell_type": "markdown",
      "metadata": {
        "id": "VUEys9KoA0L0"
      },
      "source": [
        "## A good feature is one that helps in easy prediction and classification.\n",
        "## for ex : if you wish to differentiate between grapes and apples, size can be one of the useful features."
      ]
    },
    {
      "cell_type": "markdown",
      "metadata": {
        "id": "kxgrdZLKdkAB"
      },
      "source": [
        "We can see that the unigrams for French and English are very similar. So this is not a good feature if we want to distinguish between English and French. Let us look at bigrams."
      ]
    },
    {
      "cell_type": "code",
      "execution_count": null,
      "metadata": {
        "colab": {
          "base_uri": "https://localhost:8080/",
          "height": 1000
        },
        "id": "OmRCxItx2T9W",
        "outputId": "b8b65e64-dbdf-40e1-cd0e-735ea0aecd70"
      },
      "outputs": [
        {
          "data": {
            "image/png": "[encoded data removed]",
            "text/plain": [
              "<Figure size 432x288 with 1 Axes>"
            ]
          },
          "metadata": {},
          "output_type": "display_data"
        },
        {
          "data": {
            "image/png": "[encoded data removed]",
            "text/plain": [
              "<Figure size 432x288 with 1 Axes>"
            ]
          },
          "metadata": {},
          "output_type": "display_data"
        },
        {
          "data": {
            "image/png": "[encoded data removed]",
            "text/plain": [
              "<Figure size 432x288 with 1 Axes>"
            ]
          },
          "metadata": {},
          "output_type": "display_data"
        },
        {
          "data": {
            "image/png": "[encoded data removed]",
            "text/plain": [
              "<Figure size 432x288 with 1 Axes>"
            ]
          },
          "metadata": {},
          "output_type": "display_data"
        }
      ],
      "source": [
        "## Now instead of unigram, we will use bigrams as features, and see how useful bigrams are as features.\n",
        "\n",
        "bigram_eng1 = Counter(ngrams(eng1,2)) # bigrams\n",
        "plothistogram(bigram_eng1)\n",
        "plt.title('English 1')\n",
        "plt.show()\n",
        "\n",
        "bigram_eng2 = Counter(ngrams(eng2,2))\n",
        "plothistogram(bigram_eng2)\n",
        "plt.title('English 2')\n",
        "plt.show()\n",
        "\n",
        "bigram_fr1 = Counter(ngrams(fr1,2))\n",
        "plothistogram(bigram_eng1)\n",
        "plt.title('French 1')\n",
        "plt.show()\n",
        "\n",
        "bigram_fr2 = Counter(ngrams(fr2,2))\n",
        "plothistogram(bigram_fr2)\n",
        "plt.title('French 2')\n",
        "plt.show()"
      ]
    },
    {
      "cell_type": "markdown",
      "metadata": {
        "id": "O-egsHMIg5Rp"
      },
      "source": [
        "Another way to visualize bigrams is to use a 2-dimensional graph."
      ]
    },
    {
      "cell_type": "code",
      "execution_count": null,
      "metadata": {
        "colab": {
          "base_uri": "https://localhost:8080/"
        },
        "id": "7LYSVe02dG59",
        "outputId": "714f28d8-9b30-4f01-8c63-8ef4041cbc84"
      },
      "outputs": [
        {
          "data": {
            "text/plain": [
              "Counter({('a', 'a'): 22,\n",
              "         ('a', 'b'): 57,\n",
              "         ('a', 'c'): 125,\n",
              "         ('a', 'd'): 96,\n",
              "         ('a', 'e'): 29,\n",
              "         ('a', 'f'): 262,\n",
              "         ('a', 'g'): 71,\n",
              "         ('a', 'h'): 19,\n",
              "         ('a', 'i'): 82,\n",
              "         ('a', 'j'): 2,\n",
              "         ('a', 'k'): 10,\n",
              "         ('a', 'l'): 403,\n",
              "         ('a', 'm'): 78,\n",
              "         ('a', 'n'): 535,\n",
              "         ('a', 'o'): 7,\n",
              "         ('a', 'p'): 74,\n",
              "         ('a', 'q'): 1,\n",
              "         ('a', 'r'): 320,\n",
              "         ('a', 's'): 234,\n",
              "         ('a', 't'): 342,\n",
              "         ('a', 'u'): 25,\n",
              "         ('a', 'v'): 78,\n",
              "         ('a', 'w'): 14,\n",
              "         ('a', 'x'): 6,\n",
              "         ('a', 'y'): 43,\n",
              "         ('a', 'z'): 1,\n",
              "         ('b', 'a'): 42,\n",
              "         ('b', 'c'): 3,\n",
              "         ('b', 'd'): 1,\n",
              "         ('b', 'e'): 121,\n",
              "         ('b', 'f'): 4,\n",
              "         ('b', 'g'): 1,\n",
              "         ('b', 'i'): 42,\n",
              "         ('b', 'j'): 4,\n",
              "         ('b', 'l'): 61,\n",
              "         ('b', 'm'): 1,\n",
              "         ('b', 'n'): 1,\n",
              "         ('b', 'o'): 40,\n",
              "         ('b', 'p'): 1,\n",
              "         ('b', 'r'): 53,\n",
              "         ('b', 's'): 15,\n",
              "         ('b', 't'): 1,\n",
              "         ('b', 'u'): 25,\n",
              "         ('b', 'y'): 29,\n",
              "         ('c', 'a'): 170,\n",
              "         ('c', 'c'): 19,\n",
              "         ('c', 'e'): 107,\n",
              "         ('c', 'g'): 1,\n",
              "         ('c', 'h'): 132,\n",
              "         ('c', 'i'): 105,\n",
              "         ('c', 'k'): 83,\n",
              "         ('c', 'l'): 34,\n",
              "         ('c', 'm'): 9,\n",
              "         ('c', 'n'): 3,\n",
              "         ('c', 'o'): 172,\n",
              "         ('c', 'p'): 1,\n",
              "         ('c', 'r'): 26,\n",
              "         ('c', 's'): 5,\n",
              "         ('c', 't'): 86,\n",
              "         ('c', 'u'): 39,\n",
              "         ('c', 'v'): 4,\n",
              "         ('c', 'w'): 2,\n",
              "         ('c', 'y'): 2,\n",
              "         ('d', 'a'): 135,\n",
              "         ('d', 'b'): 35,\n",
              "         ('d', 'c'): 24,\n",
              "         ('d', 'd'): 28,\n",
              "         ('d', 'e'): 139,\n",
              "         ('d', 'f'): 42,\n",
              "         ('d', 'g'): 25,\n",
              "         ('d', 'h'): 20,\n",
              "         ('d', 'i'): 159,\n",
              "         ('d', 'k'): 6,\n",
              "         ('d', 'l'): 31,\n",
              "         ('d', 'm'): 37,\n",
              "         ('d', 'n'): 17,\n",
              "         ('d', 'o'): 70,\n",
              "         ('d', 'p'): 24,\n",
              "         ('d', 'r'): 33,\n",
              "         ('d', 's'): 73,\n",
              "         ('d', 't'): 124,\n",
              "         ('d', 'u'): 67,\n",
              "         ('d', 'v'): 10,\n",
              "         ('d', 'w'): 14,\n",
              "         ('d', 'y'): 23,\n",
              "         ('d', 'z'): 4,\n",
              "         ('e', 'a'): 354,\n",
              "         ('e', 'b'): 74,\n",
              "         ('e', 'c'): 243,\n",
              "         ('e', 'd'): 283,\n",
              "         ('e', 'e'): 143,\n",
              "         ('e', 'f'): 85,\n",
              "         ('e', 'g'): 167,\n",
              "         ('e', 'h'): 53,\n",
              "         ('e', 'i'): 147,\n",
              "         ('e', 'j'): 1,\n",
              "         ('e', 'k'): 14,\n",
              "         ('e', 'l'): 154,\n",
              "         ('e', 'm'): 147,\n",
              "         ('e', 'n'): 332,\n",
              "         ('e', 'o'): 84,\n",
              "         ('e', 'p'): 84,\n",
              "         ('e', 'q'): 8,\n",
              "         ('e', 'r'): 475,\n",
              "         ('e', 's'): 661,\n",
              "         ('e', 't'): 173,\n",
              "         ('e', 'u'): 30,\n",
              "         ('e', 'v'): 57,\n",
              "         ('e', 'w'): 70,\n",
              "         ('e', 'x'): 47,\n",
              "         ('e', 'y'): 46,\n",
              "         ('e', 'z'): 2,\n",
              "         ('f', 'a'): 65,\n",
              "         ('f', 'b'): 9,\n",
              "         ('f', 'c'): 4,\n",
              "         ('f', 'd'): 6,\n",
              "         ('f', 'e'): 290,\n",
              "         ('f', 'f'): 266,\n",
              "         ('f', 'g'): 20,\n",
              "         ('f', 'h'): 5,\n",
              "         ('f', 'i'): 63,\n",
              "         ('f', 'k'): 1,\n",
              "         ('f', 'l'): 25,\n",
              "         ('f', 'm'): 12,\n",
              "         ('f', 'n'): 4,\n",
              "         ('f', 'o'): 123,\n",
              "         ('f', 'p'): 4,\n",
              "         ('f', 'r'): 81,\n",
              "         ('f', 's'): 13,\n",
              "         ('f', 't'): 75,\n",
              "         ('f', 'u'): 15,\n",
              "         ('f', 'v'): 2,\n",
              "         ('f', 'w'): 4,\n",
              "         ('f', 'y'): 1,\n",
              "         ('g', 'a'): 67,\n",
              "         ('g', 'b'): 7,\n",
              "         ('g', 'c'): 13,\n",
              "         ('g', 'd'): 9,\n",
              "         ('g', 'e'): 151,\n",
              "         ('g', 'f'): 4,\n",
              "         ('g', 'g'): 28,\n",
              "         ('g', 'h'): 88,\n",
              "         ('g', 'i'): 282,\n",
              "         ('g', 'j'): 2,\n",
              "         ('g', 'l'): 20,\n",
              "         ('g', 'm'): 11,\n",
              "         ('g', 'n'): 18,\n",
              "         ('g', 'o'): 22,\n",
              "         ('g', 'p'): 8,\n",
              "         ('g', 'r'): 63,\n",
              "         ('g', 's'): 41,\n",
              "         ('g', 't'): 76,\n",
              "         ('g', 'u'): 25,\n",
              "         ('g', 'v'): 2,\n",
              "         ('g', 'w'): 7,\n",
              "         ('g', 'y'): 10,\n",
              "         ('g', 'z'): 1,\n",
              "         ('h', 'a'): 239,\n",
              "         ('h', 'b'): 7,\n",
              "         ('h', 'c'): 17,\n",
              "         ('h', 'd'): 5,\n",
              "         ('h', 'e'): 703,\n",
              "         ('h', 'f'): 8,\n",
              "         ('h', 'g'): 6,\n",
              "         ('h', 'h'): 10,\n",
              "         ('h', 'i'): 144,\n",
              "         ('h', 'j'): 1,\n",
              "         ('h', 'k'): 1,\n",
              "         ('h', 'l'): 11,\n",
              "         ('h', 'm'): 14,\n",
              "         ('h', 'n'): 5,\n",
              "         ('h', 'o'): 113,\n",
              "         ('h', 'p'): 6,\n",
              "         ('h', 'r'): 23,\n",
              "         ('h', 's'): 20,\n",
              "         ('h', 't'): 74,\n",
              "         ('h', 'u'): 16,\n",
              "         ('h', 'v'): 1,\n",
              "         ('h', 'w'): 6,\n",
              "         ('h', 'y'): 21,\n",
              "         ('i', 'a'): 71,\n",
              "         ('i', 'b'): 21,\n",
              "         ('i', 'c'): 161,\n",
              "         ('i', 'd'): 47,\n",
              "         ('i', 'e'): 111,\n",
              "         ('i', 'f'): 33,\n",
              "         ('i', 'g'): 78,\n",
              "         ('i', 'i'): 4,\n",
              "         ('i', 'k'): 16,\n",
              "         ('i', 'l'): 116,\n",
              "         ('i', 'm'): 70,\n",
              "         ('i', 'n'): 592,\n",
              "         ('i', 'o'): 166,\n",
              "         ('i', 'p'): 18,\n",
              "         ('i', 'q'): 2,\n",
              "         ('i', 'r'): 319,\n",
              "         ('i', 's'): 216,\n",
              "         ('i', 't'): 264,\n",
              "         ('i', 'u'): 15,\n",
              "         ('i', 'v'): 93,\n",
              "         ('i', 'w'): 2,\n",
              "         ('i', 'x'): 6,\n",
              "         ('i', 'z'): 10,\n",
              "         ('j', 'a'): 4,\n",
              "         ('j', 'e'): 4,\n",
              "         ('j', 'o'): 2,\n",
              "         ('j', 'u'): 10,\n",
              "         ('k', 'a'): 30,\n",
              "         ('k', 'b'): 3,\n",
              "         ('k', 'c'): 1,\n",
              "         ('k', 'd'): 2,\n",
              "         ('k', 'e'): 51,\n",
              "         ('k', 'f'): 1,\n",
              "         ('k', 'g'): 6,\n",
              "         ('k', 'h'): 3,\n",
              "         ('k', 'i'): 44,\n",
              "         ('k', 'k'): 1,\n",
              "         ('k', 'l'): 5,\n",
              "         ('k', 'm'): 4,\n",
              "         ('k', 'n'): 13,\n",
              "         ('k', 'o'): 7,\n",
              "         ('k', 'p'): 4,\n",
              "         ('k', 'r'): 3,\n",
              "         ('k', 's'): 26,\n",
              "         ('k', 't'): 6,\n",
              "         ('k', 'u'): 16,\n",
              "         ('k', 'v'): 1,\n",
              "         ('k', 'w'): 4,\n",
              "         ('k', 'y'): 3,\n",
              "         ('l', 'a'): 187,\n",
              "         ('l', 'b'): 11,\n",
              "         ('l', 'c'): 17,\n",
              "         ('l', 'd'): 46,\n",
              "         ('l', 'e'): 270,\n",
              "         ('l', 'f'): 20,\n",
              "         ('l', 'g'): 10,\n",
              "         ('l', 'h'): 5,\n",
              "         ('l', 'i'): 164,\n",
              "         ('l', 'k'): 9,\n",
              "         ('l', 'l'): 136,\n",
              "         ('l', 'm'): 11,\n",
              "         ('l', 'n'): 9,\n",
              "         ('l', 'o'): 147,\n",
              "         ('l', 'p'): 15,\n",
              "         ('l', 'q'): 1,\n",
              "         ('l', 'r'): 5,\n",
              "         ('l', 's'): 70,\n",
              "         ('l', 't'): 67,\n",
              "         ('l', 'u'): 29,\n",
              "         ('l', 'v'): 28,\n",
              "         ('l', 'w'): 5,\n",
              "         ('l', 'y'): 128,\n",
              "         ('m', 'a'): 244,\n",
              "         ('m', 'b'): 29,\n",
              "         ('m', 'c'): 3,\n",
              "         ('m', 'd'): 3,\n",
              "         ('m', 'e'): 140,\n",
              "         ('m', 'f'): 11,\n",
              "         ('m', 'g'): 6,\n",
              "         ('m', 'h'): 4,\n",
              "         ('m', 'i'): 82,\n",
              "         ('m', 'k'): 1,\n",
              "         ('m', 'l'): 3,\n",
              "         ('m', 'm'): 29,\n",
              "         ('m', 'n'): 5,\n",
              "         ('m', 'o'): 142,\n",
              "         ('m', 'p'): 38,\n",
              "         ('m', 'r'): 2,\n",
              "         ('m', 's'): 12,\n",
              "         ('m', 't'): 21,\n",
              "         ('m', 'u'): 24,\n",
              "         ('m', 'v'): 1,\n",
              "         ('m', 'w'): 5,\n",
              "         ('m', 'y'): 14,\n",
              "         ('n', 'a'): 169,\n",
              "         ('n', 'b'): 25,\n",
              "         ('n', 'c'): 104,\n",
              "         ('n', 'd'): 391,\n",
              "         ('n', 'e'): 194,\n",
              "         ('n', 'f'): 29,\n",
              "         ('n', 'g'): 331,\n",
              "         ('n', 'h'): 27,\n",
              "         ('n', 'i'): 115,\n",
              "         ('n', 'j'): 4,\n",
              "         ('n', 'k'): 16,\n",
              "         ('n', 'l'): 34,\n",
              "         ('n', 'm'): 24,\n",
              "         ('n', 'n'): 19,\n",
              "         ('n', 'o'): 102,\n",
              "         ('n', 'p'): 13,\n",
              "         ('n', 'q'): 1,\n",
              "         ('n', 'r'): 23,\n",
              "         ('n', 's'): 145,\n",
              "         ('n', 't'): 313,\n",
              "         ('n', 'u'): 25,\n",
              "         ('n', 'v'): 8,\n",
              "         ('n', 'w'): 10,\n",
              "         ('n', 'x'): 1,\n",
              "         ('n', 'y'): 13,\n",
              "         ('n', 'z'): 6,\n",
              "         ('o', 'a'): 30,\n",
              "         ('o', 'b'): 28,\n",
              "         ('o', 'c'): 55,\n",
              "         ('o', 'd'): 83,\n",
              "         ('o', 'e'): 19,\n",
              "         ('o', 'f'): 196,\n",
              "         ('o', 'g'): 35,\n",
              "         ('o', 'h'): 18,\n",
              "         ('o', 'i'): 14,\n",
              "         ('o', 'k'): 28,\n",
              "         ('o', 'l'): 72,\n",
              "         ('o', 'm'): 159,\n",
              "         ('o', 'n'): 375,\n",
              "         ('o', 'o'): 60,\n",
              "         ('o', 'p'): 81,\n",
              "         ('o', 'r'): 266,\n",
              "         ('o', 's'): 103,\n",
              "         ('o', 't'): 138,\n",
              "         ('o', 'u'): 196,\n",
              "         ('o', 'v'): 35,\n",
              "         ('o', 'w'): 93,\n",
              "         ('o', 'x'): 12,\n",
              "         ('o', 'y'): 4,\n",
              "         ('p', 'a'): 81,\n",
              "         ('p', 'b'): 2,\n",
              "         ('p', 'c'): 2,\n",
              "         ('p', 'e'): 139,\n",
              "         ('p', 'f'): 1,\n",
              "         ('p', 'g'): 1,\n",
              "         ('p', 'h'): 19,\n",
              "         ('p', 'i'): 47,\n",
              "         ('p', 'l'): 33,\n",
              "         ('p', 'm'): 2,\n",
              "         ('p', 'n'): 1,\n",
              "         ('p', 'o'): 94,\n",
              "         ('p', 'p'): 44,\n",
              "         ('p', 'r'): 104,\n",
              "         ('p', 's'): 22,\n",
              "         ('p', 't'): 46,\n",
              "         ('p', 'u'): 23,\n",
              "         ('p', 'w'): 5,\n",
              "         ('p', 'y'): 2,\n",
              "         ('q', 'i'): 1,\n",
              "         ('q', 'u'): 12,\n",
              "         ('r', 'a'): 446,\n",
              "         ('r', 'b'): 17,\n",
              "         ('r', 'c'): 38,\n",
              "         ('r', 'd'): 57,\n",
              "         ('r', 'e'): 449,\n",
              "         ('r', 'f'): 31,\n",
              "         ('r', 'g'): 37,\n",
              "         ('r', 'h'): 15,\n",
              "         ('r', 'i'): 158,\n",
              "         ('r', 'j'): 2,\n",
              "         ('r', 'k'): 12,\n",
              "         ('r', 'l'): 37,\n",
              "         ('r', 'm'): 47,\n",
              "         ('r', 'n'): 57,\n",
              "         ('r', 'o'): 239,\n",
              "         ('r', 'p'): 21,\n",
              "         ('r', 'r'): 33,\n",
              "         ('r', 's'): 113,\n",
              "         ('r', 't'): 144,\n",
              "         ('r', 'u'): 39,\n",
              "         ('r', 'v'): 45,\n",
              "         ('r', 'w'): 11,\n",
              "         ('r', 'y'): 41,\n",
              "         ('r', 'z'): 1,\n",
              "         ('s', 'a'): 238,\n",
              "         ('s', 'b'): 63,\n",
              "         ('s', 'c'): 85,\n",
              "         ('s', 'd'): 33,\n",
              "         ('s', 'e'): 234,\n",
              "         ('s', 'f'): 50,\n",
              "         ('s', 'g'): 42,\n",
              "         ('s', 'h'): 98,\n",
              "         ('s', 'i'): 220,\n",
              "         ('s', 'j'): 1,\n",
              "         ('s', 'k'): 32,\n",
              "         ('s', 'l'): 46,\n",
              "         ('s', 'm'): 67,\n",
              "         ('s', 'n'): 22,\n",
              "         ('s', 'o'): 173,\n",
              "         ('s', 'p'): 117,\n",
              "         ('s', 'r'): 26,\n",
              "         ('s', 's'): 130,\n",
              "         ('s', 't'): 368,\n",
              "         ('s', 'u'): 107,\n",
              "         ('s', 'v'): 5,\n",
              "         ('s', 'w'): 83,\n",
              "         ('s', 'x'): 1,\n",
              "         ('s', 'y'): 8,\n",
              "         ('t', 'a'): 148,\n",
              "         ('t', 'b'): 11,\n",
              "         ('t', 'c'): 28,\n",
              "         ('t', 'd'): 12,\n",
              "         ('t', 'e'): 282,\n",
              "         ('t', 'f'): 19,\n",
              "         ('t', 'g'): 21,\n",
              "         ('t', 'h'): 849,\n",
              "         ('t', 'i'): 325,\n",
              "         ('t', 'j'): 2,\n",
              "         ('t', 'k'): 3,\n",
              "         ('t', 'l'): 45,\n",
              "         ('t', 'm'): 21,\n",
              "         ('t', 'n'): 6,\n",
              "         ('t', 'o'): 248,\n",
              "         ('t', 'p'): 22,\n",
              "         ('t', 'r'): 88,\n",
              "         ('t', 's'): 178,\n",
              "         ('t', 't'): 82,\n",
              "         ('t', 'u'): 52,\n",
              "         ('t', 'v'): 5,\n",
              "         ('t', 'w'): 42,\n",
              "         ('t', 'y'): 37,\n",
              "         ('u', 'a'): 26,\n",
              "         ('u', 'b'): 27,\n",
              "         ('u', 'c'): 39,\n",
              "         ('u', 'd'): 27,\n",
              "         ('u', 'e'): 13,\n",
              "         ('u', 'f'): 8,\n",
              "         ('u', 'g'): 48,\n",
              "         ('u', 'i'): 18,\n",
              "         ('u', 'l'): 103,\n",
              "         ('u', 'm'): 58,\n",
              "         ('u', 'n'): 96,\n",
              "         ('u', 'p'): 50,\n",
              "         ('u', 'r'): 128,\n",
              "         ('u', 's'): 102,\n",
              "         ('u', 't'): 56,\n",
              "         ('u', 'v'): 2,\n",
              "         ('u', 'x'): 3,\n",
              "         ('v', 'a'): 50,\n",
              "         ('v', 'e'): 231,\n",
              "         ('v', 'i'): 79,\n",
              "         ('v', 'o'): 13,\n",
              "         ('v', 'u'): 4,\n",
              "         ('w', 'a'): 49,\n",
              "         ('w', 'b'): 2,\n",
              "         ('w', 'c'): 3,\n",
              "         ('w', 'd'): 2,\n",
              "         ('w', 'e'): 77,\n",
              "         ('w', 'f'): 1,\n",
              "         ('w', 'h'): 69,\n",
              "         ('w', 'i'): 93,\n",
              "         ('w', 'l'): 1,\n",
              "         ('w', 'm'): 2,\n",
              "         ('w', 'n'): 21,\n",
              "         ('w', 'o'): 28,\n",
              "         ('w', 'r'): 4,\n",
              "         ('w', 's'): 23,\n",
              "         ('w', 't'): 10,\n",
              "         ('w', 'w'): 2,\n",
              "         ('x', 'a'): 5,\n",
              "         ('x', 'b'): 1,\n",
              "         ('x', 'c'): 3,\n",
              "         ('x', 'e'): 2,\n",
              "         ('x', 'g'): 1,\n",
              "         ('x', 'i'): 15,\n",
              "         ('x', 'l'): 1,\n",
              "         ('x', 'm'): 3,\n",
              "         ('x', 'o'): 8,\n",
              "         ('x', 'p'): 8,\n",
              "         ('x', 's'): 3,\n",
              "         ('x', 't'): 20,\n",
              "         ('x', 'u'): 6,\n",
              "         ('x', 'w'): 2,\n",
              "         ('x', 'y'): 2,\n",
              "         ('y', 'a'): 60,\n",
              "         ('y', 'b'): 16,\n",
              "         ('y', 'c'): 13,\n",
              "         ('y', 'd'): 9,\n",
              "         ('y', 'e'): 23,\n",
              "         ('y', 'f'): 17,\n",
              "         ('y', 'g'): 20,\n",
              "         ('y', 'h'): 16,\n",
              "         ('y', 'i'): 25,\n",
              "         ('y', 'j'): 1,\n",
              "         ('y', 'k'): 1,\n",
              "         ('y', 'l'): 19,\n",
              "         ('y', 'm'): 13,\n",
              "         ('y', 'n'): 12,\n",
              "         ('y', 'o'): 33,\n",
              "         ('y', 'p'): 35,\n",
              "         ('y', 'r'): 15,\n",
              "         ('y', 's'): 44,\n",
              "         ('y', 't'): 39,\n",
              "         ('y', 'u'): 4,\n",
              "         ('y', 'w'): 6,\n",
              "         ('y', 'x'): 4,\n",
              "         ('y', 'z'): 2,\n",
              "         ('z', 'a'): 4,\n",
              "         ('z', 'e'): 12,\n",
              "         ('z', 'h'): 1,\n",
              "         ('z', 'i'): 3,\n",
              "         ('z', 'o'): 7})"
            ]
          },
          "execution_count": 32,
          "metadata": {},
          "output_type": "execute_result"
        }
      ],
      "source": [
        "## lets have a lot at bigrams.\n",
        "\n",
        "bigram_eng1\n"
      ]
    },
    {
      "cell_type": "code",
      "execution_count": null,
      "metadata": {
        "id": "3EaPJgtaVxZM"
      },
      "outputs": [],
      "source": [
        "## a function to plot 2-D histogram. The values are color mapped.\n",
        "\n",
        "def plotbihistogram(ngram):\n",
        "  freq = np.zeros((26,26))\n",
        "  for ii in range(26):\n",
        "    for jj in range(26):\n",
        "      freq[ii,jj] = ngram[(chr(ord('a')+ii), chr(ord('a')+jj))] #ord converts char to code\n",
        "  plt.imshow(freq, cmap = 'jet')\n",
        "  plt.colorbar()\n",
        "  return freq"
      ]
    },
    {
      "cell_type": "code",
      "execution_count": null,
      "metadata": {
        "colab": {
          "base_uri": "https://localhost:8080/"
        },
        "id": "4IFVtO8q8TJB",
        "outputId": "1fcedf5f-b3f2-4bf4-c07f-51a50702f93e"
      },
      "outputs": [
        {
          "data": {
            "text/plain": [
              "<function ord>"
            ]
          },
          "execution_count": 50,
          "metadata": {},
          "output_type": "execute_result"
        }
      ],
      "source": [
        "ord"
      ]
    },
    {
      "cell_type": "code",
      "execution_count": null,
      "metadata": {
        "colab": {
          "base_uri": "https://localhost:8080/",
          "height": 513
        },
        "id": "M7jq3AwnVzQT",
        "outputId": "057c66cf-b530-41fb-eebb-b1cda1534d05"
      },
      "outputs": [
        {
          "data": {
            "image/png": "[encoded data removed]",
            "text/plain": [
              "<Figure size 432x288 with 2 Axes>"
            ]
          },
          "metadata": {},
          "output_type": "display_data"
        },
        {
          "data": {
            "image/png": "[encoded data removed]",
            "text/plain": [
              "<Figure size 432x288 with 2 Axes>"
            ]
          },
          "metadata": {},
          "output_type": "display_data"
        }
      ],
      "source": [
        "bieng1 = plotbihistogram(bigram_eng1)\n",
        "plt.show()\n",
        "bieng2 = plotbihistogram(bigram_eng2)"
      ]
    },
    {
      "cell_type": "code",
      "execution_count": null,
      "metadata": {
        "colab": {
          "base_uri": "https://localhost:8080/",
          "height": 513
        },
        "id": "UXPTOj67WsPT",
        "outputId": "9e4d44aa-076b-402f-b665-c8a0ed575fb2"
      },
      "outputs": [
        {
          "data": {
            "image/png": "[encoded data removed]",
            "text/plain": [
              "<Figure size 432x288 with 2 Axes>"
            ]
          },
          "metadata": {},
          "output_type": "display_data"
        },
        {
          "data": {
            "image/png": "[encoded data removed]",
            "text/plain": [
              "<Figure size 432x288 with 2 Axes>"
            ]
          },
          "metadata": {},
          "output_type": "display_data"
        }
      ],
      "source": [
        "bifr1 = plotbihistogram(bigram_fr1)\n",
        "plt.show()\n",
        "bifr2 = plotbihistogram(bigram_fr2)"
      ]
    },
    {
      "cell_type": "markdown",
      "metadata": {
        "id": "rGOEHcyGokD0"
      },
      "source": [
        "Let us look at the top 10 ngrams for each text."
      ]
    },
    {
      "cell_type": "code",
      "execution_count": null,
      "metadata": {
        "id": "dk2TkzTno8vb"
      },
      "outputs": [],
      "source": [
        "from IPython.core.debugger import set_trace\n",
        "\n",
        "def ind2tup(ind):\n",
        "  ind = int(ind)\n",
        "  i = int(ind/26)\n",
        "  j = int(ind%26)\n",
        "  return (chr(ord('a')+i), chr(ord('a')+j))\n",
        "\n",
        "def ShowTopN(bifreq, n=10):\n",
        "  f = bifreq.flatten()\n",
        "  arg = np.argsort(-f)\n",
        "  for ii in range(n):\n",
        "    print(f'{ind2tup(arg[ii])} : {f[arg[ii]]}')\n"
      ]
    },
    {
      "cell_type": "code",
      "execution_count": null,
      "metadata": {
        "colab": {
          "base_uri": "https://localhost:8080/"
        },
        "id": "_HeWNh_q0QZ1",
        "outputId": "d0ca7318-d544-472a-f023-53e7992ba8d0"
      },
      "outputs": [
        {
          "name": "stdout",
          "output_type": "stream",
          "text": [
            "\n",
            "English 1:\n",
            "('t', 'h') : 849.0\n",
            "('h', 'e') : 703.0\n",
            "('e', 's') : 661.0\n",
            "('i', 'n') : 592.0\n",
            "('a', 'n') : 535.0\n",
            "('e', 'r') : 475.0\n",
            "('r', 'e') : 449.0\n",
            "('r', 'a') : 446.0\n",
            "('a', 'l') : 403.0\n",
            "('n', 'd') : 391.0\n",
            "\n",
            "English 2:\n",
            "('t', 'h') : 1475.0\n",
            "('a', 'n') : 1361.0\n",
            "('h', 'e') : 1188.0\n",
            "('i', 'n') : 1008.0\n",
            "('n', 't') : 826.0\n",
            "('e', 'r') : 800.0\n",
            "('e', 's') : 756.0\n",
            "('r', 'e') : 752.0\n",
            "('l', 'e') : 718.0\n",
            "('h', 'a') : 712.0\n",
            "\n",
            "French 1:\n",
            "('e', 's') : 645.0\n",
            "('l', 'e') : 393.0\n",
            "('e', 'n') : 367.0\n",
            "('d', 'e') : 349.0\n",
            "('o', 'n') : 308.0\n",
            "('n', 't') : 289.0\n",
            "('r', 'e') : 289.0\n",
            "('e', 'l') : 277.0\n",
            "('r', 'a') : 230.0\n",
            "('l', 'a') : 227.0\n",
            "\n",
            "French 2:\n",
            "('e', 's') : 1034.0\n",
            "('n', 't') : 796.0\n",
            "('d', 'e') : 657.0\n",
            "('e', 'n') : 650.0\n",
            "('l', 'e') : 626.0\n",
            "('a', 'n') : 555.0\n",
            "('o', 'n') : 484.0\n",
            "('r', 'e') : 484.0\n",
            "('e', 'l') : 439.0\n",
            "('s', 'e') : 391.0\n"
          ]
        }
      ],
      "source": [
        "print('\\nEnglish 1:')\n",
        "ShowTopN(bieng1)\n",
        "print('\\nEnglish 2:')\n",
        "ShowTopN(bieng2)\n",
        "print('\\nFrench 1:')\n",
        "ShowTopN(bifr1)\n",
        "print('\\nFrench 2:')\n",
        "ShowTopN(bifr2)"
      ]
    },
    {
      "cell_type": "markdown",
      "metadata": {
        "id": "RfwwQj_4CyBA"
      },
      "source": [
        "## At times, we need to reduce the number of features. We will discuss this more in the upcoming sessions, but a small example has been discussed here. Instead of using each unique token (a word) as a feature, we reduced the number of features by using 1-gram and 2-gram of characters as features."
      ]
    },
    {
      "cell_type": "markdown",
      "metadata": {
        "id": "6kDovOP4l98z"
      },
      "source": [
        "We observe that the bigrams are similar across different topics but different across languages. Thus, the bigram frequency is a good feature for distinguishing languages, but not for distinguishing topics.\n",
        "\n",
        "Thus, we were able to convert a many-dimensional input (the text) to 26 dimesions (unigrams) or 26*26 dimensions (bigrams).\n",
        "\n",
        "\n",
        "A few ways to explore:\n",
        "1. Try with different languages.\n",
        "2. The topics we used are quite similar, wikipedia articles of 'elephant' and 'giraffe'. What happens if we use very different topics? What if we use text from another source than Wikipedia?\n",
        "3. How can we use and visualize trigrams and higher n-grams?"
      ]
    },
    {
      "cell_type": "markdown",
      "metadata": {
        "id": "CpA1eKZiDjTm"
      },
      "source": [
        "## Features of Images.\n",
        "### Images in digital format are stored as numeric values, and hence we can use these values as features. for ex : a black and white (binary) image is stored as an array of 0  and 255 or 0 and 1."
      ]
    },
    {
      "cell_type": "markdown",
      "metadata": {
        "id": "2ZJfjIHk-oHV"
      },
      "source": [
        "# Part 2: Written numbers\n",
        "\n",
        "We will use a subset of the MNIST dataset. Each input character is represented in a 28*28 array. Let us see if we can extract some simple features from these images which can help us distinguish between the digits.\n",
        "\n",
        "Load the dataset:"
      ]
    },
    {
      "cell_type": "code",
      "execution_count": null,
      "metadata": {
        "colab": {
          "base_uri": "https://localhost:8080/"
        },
        "id": "yNsLJSr6wGY0",
        "outputId": "2d85447f-6b4d-4781-de0a-b777ec0fa3ee"
      },
      "outputs": [
        {
          "name": "stdout",
          "output_type": "stream",
          "text": [
            "Downloading data from https://storage.googleapis.com/tensorflow/tf-keras-datasets/mnist.npz\n",
            "11493376/11490434 [==============================] - 0s 0us/step\n",
            "11501568/11490434 [==============================] - 0s 0us/step\n"
          ]
        }
      ],
      "source": [
        "from keras.datasets import mnist\n",
        "\n",
        "#loading the dataset\n",
        "(train_X, train_y), (test_X, test_y) = mnist.load_data()\n",
        "\n"
      ]
    },
    {
      "cell_type": "markdown",
      "metadata": {
        "id": "jVNr144WAUZO"
      },
      "source": [
        "Extract a subset of the data for our experiment:"
      ]
    },
    {
      "cell_type": "code",
      "execution_count": null,
      "metadata": {
        "id": "P3MN8ddxAASZ"
      },
      "outputs": [],
      "source": [
        "no1 = train_X[train_y==1,:,:] ## dataset corresponding to number = 1.\n",
        "no0 = train_X[train_y==0,:,:] ## dataset corresponding to number = 0."
      ]
    },
    {
      "cell_type": "markdown",
      "metadata": {
        "id": "ePXCs0qyCLpc"
      },
      "source": [
        "Let us visualize a few images here:"
      ]
    },
    {
      "cell_type": "code",
      "execution_count": null,
      "metadata": {
        "colab": {
          "base_uri": "https://localhost:8080/",
          "height": 201
        },
        "id": "BQeyZSh-Arpc",
        "outputId": "11dc25cd-b525-4b92-f876-83693bfbf4c1"
      },
      "outputs": [
        {
          "data": {
            "image/png": "[encoded data removed]",
            "text/plain": [
              "<Figure size 432x288 with 5 Axes>"
            ]
          },
          "metadata": {},
          "output_type": "display_data"
        },
        {
          "data": {
            "image/png": "[encoded data removed]",
            "text/plain": [
              "<Figure size 432x288 with 5 Axes>"
            ]
          },
          "metadata": {},
          "output_type": "display_data"
        }
      ],
      "source": [
        "for ii in range(5):\n",
        "  plt.subplot(1, 5, ii+1)\n",
        "  plt.imshow(no1[ii,:,:])\n",
        "plt.show()\n",
        "for ii in range(5):\n",
        "  plt.subplot(1, 5, ii+1)\n",
        "  plt.imshow(no0[ii,:,:])\n",
        "plt.show()"
      ]
    },
    {
      "cell_type": "code",
      "execution_count": null,
      "metadata": {
        "colab": {
          "base_uri": "https://localhost:8080/"
        },
        "id": "n2UFfFWhCYzT",
        "outputId": "c9d5c26a-3a08-4a09-ed81-d9f5cea5dd71"
      },
      "outputs": [
        {
          "data": {
            "text/plain": [
              "((6742, 28, 28), (6742, 28, 28))"
            ]
          },
          "execution_count": 63,
          "metadata": {},
          "output_type": "execute_result"
        }
      ],
      "source": [
        "a = no1>0\n",
        "a.shape, no1.shape"
      ]
    },
    {
      "cell_type": "code",
      "execution_count": null,
      "metadata": {
        "colab": {
          "base_uri": "https://localhost:8080/"
        },
        "id": "LHjttKNkDK29",
        "outputId": "4fda780c-e954-4e74-c506-48ed69a937fb"
      },
      "outputs": [
        {
          "data": {
            "text/plain": [
              "numpy.bool_"
            ]
          },
          "execution_count": 81,
          "metadata": {},
          "output_type": "execute_result"
        }
      ],
      "source": [
        "## to help you understand how the np.sum is working to find count of pixels that are not zero.\n",
        "\n",
        "mtx = np.arange(8).reshape(2,2,2)\n",
        "a = mtx>1\n",
        "a[0][0][0]\n",
        "type(a[0][0][0])\n"
      ]
    },
    {
      "cell_type": "markdown",
      "metadata": {
        "id": "2_1n_KXkE3zg"
      },
      "source": [
        "## We can even use value of each pixel as a feature. But let us see how to derive other features."
      ]
    },
    {
      "cell_type": "markdown",
      "metadata": {
        "id": "1g-Tg7EKDz96"
      },
      "source": [
        "Now, let us start with a simple feature: the sum of all pixels and see how good this feature is."
      ]
    },
    {
      "cell_type": "code",
      "execution_count": null,
      "metadata": {
        "id": "I8SztDk7CyZc"
      },
      "outputs": [],
      "source": [
        "## sum of pixel values.\n",
        "\n",
        "sum1 = np.sum(no1>0, (1,2)) # threshold before adding up\n",
        "sum0 = np.sum(no0>0, (1,2))"
      ]
    },
    {
      "cell_type": "markdown",
      "metadata": {
        "id": "8oW3XCOCE7Zv"
      },
      "source": [
        "Let us visualize how good this feature is: (X-axis is mean, y-axis is the digit)"
      ]
    },
    {
      "cell_type": "code",
      "execution_count": null,
      "metadata": {
        "colab": {
          "base_uri": "https://localhost:8080/"
        },
        "id": "LDz2vOp_GAZr",
        "outputId": "33d5c3f2-67f3-42ab-d07f-7ec7ebc8b8a2"
      },
      "outputs": [
        {
          "data": {
            "text/plain": [
              "(6742,)"
            ]
          },
          "execution_count": 83,
          "metadata": {},
          "output_type": "execute_result"
        }
      ],
      "source": [
        "sum1.shape"
      ]
    },
    {
      "cell_type": "code",
      "execution_count": null,
      "metadata": {
        "colab": {
          "base_uri": "https://localhost:8080/",
          "height": 265
        },
        "id": "i8PIe8o_DPpU",
        "outputId": "8176810e-3ede-4298-8278-89a603a89b6b"
      },
      "outputs": [
        {
          "data": {
            "image/png": "[encoded data removed]",
            "text/plain": [
              "<Figure size 432x288 with 1 Axes>"
            ]
          },
          "metadata": {},
          "output_type": "display_data"
        }
      ],
      "source": [
        "plt.hist(sum1, alpha=0.7);\n",
        "plt.hist(sum0, alpha=0.7);\n",
        "\n"
      ]
    },
    {
      "cell_type": "markdown",
      "metadata": {
        "id": "7_hToEepFtl2"
      },
      "source": [
        "We can already see that this feature separates the two classes quite well.\n",
        "\n",
        "Let us look at another, more complicated feature. We will count the number black pixels that are surrounded on four sides by non-black pixels, or \"hole pixels\"."
      ]
    },
    {
      "cell_type": "code",
      "execution_count": null,
      "metadata": {
        "id": "HwEnlm6RFFej"
      },
      "outputs": [],
      "source": [
        "def cumArray(img):\n",
        "  img2 = img.copy()\n",
        "  for ii in range(1, img2.shape[1]):\n",
        "    img2[ii,:] = img2[ii,:] + img2[ii-1,:]  # for every row, add up all the rows above it.\n",
        "  #print(img2)\n",
        "  img2 = img2>0\n",
        "  #print(img2)\n",
        "  return img2\n",
        "\n",
        "def getHolePixels(img):\n",
        "  im1 = cumArray(img)\n",
        "  im2 = np.rot90(cumArray(np.rot90(img)), 3) # rotate and cumulate it again for differnt direction\n",
        "  im3 = np.rot90(cumArray(np.rot90(img, 2)), 2)\n",
        "  im4 = np.rot90(cumArray(np.rot90(img, 3)), 1)\n",
        "  hull =  im1 & im2 & im3 & im4 # this will create a binary image with all the holes filled in.\n",
        "  hole = hull & ~ (img>0) # remove the original digit to leave behind the holes\n",
        "  return hole\n",
        "\n",
        "\n"
      ]
    },
    {
      "cell_type": "markdown",
      "metadata": {
        "id": "iw3HjgnupUEI"
      },
      "source": [
        "Visualize a few:"
      ]
    },
    {
      "cell_type": "code",
      "execution_count": null,
      "metadata": {
        "colab": {
          "base_uri": "https://localhost:8080/",
          "height": 385
        },
        "id": "H0sjr23NYEFe",
        "outputId": "9bc34475-3466-42df-9e89-6e1b730a0ba2"
      },
      "outputs": [
        {
          "data": {
            "image/png": "[encoded data removed]",
            "text/plain": [
              "<Figure size 432x288 with 2 Axes>"
            ]
          },
          "metadata": {},
          "output_type": "display_data"
        },
        {
          "data": {
            "image/png": "[encoded data removed]",
            "text/plain": [
              "<Figure size 432x288 with 2 Axes>"
            ]
          },
          "metadata": {},
          "output_type": "display_data"
        }
      ],
      "source": [
        "imgs = [no1[456,:,:],  no0[456,:,:]]\n",
        "for img in imgs:\n",
        "  plt.subplot(1,2,1)\n",
        "  plt.imshow(getHolePixels(img))\n",
        "  plt.subplot(1,2,2)\n",
        "  plt.imshow(img)\n",
        "  plt.show()"
      ]
    },
    {
      "cell_type": "markdown",
      "metadata": {
        "id": "vS-4erNXtxMi"
      },
      "source": [
        "Now let us plot the number of hole pixels and see how this feature behaves"
      ]
    },
    {
      "cell_type": "code",
      "execution_count": null,
      "metadata": {
        "colab": {
          "base_uri": "https://localhost:8080/",
          "height": 265
        },
        "id": "Dpm1dRgsety8",
        "outputId": "47d1b32c-2081-46bd-bc88-f4e91a999777"
      },
      "outputs": [
        {
          "data": {
            "image/png": "[encoded data removed]",
            "text/plain": [
              "<Figure size 432x288 with 1 Axes>"
            ]
          },
          "metadata": {},
          "output_type": "display_data"
        }
      ],
      "source": [
        "hole1 = np.array([getHolePixels(i).sum() for i in no1])\n",
        "hole0 = np.array([getHolePixels(i).sum() for i in no0])\n",
        "\n",
        "plt.hist(hole1, alpha=0.7);\n",
        "plt.hist(hole0, alpha=0.7);"
      ]
    },
    {
      "cell_type": "markdown",
      "metadata": {
        "id": "8UjCBHpJ31yq"
      },
      "source": [
        "This feature works even better to distinguish between one and zero.\n",
        "\n",
        "\n",
        "Now let us try the number of pixels in the 'hull' or the number with the holes filled in:"
      ]
    },
    {
      "cell_type": "markdown",
      "metadata": {
        "id": "OSzH26ElXNri"
      },
      "source": [
        "Let us try one more feature, where we look at the number of boundary pixels in each image."
      ]
    },
    {
      "cell_type": "code",
      "execution_count": null,
      "metadata": {
        "id": "h-2czBypXMwT"
      },
      "outputs": [],
      "source": [
        "def minus(a, b):\n",
        "  return a & ~ b\n",
        "\n",
        "def getBoundaryPixels(img):\n",
        "  img = img.copy()>0  # binarize the image\n",
        "  rshift = np.roll(img, 1, 1)\n",
        "  lshift = np.roll(img, -1 ,1)\n",
        "  ushift = np.roll(img, -1, 0)\n",
        "  dshift = np.roll(img, 1, 0)\n",
        "  boundary = minus(img, rshift) | minus(img, lshift) | minus(img, ushift) | minus(img, dshift)\n",
        "  return boundary"
      ]
    },
    {
      "cell_type": "code",
      "execution_count": null,
      "metadata": {
        "colab": {
          "base_uri": "https://localhost:8080/",
          "height": 385
        },
        "id": "u-V688jFerXh",
        "outputId": "64c799af-b14b-438e-8582-87927564fc03"
      },
      "outputs": [
        {
          "data": {
            "image/png": "[encoded data removed]",
            "text/plain": [
              "<Figure size 432x288 with 2 Axes>"
            ]
          },
          "metadata": {},
          "output_type": "display_data"
        },
        {
          "data": {
            "image/png": "[encoded data removed]",
            "text/plain": [
              "<Figure size 432x288 with 2 Axes>"
            ]
          },
          "metadata": {},
          "output_type": "display_data"
        }
      ],
      "source": [
        "imgs = [no1[456,:,:],  no0[456,:,:]]\n",
        "for img in imgs:\n",
        "  plt.subplot(1,2,1)\n",
        "  plt.imshow(getBoundaryPixels(img))\n",
        "  plt.subplot(1,2,2)\n",
        "  plt.imshow(img)\n",
        "  plt.show()"
      ]
    },
    {
      "cell_type": "code",
      "execution_count": null,
      "metadata": {
        "colab": {
          "base_uri": "https://localhost:8080/",
          "height": 265
        },
        "id": "kSsxsbCNXcNh",
        "outputId": "c644cf7b-9ed2-431a-f2e5-90ad1b95f168"
      },
      "outputs": [
        {
          "data": {
            "image/png": "[encoded data removed]",
            "text/plain": [
              "<Figure size 432x288 with 1 Axes>"
            ]
          },
          "metadata": {},
          "output_type": "display_data"
        }
      ],
      "source": [
        "bound1 = np.array([getBoundaryPixels(i).sum() for i in no1])\n",
        "bound0= np.array([getBoundaryPixels(i).sum() for i in no0])\n",
        "\n",
        "plt.hist(bound1, alpha=0.7);\n",
        "plt.hist(bound0, alpha=0.7);"
      ]
    },
    {
      "cell_type": "markdown",
      "metadata": {
        "id": "WuP04Ao_R0Yz"
      },
      "source": [
        "What will happen if we plot two features together?"
      ]
    },
    {
      "cell_type": "markdown",
      "metadata": {
        "id": "paDGHlFSd5Fu"
      },
      "source": [
        "Feel free to explore the above graph with your mouse.\n",
        "\n",
        "\n",
        "We have seen that we extracted four features from a 28*28 dimensional image.\n",
        "\n",
        "\n",
        "Some questions to explore:\n",
        "1. Which is the best combination of features?\n",
        "2. How would you test or visualize four or more features?\n",
        "3. Can you come up with your own features?\n",
        "4. Will these features work for different classes other than 0 and 1?\n",
        "5. What will happen if we take more that two classes at a time?"
      ]
    },
    {
      "cell_type": "markdown",
      "metadata": {
        "id": "gIJdT3tYIMyN"
      },
      "source": [
        "## Features from CSV file"
      ]
    },
    {
      "cell_type": "code",
      "execution_count": null,
      "metadata": {
        "id": "SfR0jKjRI9fx"
      },
      "outputs": [],
      "source": [
        "import pandas as pd\n",
        "\n",
        "df = pd.read_csv('/content/sample_data/california_housing_train.csv')"
      ]
    },
    {
      "cell_type": "code",
      "execution_count": null,
      "metadata": {
        "colab": {
          "base_uri": "https://localhost:8080/",
          "height": 206
        },
        "id": "9VU02WsOJLs_",
        "outputId": "07cd0d6e-3189-4da5-f332-5294bd533a79"
      },
      "outputs": [
        {
          "data": {
            "text/html": [
              "\n",
              "  <div id=\"df-b32cb950-964a-4fdd-bdc8-7ca58facaca7\">\n",
              "    <div class=\"colab-df-container\">\n",
              "      <div>\n",
              "<style scoped>\n",
              "    .dataframe tbody tr th:only-of-type {\n",
              "        vertical-align: middle;\n",
              "    }\n",
              "\n",
              "    .dataframe tbody tr th {\n",
              "        vertical-align: top;\n",
              "    }\n",
              "\n",
              "    .dataframe thead th {\n",
              "        text-align: right;\n",
              "    }\n",
              "</style>\n",
              "<table border=\"1\" class=\"dataframe\">\n",
              "  <thead>\n",
              "    <tr style=\"text-align: right;\">\n",
              "      <th></th>\n",
              "      <th>longitude</th>\n",
              "      <th>latitude</th>\n",
              "      <th>housing_median_age</th>\n",
              "      <th>total_rooms</th>\n",
              "      <th>total_bedrooms</th>\n",
              "      <th>population</th>\n",
              "      <th>households</th>\n",
              "      <th>median_income</th>\n",
              "      <th>median_house_value</th>\n",
              "    </tr>\n",
              "  </thead>\n",
              "  <tbody>\n",
              "    <tr>\n",
              "      <th>0</th>\n",
              "      <td>-114.31</td>\n",
              "      <td>34.19</td>\n",
              "      <td>15.0</td>\n",
              "      <td>5612.0</td>\n",
              "      <td>1283.0</td>\n",
              "      <td>1015.0</td>\n",
              "      <td>472.0</td>\n",
              "      <td>1.4936</td>\n",
              "      <td>66900.0</td>\n",
              "    </tr>\n",
              "    <tr>\n",
              "      <th>1</th>\n",
              "      <td>-114.47</td>\n",
              "      <td>34.40</td>\n",
              "      <td>19.0</td>\n",
              "      <td>7650.0</td>\n",
              "      <td>1901.0</td>\n",
              "      <td>1129.0</td>\n",
              "      <td>463.0</td>\n",
              "      <td>1.8200</td>\n",
              "      <td>80100.0</td>\n",
              "    </tr>\n",
              "    <tr>\n",
              "      <th>2</th>\n",
              "      <td>-114.56</td>\n",
              "      <td>33.69</td>\n",
              "      <td>17.0</td>\n",
              "      <td>720.0</td>\n",
              "      <td>174.0</td>\n",
              "      <td>333.0</td>\n",
              "      <td>117.0</td>\n",
              "      <td>1.6509</td>\n",
              "      <td>85700.0</td>\n",
              "    </tr>\n",
              "    <tr>\n",
              "      <th>3</th>\n",
              "      <td>-114.57</td>\n",
              "      <td>33.64</td>\n",
              "      <td>14.0</td>\n",
              "      <td>1501.0</td>\n",
              "      <td>337.0</td>\n",
              "      <td>515.0</td>\n",
              "      <td>226.0</td>\n",
              "      <td>3.1917</td>\n",
              "      <td>73400.0</td>\n",
              "    </tr>\n",
              "    <tr>\n",
              "      <th>4</th>\n",
              "      <td>-114.57</td>\n",
              "      <td>33.57</td>\n",
              "      <td>20.0</td>\n",
              "      <td>1454.0</td>\n",
              "      <td>326.0</td>\n",
              "      <td>624.0</td>\n",
              "      <td>262.0</td>\n",
              "      <td>1.9250</td>\n",
              "      <td>65500.0</td>\n",
              "    </tr>\n",
              "  </tbody>\n",
              "</table>\n",
              "</div>\n",
              "      <button class=\"colab-df-convert\" onclick=\"convertToInteractive('df-b32cb950-964a-4fdd-bdc8-7ca58facaca7')\"\n",
              "              title=\"Convert this dataframe to an interactive table.\"\n",
              "              style=\"display:none;\">\n",
              "        \n",
              "  <svg xmlns=\"http://www.w3.org/2000/svg\" height=\"24px\"viewBox=\"0 0 24 24\"\n",
              "       width=\"24px\">\n",
              "    <path d=\"M0 0h24v24H0V0z\" fill=\"none\"/>\n",
              "    <path d=\"M18.56 5.44l.94 2.06.94-2.06 2.06-.94-2.06-.94-.94-2.06-.94 2.06-2.06.94zm-11 1L8.5 8.5l.94-2.06 2.06-.94-2.06-.94L8.5 2.5l-.94 2.06-2.06.94zm10 10l.94 2.06.94-2.06 2.06-.94-2.06-.94-.94-2.06-.94 2.06-2.06.94z\"/><path d=\"M17.41 7.96l-1.37-1.37c-.4-.4-.92-.59-1.43-.59-.52 0-1.04.2-1.43.59L10.3 9.45l-7.72 7.72c-.78.78-.78 2.05 0 2.83L4 21.41c.39.39.9.59 1.41.59.51 0 1.02-.2 1.41-.59l7.78-7.78 2.81-2.81c.8-.78.8-2.07 0-2.86zM5.41 20L4 18.59l7.72-7.72 1.47 1.35L5.41 20z\"/>\n",
              "  </svg>\n",
              "      </button>\n",
              "      \n",
              "  <style>\n",
              "    .colab-df-container {\n",
              "      display:flex;\n",
              "      flex-wrap:wrap;\n",
              "      gap: 12px;\n",
              "    }\n",
              "\n",
              "    .colab-df-convert {\n",
              "      background-color: #E8F0FE;\n",
              "      border: none;\n",
              "      border-radius: 50%;\n",
              "      cursor: pointer;\n",
              "      display: none;\n",
              "      fill: #1967D2;\n",
              "      height: 32px;\n",
              "      padding: 0 0 0 0;\n",
              "      width: 32px;\n",
              "    }\n",
              "\n",
              "    .colab-df-convert:hover {\n",
              "      background-color: #E2EBFA;\n",
              "      box-shadow: 0px 1px 2px rgba(60, 64, 67, 0.3), 0px 1px 3px 1px rgba(60, 64, 67, 0.15);\n",
              "      fill: #174EA6;\n",
              "    }\n",
              "\n",
              "    [theme=dark] .colab-df-convert {\n",
              "      background-color: #3B4455;\n",
              "      fill: #D2E3FC;\n",
              "    }\n",
              "\n",
              "    [theme=dark] .colab-df-convert:hover {\n",
              "      background-color: #434B5C;\n",
              "      box-shadow: 0px 1px 3px 1px rgba(0, 0, 0, 0.15);\n",
              "      filter: drop-shadow(0px 1px 2px rgba(0, 0, 0, 0.3));\n",
              "      fill: #FFFFFF;\n",
              "    }\n",
              "  </style>\n",
              "\n",
              "      <script>\n",
              "        const buttonEl =\n",
              "          document.querySelector('#df-b32cb950-964a-4fdd-bdc8-7ca58facaca7 button.colab-df-convert');\n",
              "        buttonEl.style.display =\n",
              "          google.colab.kernel.accessAllowed ? 'block' : 'none';\n",
              "\n",
              "        async function convertToInteractive(key) {\n",
              "          const element = document.querySelector('#df-b32cb950-964a-4fdd-bdc8-7ca58facaca7');\n",
              "          const dataTable =\n",
              "            await google.colab.kernel.invokeFunction('convertToInteractive',\n",
              "                                                     [key], {});\n",
              "          if (!dataTable) return;\n",
              "\n",
              "          const docLinkHtml = 'Like what you see? Visit the ' +\n",
              "            '<a target=\"_blank\" href=https://colab.research.google.com/notebooks/data_table.ipynb>data table notebook</a>'\n",
              "            + ' to learn more about interactive tables.';\n",
              "          element.innerHTML = '';\n",
              "          dataTable['output_type'] = 'display_data';\n",
              "          await google.colab.output.renderOutput(dataTable, element);\n",
              "          const docLink = document.createElement('div');\n",
              "          docLink.innerHTML = docLinkHtml;\n",
              "          element.appendChild(docLink);\n",
              "        }\n",
              "      </script>\n",
              "    </div>\n",
              "  </div>\n",
              "  "
            ],
            "text/plain": [
              "   longitude  latitude  ...  median_income  median_house_value\n",
              "0    -114.31     34.19  ...         1.4936             66900.0\n",
              "1    -114.47     34.40  ...         1.8200             80100.0\n",
              "2    -114.56     33.69  ...         1.6509             85700.0\n",
              "3    -114.57     33.64  ...         3.1917             73400.0\n",
              "4    -114.57     33.57  ...         1.9250             65500.0\n",
              "\n",
              "[5 rows x 9 columns]"
            ]
          },
          "execution_count": 19,
          "metadata": {},
          "output_type": "execute_result"
        }
      ],
      "source": [
        "df.head()\n"
      ]
    },
    {
      "cell_type": "code",
      "execution_count": null,
      "metadata": {
        "colab": {
          "base_uri": "https://localhost:8080/"
        },
        "id": "XCeIl4kMJc59",
        "outputId": "dc08893a-afa9-48d7-d6f4-32bc45a40804"
      },
      "outputs": [
        {
          "data": {
            "text/plain": [
              "Index(['longitude', 'latitude', 'housing_median_age', 'total_rooms',\n",
              "       'total_bedrooms', 'population', 'households', 'median_income',\n",
              "       'median_house_value'],\n",
              "      dtype='object')"
            ]
          },
          "execution_count": 20,
          "metadata": {},
          "output_type": "execute_result"
        }
      ],
      "source": [
        "df.columns\n"
      ]
    },
    {
      "cell_type": "code",
      "execution_count": null,
      "metadata": {
        "id": "foQSY_tvJOua"
      },
      "outputs": [],
      "source": [
        "df = df.rename(columns={'oldName1': 'newName1', 'oldName2': 'newName2'})\n"
      ]
    },
    {
      "cell_type": "code",
      "execution_count": null,
      "metadata": {
        "colab": {
          "base_uri": "https://localhost:8080/",
          "height": 248
        },
        "id": "LaSdj2-HItaG",
        "outputId": "65c05939-b74b-44c2-8f87-1aa2a3c16eb4"
      },
      "outputs": [
        {
          "data": {
            "image/png": "[encoded data removed]",
            "text/plain": [
              "<Figure size 432x288 with 1 Axes>"
            ]
          },
          "metadata": {},
          "output_type": "display_data"
        }
      ],
      "source": [
        "import matplotlib.pyplot as plt\n",
        "import pandas as pd\n",
        "import seaborn as sns\n",
        "from mpl_toolkits.mplot3d import Axes3D\n",
        "\n",
        "\n",
        "sns.set(style = \"darkgrid\")\n",
        "\n",
        "fig = plt.figure()\n",
        "ax = fig.add_subplot(111, projection = '3d')\n",
        "\n",
        "x = df['total_bedrooms'][:50]\n",
        "y = df['housing_median_age'][:50]\n",
        "z = df['median_house_value'][:50]\n",
        "\n",
        "ax.set_xlabel(\"total_bedrooms\")\n",
        "ax.set_ylabel(\"housing_median_age\")\n",
        "ax.set_zlabel(\"median_house_value\")\n",
        "\n",
        "ax.scatter(x, y, z)\n",
        "\n",
        "plt.show()"
      ]
    },
    {
      "cell_type": "code",
      "execution_count": null,
      "metadata": {
        "id": "vGGbRUz3J8Ju"
      },
      "outputs": [],
      "source": [
        "## Task :\n",
        "## Download a CSV file from the internet, upload it to your google drive.\n",
        "## Read the CSV file and plot graphs using different combination of features and write your analysis\n",
        "## Ex : IRIS flower datasaet"
      ]
    },
    {
      "cell_type": "code",
      "source": [
        "import pandas as pd\n",
        "\n",
        "df = pd.read_csv('/content/iris.data')\n",
        "\n",
        "print(df.shape)\n",
        "df.head()"
      ],
      "metadata": {
        "colab": {
          "base_uri": "https://localhost:8080/",
          "height": 224
        },
        "id": "il4plO3_ZpoR",
        "outputId": "05449ff4-e890-49d3-e5af-77e8521ef44f"
      },
      "execution_count": null,
      "outputs": [
        {
          "output_type": "stream",
          "name": "stdout",
          "text": [
            "(149, 5)\n"
          ]
        },
        {
          "output_type": "execute_result",
          "data": {
            "text/plain": [
              "   5.1  3.5  1.4  0.2  Iris-setosa\n",
              "0  4.9  3.0  1.4  0.2  Iris-setosa\n",
              "1  4.7  3.2  1.3  0.2  Iris-setosa\n",
              "2  4.6  3.1  1.5  0.2  Iris-setosa\n",
              "3  5.0  3.6  1.4  0.2  Iris-setosa\n",
              "4  5.4  3.9  1.7  0.4  Iris-setosa"
            ],
            "text/html": [
              "\n",
              "\n",
              "  <div id=\"df-84f60796-0b1c-4acf-8d47-5215ac7398f1\">\n",
              "    <div class=\"colab-df-container\">\n",
              "      <div>\n",
              "<style scoped>\n",
              "    .dataframe tbody tr th:only-of-type {\n",
              "        vertical-align: middle;\n",
              "    }\n",
              "\n",
              "    .dataframe tbody tr th {\n",
              "        vertical-align: top;\n",
              "    }\n",
              "\n",
              "    .dataframe thead th {\n",
              "        text-align: right;\n",
              "    }\n",
              "</style>\n",
              "<table border=\"1\" class=\"dataframe\">\n",
              "  <thead>\n",
              "    <tr style=\"text-align: right;\">\n",
              "      <th></th>\n",
              "      <th>5.1</th>\n",
              "      <th>3.5</th>\n",
              "      <th>1.4</th>\n",
              "      <th>0.2</th>\n",
              "      <th>Iris-setosa</th>\n",
              "    </tr>\n",
              "  </thead>\n",
              "  <tbody>\n",
              "    <tr>\n",
              "      <th>0</th>\n",
              "      <td>4.9</td>\n",
              "      <td>3.0</td>\n",
              "      <td>1.4</td>\n",
              "      <td>0.2</td>\n",
              "      <td>Iris-setosa</td>\n",
              "    </tr>\n",
              "    <tr>\n",
              "      <th>1</th>\n",
              "      <td>4.7</td>\n",
              "      <td>3.2</td>\n",
              "      <td>1.3</td>\n",
              "      <td>0.2</td>\n",
              "      <td>Iris-setosa</td>\n",
              "    </tr>\n",
              "    <tr>\n",
              "      <th>2</th>\n",
              "      <td>4.6</td>\n",
              "      <td>3.1</td>\n",
              "      <td>1.5</td>\n",
              "      <td>0.2</td>\n",
              "      <td>Iris-setosa</td>\n",
              "    </tr>\n",
              "    <tr>\n",
              "      <th>3</th>\n",
              "      <td>5.0</td>\n",
              "      <td>3.6</td>\n",
              "      <td>1.4</td>\n",
              "      <td>0.2</td>\n",
              "      <td>Iris-setosa</td>\n",
              "    </tr>\n",
              "    <tr>\n",
              "      <th>4</th>\n",
              "      <td>5.4</td>\n",
              "      <td>3.9</td>\n",
              "      <td>1.7</td>\n",
              "      <td>0.4</td>\n",
              "      <td>Iris-setosa</td>\n",
              "    </tr>\n",
              "  </tbody>\n",
              "</table>\n",
              "</div>\n",
              "      <button class=\"colab-df-convert\" onclick=\"convertToInteractive('df-84f60796-0b1c-4acf-8d47-5215ac7398f1')\"\n",
              "              title=\"Convert this dataframe to an interactive table.\"\n",
              "              style=\"display:none;\">\n",
              "\n",
              "  <svg xmlns=\"http://www.w3.org/2000/svg\" height=\"24px\"viewBox=\"0 0 24 24\"\n",
              "       width=\"24px\">\n",
              "    <path d=\"M0 0h24v24H0V0z\" fill=\"none\"/>\n",
              "    <path d=\"M18.56 5.44l.94 2.06.94-2.06 2.06-.94-2.06-.94-.94-2.06-.94 2.06-2.06.94zm-11 1L8.5 8.5l.94-2.06 2.06-.94-2.06-.94L8.5 2.5l-.94 2.06-2.06.94zm10 10l.94 2.06.94-2.06 2.06-.94-2.06-.94-.94-2.06-.94 2.06-2.06.94z\"/><path d=\"M17.41 7.96l-1.37-1.37c-.4-.4-.92-.59-1.43-.59-.52 0-1.04.2-1.43.59L10.3 9.45l-7.72 7.72c-.78.78-.78 2.05 0 2.83L4 21.41c.39.39.9.59 1.41.59.51 0 1.02-.2 1.41-.59l7.78-7.78 2.81-2.81c.8-.78.8-2.07 0-2.86zM5.41 20L4 18.59l7.72-7.72 1.47 1.35L5.41 20z\"/>\n",
              "  </svg>\n",
              "      </button>\n",
              "\n",
              "\n",
              "\n",
              "    <div id=\"df-696fc257-7071-4b17-b320-6eaac60e8eb8\">\n",
              "      <button class=\"colab-df-quickchart\" onclick=\"quickchart('df-696fc257-7071-4b17-b320-6eaac60e8eb8')\"\n",
              "              title=\"Suggest charts.\"\n",
              "              style=\"display:none;\">\n",
              "\n",
              "<svg xmlns=\"http://www.w3.org/2000/svg\" height=\"24px\"viewBox=\"0 0 24 24\"\n",
              "     width=\"24px\">\n",
              "    <g>\n",
              "        <path d=\"M19 3H5c-1.1 0-2 .9-2 2v14c0 1.1.9 2 2 2h14c1.1 0 2-.9 2-2V5c0-1.1-.9-2-2-2zM9 17H7v-7h2v7zm4 0h-2V7h2v10zm4 0h-2v-4h2v4z\"/>\n",
              "    </g>\n",
              "</svg>\n",
              "      </button>\n",
              "    </div>\n",
              "\n",
              "<style>\n",
              "  .colab-df-quickchart {\n",
              "    background-color: #E8F0FE;\n",
              "    border: none;\n",
              "    border-radius: 50%;\n",
              "    cursor: pointer;\n",
              "    display: none;\n",
              "    fill: #1967D2;\n",
              "    height: 32px;\n",
              "    padding: 0 0 0 0;\n",
              "    width: 32px;\n",
              "  }\n",
              "\n",
              "  .colab-df-quickchart:hover {\n",
              "    background-color: #E2EBFA;\n",
              "    box-shadow: 0px 1px 2px rgba(60, 64, 67, 0.3), 0px 1px 3px 1px rgba(60, 64, 67, 0.15);\n",
              "    fill: #174EA6;\n",
              "  }\n",
              "\n",
              "  [theme=dark] .colab-df-quickchart {\n",
              "    background-color: #3B4455;\n",
              "    fill: #D2E3FC;\n",
              "  }\n",
              "\n",
              "  [theme=dark] .colab-df-quickchart:hover {\n",
              "    background-color: #434B5C;\n",
              "    box-shadow: 0px 1px 3px 1px rgba(0, 0, 0, 0.15);\n",
              "    filter: drop-shadow(0px 1px 2px rgba(0, 0, 0, 0.3));\n",
              "    fill: #FFFFFF;\n",
              "  }\n",
              "</style>\n",
              "\n",
              "    <script>\n",
              "      async function quickchart(key) {\n",
              "        const containerElement = document.querySelector('#' + key);\n",
              "        const charts = await google.colab.kernel.invokeFunction(\n",
              "            'suggestCharts', [key], {});\n",
              "      }\n",
              "    </script>\n",
              "\n",
              "      <script>\n",
              "\n",
              "function displayQuickchartButton(domScope) {\n",
              "  let quickchartButtonEl =\n",
              "    domScope.querySelector('#df-696fc257-7071-4b17-b320-6eaac60e8eb8 button.colab-df-quickchart');\n",
              "  quickchartButtonEl.style.display =\n",
              "    google.colab.kernel.accessAllowed ? 'block' : 'none';\n",
              "}\n",
              "\n",
              "        displayQuickchartButton(document);\n",
              "      </script>\n",
              "      <style>\n",
              "    .colab-df-container {\n",
              "      display:flex;\n",
              "      flex-wrap:wrap;\n",
              "      gap: 12px;\n",
              "    }\n",
              "\n",
              "    .colab-df-convert {\n",
              "      background-color: #E8F0FE;\n",
              "      border: none;\n",
              "      border-radius: 50%;\n",
              "      cursor: pointer;\n",
              "      display: none;\n",
              "      fill: #1967D2;\n",
              "      height: 32px;\n",
              "      padding: 0 0 0 0;\n",
              "      width: 32px;\n",
              "    }\n",
              "\n",
              "    .colab-df-convert:hover {\n",
              "      background-color: #E2EBFA;\n",
              "      box-shadow: 0px 1px 2px rgba(60, 64, 67, 0.3), 0px 1px 3px 1px rgba(60, 64, 67, 0.15);\n",
              "      fill: #174EA6;\n",
              "    }\n",
              "\n",
              "    [theme=dark] .colab-df-convert {\n",
              "      background-color: #3B4455;\n",
              "      fill: #D2E3FC;\n",
              "    }\n",
              "\n",
              "    [theme=dark] .colab-df-convert:hover {\n",
              "      background-color: #434B5C;\n",
              "      box-shadow: 0px 1px 3px 1px rgba(0, 0, 0, 0.15);\n",
              "      filter: drop-shadow(0px 1px 2px rgba(0, 0, 0, 0.3));\n",
              "      fill: #FFFFFF;\n",
              "    }\n",
              "  </style>\n",
              "\n",
              "      <script>\n",
              "        const buttonEl =\n",
              "          document.querySelector('#df-84f60796-0b1c-4acf-8d47-5215ac7398f1 button.colab-df-convert');\n",
              "        buttonEl.style.display =\n",
              "          google.colab.kernel.accessAllowed ? 'block' : 'none';\n",
              "\n",
              "        async function convertToInteractive(key) {\n",
              "          const element = document.querySelector('#df-84f60796-0b1c-4acf-8d47-5215ac7398f1');\n",
              "          const dataTable =\n",
              "            await google.colab.kernel.invokeFunction('convertToInteractive',\n",
              "                                                     [key], {});\n",
              "          if (!dataTable) return;\n",
              "\n",
              "          const docLinkHtml = 'Like what you see? Visit the ' +\n",
              "            '<a target=\"_blank\" href=https://colab.research.google.com/notebooks/data_table.ipynb>data table notebook</a>'\n",
              "            + ' to learn more about interactive tables.';\n",
              "          element.innerHTML = '';\n",
              "          dataTable['output_type'] = 'display_data';\n",
              "          await google.colab.output.renderOutput(dataTable, element);\n",
              "          const docLink = document.createElement('div');\n",
              "          docLink.innerHTML = docLinkHtml;\n",
              "          element.appendChild(docLink);\n",
              "        }\n",
              "      </script>\n",
              "    </div>\n",
              "  </div>\n"
            ]
          },
          "metadata": {},
          "execution_count": 27
        }
      ]
    },
    {
      "cell_type": "markdown",
      "source": [
        "### Attribute information:\n",
        "\n",
        "   1. sepal length in cm\n",
        "   2. sepal width in cm\n",
        "   3. petal length in cm\n",
        "   4. petal width in cm\n",
        "   5. class:\n",
        "      -- Iris Setosa\n",
        "      -- Iris Versicolour\n",
        "      -- Iris Virginica"
      ],
      "metadata": {
        "id": "jg_NsC_8bKN_"
      }
    },
    {
      "cell_type": "code",
      "source": [
        "features = {\"5.1\" : \"sepal_length\", \"3.5\" : \"sepal_width\", \"1.4\" : \"petal_length\", \"0.2\" : \"petal_width\", \"Iris-setosa\" : \"species\"}\n",
        "\n",
        "df.rename(columns = features, inplace = True)\n",
        "df.head()"
      ],
      "metadata": {
        "colab": {
          "base_uri": "https://localhost:8080/",
          "height": 206
        },
        "id": "B4k5fhGla62j",
        "outputId": "637a5dc4-abd5-46d3-84e9-1c5ca24eb8e6"
      },
      "execution_count": null,
      "outputs": [
        {
          "output_type": "execute_result",
          "data": {
            "text/plain": [
              "   sepal_length  sepal_width  petal_length  petal_width      species\n",
              "0           4.9          3.0           1.4          0.2  Iris-setosa\n",
              "1           4.7          3.2           1.3          0.2  Iris-setosa\n",
              "2           4.6          3.1           1.5          0.2  Iris-setosa\n",
              "3           5.0          3.6           1.4          0.2  Iris-setosa\n",
              "4           5.4          3.9           1.7          0.4  Iris-setosa"
            ],
            "text/html": [
              "\n",
              "\n",
              "  <div id=\"df-dc1243b8-d039-426f-adc8-7e95f2424a84\">\n",
              "    <div class=\"colab-df-container\">\n",
              "      <div>\n",
              "<style scoped>\n",
              "    .dataframe tbody tr th:only-of-type {\n",
              "        vertical-align: middle;\n",
              "    }\n",
              "\n",
              "    .dataframe tbody tr th {\n",
              "        vertical-align: top;\n",
              "    }\n",
              "\n",
              "    .dataframe thead th {\n",
              "        text-align: right;\n",
              "    }\n",
              "</style>\n",
              "<table border=\"1\" class=\"dataframe\">\n",
              "  <thead>\n",
              "    <tr style=\"text-align: right;\">\n",
              "      <th></th>\n",
              "      <th>sepal_length</th>\n",
              "      <th>sepal_width</th>\n",
              "      <th>petal_length</th>\n",
              "      <th>petal_width</th>\n",
              "      <th>species</th>\n",
              "    </tr>\n",
              "  </thead>\n",
              "  <tbody>\n",
              "    <tr>\n",
              "      <th>0</th>\n",
              "      <td>4.9</td>\n",
              "      <td>3.0</td>\n",
              "      <td>1.4</td>\n",
              "      <td>0.2</td>\n",
              "      <td>Iris-setosa</td>\n",
              "    </tr>\n",
              "    <tr>\n",
              "      <th>1</th>\n",
              "      <td>4.7</td>\n",
              "      <td>3.2</td>\n",
              "      <td>1.3</td>\n",
              "      <td>0.2</td>\n",
              "      <td>Iris-setosa</td>\n",
              "    </tr>\n",
              "    <tr>\n",
              "      <th>2</th>\n",
              "      <td>4.6</td>\n",
              "      <td>3.1</td>\n",
              "      <td>1.5</td>\n",
              "      <td>0.2</td>\n",
              "      <td>Iris-setosa</td>\n",
              "    </tr>\n",
              "    <tr>\n",
              "      <th>3</th>\n",
              "      <td>5.0</td>\n",
              "      <td>3.6</td>\n",
              "      <td>1.4</td>\n",
              "      <td>0.2</td>\n",
              "      <td>Iris-setosa</td>\n",
              "    </tr>\n",
              "    <tr>\n",
              "      <th>4</th>\n",
              "      <td>5.4</td>\n",
              "      <td>3.9</td>\n",
              "      <td>1.7</td>\n",
              "      <td>0.4</td>\n",
              "      <td>Iris-setosa</td>\n",
              "    </tr>\n",
              "  </tbody>\n",
              "</table>\n",
              "</div>\n",
              "      <button class=\"colab-df-convert\" onclick=\"convertToInteractive('df-dc1243b8-d039-426f-adc8-7e95f2424a84')\"\n",
              "              title=\"Convert this dataframe to an interactive table.\"\n",
              "              style=\"display:none;\">\n",
              "\n",
              "  <svg xmlns=\"http://www.w3.org/2000/svg\" height=\"24px\"viewBox=\"0 0 24 24\"\n",
              "       width=\"24px\">\n",
              "    <path d=\"M0 0h24v24H0V0z\" fill=\"none\"/>\n",
              "    <path d=\"M18.56 5.44l.94 2.06.94-2.06 2.06-.94-2.06-.94-.94-2.06-.94 2.06-2.06.94zm-11 1L8.5 8.5l.94-2.06 2.06-.94-2.06-.94L8.5 2.5l-.94 2.06-2.06.94zm10 10l.94 2.06.94-2.06 2.06-.94-2.06-.94-.94-2.06-.94 2.06-2.06.94z\"/><path d=\"M17.41 7.96l-1.37-1.37c-.4-.4-.92-.59-1.43-.59-.52 0-1.04.2-1.43.59L10.3 9.45l-7.72 7.72c-.78.78-.78 2.05 0 2.83L4 21.41c.39.39.9.59 1.41.59.51 0 1.02-.2 1.41-.59l7.78-7.78 2.81-2.81c.8-.78.8-2.07 0-2.86zM5.41 20L4 18.59l7.72-7.72 1.47 1.35L5.41 20z\"/>\n",
              "  </svg>\n",
              "      </button>\n",
              "\n",
              "\n",
              "\n",
              "    <div id=\"df-c443bd07-16f1-477b-82d8-e4829b8eefbb\">\n",
              "      <button class=\"colab-df-quickchart\" onclick=\"quickchart('df-c443bd07-16f1-477b-82d8-e4829b8eefbb')\"\n",
              "              title=\"Suggest charts.\"\n",
              "              style=\"display:none;\">\n",
              "\n",
              "<svg xmlns=\"http://www.w3.org/2000/svg\" height=\"24px\"viewBox=\"0 0 24 24\"\n",
              "     width=\"24px\">\n",
              "    <g>\n",
              "        <path d=\"M19 3H5c-1.1 0-2 .9-2 2v14c0 1.1.9 2 2 2h14c1.1 0 2-.9 2-2V5c0-1.1-.9-2-2-2zM9 17H7v-7h2v7zm4 0h-2V7h2v10zm4 0h-2v-4h2v4z\"/>\n",
              "    </g>\n",
              "</svg>\n",
              "      </button>\n",
              "    </div>\n",
              "\n",
              "<style>\n",
              "  .colab-df-quickchart {\n",
              "    background-color: #E8F0FE;\n",
              "    border: none;\n",
              "    border-radius: 50%;\n",
              "    cursor: pointer;\n",
              "    display: none;\n",
              "    fill: #1967D2;\n",
              "    height: 32px;\n",
              "    padding: 0 0 0 0;\n",
              "    width: 32px;\n",
              "  }\n",
              "\n",
              "  .colab-df-quickchart:hover {\n",
              "    background-color: #E2EBFA;\n",
              "    box-shadow: 0px 1px 2px rgba(60, 64, 67, 0.3), 0px 1px 3px 1px rgba(60, 64, 67, 0.15);\n",
              "    fill: #174EA6;\n",
              "  }\n",
              "\n",
              "  [theme=dark] .colab-df-quickchart {\n",
              "    background-color: #3B4455;\n",
              "    fill: #D2E3FC;\n",
              "  }\n",
              "\n",
              "  [theme=dark] .colab-df-quickchart:hover {\n",
              "    background-color: #434B5C;\n",
              "    box-shadow: 0px 1px 3px 1px rgba(0, 0, 0, 0.15);\n",
              "    filter: drop-shadow(0px 1px 2px rgba(0, 0, 0, 0.3));\n",
              "    fill: #FFFFFF;\n",
              "  }\n",
              "</style>\n",
              "\n",
              "    <script>\n",
              "      async function quickchart(key) {\n",
              "        const containerElement = document.querySelector('#' + key);\n",
              "        const charts = await google.colab.kernel.invokeFunction(\n",
              "            'suggestCharts', [key], {});\n",
              "      }\n",
              "    </script>\n",
              "\n",
              "      <script>\n",
              "\n",
              "function displayQuickchartButton(domScope) {\n",
              "  let quickchartButtonEl =\n",
              "    domScope.querySelector('#df-c443bd07-16f1-477b-82d8-e4829b8eefbb button.colab-df-quickchart');\n",
              "  quickchartButtonEl.style.display =\n",
              "    google.colab.kernel.accessAllowed ? 'block' : 'none';\n",
              "}\n",
              "\n",
              "        displayQuickchartButton(document);\n",
              "      </script>\n",
              "      <style>\n",
              "    .colab-df-container {\n",
              "      display:flex;\n",
              "      flex-wrap:wrap;\n",
              "      gap: 12px;\n",
              "    }\n",
              "\n",
              "    .colab-df-convert {\n",
              "      background-color: #E8F0FE;\n",
              "      border: none;\n",
              "      border-radius: 50%;\n",
              "      cursor: pointer;\n",
              "      display: none;\n",
              "      fill: #1967D2;\n",
              "      height: 32px;\n",
              "      padding: 0 0 0 0;\n",
              "      width: 32px;\n",
              "    }\n",
              "\n",
              "    .colab-df-convert:hover {\n",
              "      background-color: #E2EBFA;\n",
              "      box-shadow: 0px 1px 2px rgba(60, 64, 67, 0.3), 0px 1px 3px 1px rgba(60, 64, 67, 0.15);\n",
              "      fill: #174EA6;\n",
              "    }\n",
              "\n",
              "    [theme=dark] .colab-df-convert {\n",
              "      background-color: #3B4455;\n",
              "      fill: #D2E3FC;\n",
              "    }\n",
              "\n",
              "    [theme=dark] .colab-df-convert:hover {\n",
              "      background-color: #434B5C;\n",
              "      box-shadow: 0px 1px 3px 1px rgba(0, 0, 0, 0.15);\n",
              "      filter: drop-shadow(0px 1px 2px rgba(0, 0, 0, 0.3));\n",
              "      fill: #FFFFFF;\n",
              "    }\n",
              "  </style>\n",
              "\n",
              "      <script>\n",
              "        const buttonEl =\n",
              "          document.querySelector('#df-dc1243b8-d039-426f-adc8-7e95f2424a84 button.colab-df-convert');\n",
              "        buttonEl.style.display =\n",
              "          google.colab.kernel.accessAllowed ? 'block' : 'none';\n",
              "\n",
              "        async function convertToInteractive(key) {\n",
              "          const element = document.querySelector('#df-dc1243b8-d039-426f-adc8-7e95f2424a84');\n",
              "          const dataTable =\n",
              "            await google.colab.kernel.invokeFunction('convertToInteractive',\n",
              "                                                     [key], {});\n",
              "          if (!dataTable) return;\n",
              "\n",
              "          const docLinkHtml = 'Like what you see? Visit the ' +\n",
              "            '<a target=\"_blank\" href=https://colab.research.google.com/notebooks/data_table.ipynb>data table notebook</a>'\n",
              "            + ' to learn more about interactive tables.';\n",
              "          element.innerHTML = '';\n",
              "          dataTable['output_type'] = 'display_data';\n",
              "          await google.colab.output.renderOutput(dataTable, element);\n",
              "          const docLink = document.createElement('div');\n",
              "          docLink.innerHTML = docLinkHtml;\n",
              "          element.appendChild(docLink);\n",
              "        }\n",
              "      </script>\n",
              "    </div>\n",
              "  </div>\n"
            ]
          },
          "metadata": {},
          "execution_count": 28
        }
      ]
    },
    {
      "cell_type": "code",
      "source": [
        "import matplotlib.pyplot as plt\n",
        "import seaborn as sns\n",
        "\n",
        "sns.scatterplot(data=df, x='sepal_length', y='sepal_width', hue='species')\n",
        "plt.xlabel('Sepal Length')\n",
        "plt.ylabel('Sepal Width')\n",
        "plt.title('Sepal Length vs. Sepal Width')\n",
        "plt.legend()\n",
        "plt.show()"
      ],
      "metadata": {
        "colab": {
          "base_uri": "https://localhost:8080/",
          "height": 472
        },
        "id": "rU8nuSUqaA3R",
        "outputId": "f282a1d6-c4c6-42df-fa38-f49179910e23"
      },
      "execution_count": null,
      "outputs": [
        {
          "output_type": "display_data",
          "data": {
            "text/plain": [
              "<Figure size 640x480 with 1 Axes>"
            ],
            "image/png": "[encoded data removed]"
          },
          "metadata": {}
        }
      ]
    },
    {
      "cell_type": "markdown",
      "source": [
        "* The Setosa species is clearly separated from the other two species in terms of sepal size. It have a smaller sepal length and width which make it easy to distinguishable from Versicolor and Virginica.\n",
        "\n",
        "\n",
        "* Versicolor and Virginica have some overlap, there are regions where they can be differentiated based on sepal size."
      ],
      "metadata": {
        "id": "1ALcvGgaeKnV"
      }
    },
    {
      "cell_type": "code",
      "source": [
        "sns.scatterplot(data=df, x='petal_length', y='petal_width', hue='species')\n",
        "plt.xlabel('petal Length')\n",
        "plt.ylabel('petal Width')\n",
        "plt.title('petal Length vs. petal Width')\n",
        "plt.legend()\n",
        "plt.show()"
      ],
      "metadata": {
        "colab": {
          "base_uri": "https://localhost:8080/",
          "height": 472
        },
        "id": "lUAgIKohdHKU",
        "outputId": "0dd5eab1-0fd7-407b-e58e-f70ea3a8b286"
      },
      "execution_count": null,
      "outputs": [
        {
          "output_type": "display_data",
          "data": {
            "text/plain": [
              "<Figure size 640x480 with 1 Axes>"
            ],
            "image/png": "[encoded data removed]"
          },
          "metadata": {}
        }
      ]
    },
    {
      "cell_type": "markdown",
      "source": [
        "* The Setosa species is clearly separated from the other two species in terms of petal size. It have a smaller sepal length and width which make it easy to distinguishable from Versicolor and Virginica.\n",
        "\n",
        "\n",
        "* Versicolor and Virginica have a very small overlap, there are regions where they can be differentiated based on petal size."
      ],
      "metadata": {
        "id": "ePwmWVFldiql"
      }
    },
    {
      "cell_type": "markdown",
      "metadata": {
        "id": "UEjCCSQh1d7A"
      },
      "source": [
        "## Augmentation\n",
        "It is a technique to increase the diversity of our training set by applying random (but realistic) transformations, such as image rotation, change of color etc. When we have limited training data, we can augment our data with help of these techniques."
      ]
    },
    {
      "cell_type": "code",
      "execution_count": null,
      "metadata": {
        "id": "XePcTeKI1dGJ"
      },
      "outputs": [],
      "source": [
        "import numpy as np\n",
        "import matplotlib.pyplot as plt\n",
        "from keras.datasets import mnist\n",
        "# set randomseed\n",
        "rng = np.random.default_rng(seed=42)\n",
        "from sklearn.utils.extmath import cartesian\n",
        "from skimage.transform import rotate, AffineTransform, warp\n",
        "import math"
      ]
    },
    {
      "cell_type": "markdown",
      "metadata": {
        "id": "ZP0Z3oOT2Vqo"
      },
      "source": [
        "For this lab we will use a subset of MNIST that is very small, to better understand the effect of augmentation."
      ]
    },
    {
      "cell_type": "code",
      "execution_count": null,
      "metadata": {
        "colab": {
          "base_uri": "https://localhost:8080/"
        },
        "id": "7miTQ_032Rxv",
        "outputId": "035e4be7-1895-46a3-e602-70dbaec67f6b"
      },
      "outputs": [
        {
          "name": "stdout",
          "output_type": "stream",
          "text": [
            "original data size: (60000, 28, 28)\n"
          ]
        }
      ],
      "source": [
        "#loading the dataset\n",
        "(train_X, train_y), (test_X, test_y) = mnist.load_data()\n",
        "train_X = train_X/255\n",
        "test_X = test_X/255\n",
        "\n",
        "print(\"original data size:\",train_X.shape)\n"
      ]
    },
    {
      "cell_type": "code",
      "execution_count": null,
      "metadata": {
        "colab": {
          "base_uri": "https://localhost:8080/"
        },
        "id": "79iYoK4a2Y8w",
        "outputId": "8bcf050d-a6b9-4832-a0e1-c29256da772d"
      },
      "outputs": [
        {
          "name": "stdout",
          "output_type": "stream",
          "text": [
            "(28, 28) 5\n"
          ]
        }
      ],
      "source": [
        "print(train_X[0].shape,train_y[0])"
      ]
    },
    {
      "cell_type": "code",
      "execution_count": null,
      "metadata": {
        "colab": {
          "base_uri": "https://localhost:8080/",
          "height": 282
        },
        "id": "F-ne2Jrl6R3-",
        "outputId": "4ecb5a09-c05c-441d-bb7d-62b78c64d820"
      },
      "outputs": [
        {
          "data": {
            "text/plain": [
              "<matplotlib.image.AxesImage at 0x7febaa90ab50>"
            ]
          },
          "execution_count": 7,
          "metadata": {},
          "output_type": "execute_result"
        },
        {
          "data": {
            "image/png": "[encoded data removed]",
            "text/plain": [
              "<Figure size 432x288 with 1 Axes>"
            ]
          },
          "metadata": {},
          "output_type": "display_data"
        }
      ],
      "source": [
        "plt.imshow(train_X[0])"
      ]
    },
    {
      "cell_type": "code",
      "execution_count": null,
      "metadata": {
        "colab": {
          "base_uri": "https://localhost:8080/"
        },
        "id": "g3YMYR2L6VqQ",
        "outputId": "cdc6e2c7-30c0-40a7-808c-da85f0fb28b0"
      },
      "outputs": [
        {
          "name": "stdout",
          "output_type": "stream",
          "text": [
            "Now it is: (50, 28, 28)\n"
          ]
        }
      ],
      "source": [
        "train_X = train_X[::1200,:,:].copy() # subsample. Otherwise it will take too long!\n",
        "train_y = train_y[::1200].copy() # do the same to the labels\n",
        "\n",
        "print(\"Now it is:\", train_X.shape)"
      ]
    },
    {
      "cell_type": "markdown",
      "metadata": {
        "id": "JgN85vRl6847"
      },
      "source": [
        "Augmentation 1: rotation\n",
        "Let us try rotating the image a little. We will use skimage library for this."
      ]
    },
    {
      "cell_type": "code",
      "execution_count": null,
      "metadata": {
        "colab": {
          "base_uri": "https://localhost:8080/",
          "height": 548
        },
        "id": "jStJv7xG6cNI",
        "outputId": "f5ce0007-6a3d-4cd5-91ae-567f30abada6"
      },
      "outputs": [
        {
          "data": {
            "image/png": "[encoded data removed]",
            "text/plain": [
              "<Figure size 432x288 with 1 Axes>"
            ]
          },
          "metadata": {},
          "output_type": "display_data"
        },
        {
          "name": "stdout",
          "output_type": "stream",
          "text": [
            "(28, 28)\n"
          ]
        },
        {
          "data": {
            "text/plain": [
              "<matplotlib.image.AxesImage at 0x7febaa30d650>"
            ]
          },
          "execution_count": 12,
          "metadata": {},
          "output_type": "execute_result"
        },
        {
          "data": {
            "image/png": "[encoded data removed]",
            "text/plain": [
              "<Figure size 432x288 with 1 Axes>"
            ]
          },
          "metadata": {},
          "output_type": "display_data"
        }
      ],
      "source": [
        "plt.imshow(train_X[2], cmap='gray')\n",
        "plt.show()\n",
        "print(train_X[2].shape)\n",
        "plt.imshow(rotate(train_X[2],45), cmap='gray')"
      ]
    },
    {
      "cell_type": "markdown",
      "metadata": {
        "id": "phr4sXEb94Q8"
      },
      "source": [
        "After rotating, the the class of the image is still the same. Let us make a function to rotate multiple images by random angles. We want a slightly different image every time we run this function. So, we generate a random number between 0 and 1 and change it so that it lies between -constraint/2 and +constraint/2"
      ]
    },
    {
      "cell_type": "code",
      "execution_count": null,
      "metadata": {
        "id": "B3ai_7aN7Csn"
      },
      "outputs": [],
      "source": [
        "def augRotate(sample, angleconstraint):\n",
        "  if angleconstraint==0:\n",
        "    return sample\n",
        "\n",
        "  print(\"shape of sample before is:\", sample.shape)\n",
        "  print(\"len(sample.shape)\", len(sample.shape))\n",
        "  if len(sample.shape)==2:\n",
        "    sample = np.expand_dims(sample, 0)  # make sure the sample is 3 dimensional\n",
        "    print(\"shape of sample is:\", sample.shape)\n",
        "  angle = rng.random(len(sample)) # generate random numbers for angles\n",
        "  print(\"angle is:\", angle)\n",
        "  angle = (angle-0.5)*angleconstraint # make the random angle constrained\n",
        "  print(\"angle with constraint is:\", angle)\n",
        "  nsample = sample.copy() # preallocate the augmented array to make it faster\n",
        "  for ii in range(len(sample)):\n",
        "    nsample[ii] = rotate(sample[ii], angle[ii])\n",
        "  return np.squeeze(nsample) # take care if the input had only one sample."
      ]
    },
    {
      "cell_type": "markdown",
      "metadata": {
        "id": "udOWwYj2-Bsy"
      },
      "source": [
        "This function returns a slightly different image each time we call it. So we can increase the number of images in the sample by any multiple."
      ]
    },
    {
      "cell_type": "code",
      "execution_count": null,
      "metadata": {
        "colab": {
          "base_uri": "https://localhost:8080/",
          "height": 675
        },
        "id": "vyO8Ap9-98LZ",
        "outputId": "a173fb2f-7453-4e4b-b4f4-4415eef2a254"
      },
      "outputs": [
        {
          "data": {
            "image/png": "[encoded data removed]",
            "text/plain": [
              "<Figure size 432x288 with 1 Axes>"
            ]
          },
          "metadata": {},
          "output_type": "display_data"
        },
        {
          "name": "stdout",
          "output_type": "stream",
          "text": [
            "shape of sample before is: (28, 28)\n",
            "len(sample.shape) 2\n",
            "shape of sample is: (1, 28, 28)\n",
            "angle is: [0.77395605]\n",
            "angle with constraint is: [19.1769234]\n",
            "shape of sample before is: (28, 28)\n",
            "len(sample.shape) 2\n",
            "shape of sample is: (1, 28, 28)\n",
            "angle is: [0.43887844]\n",
            "angle with constraint is: [-4.27850922]\n",
            "shape of sample before is: (28, 28)\n",
            "len(sample.shape) 2\n",
            "shape of sample is: (1, 28, 28)\n",
            "angle is: [0.85859792]\n",
            "angle with constraint is: [25.10185439]\n"
          ]
        },
        {
          "data": {
            "text/plain": [
              "<matplotlib.image.AxesImage at 0x7febaa1d8f10>"
            ]
          },
          "execution_count": 14,
          "metadata": {},
          "output_type": "execute_result"
        },
        {
          "data": {
            "image/png": "[encoded data removed]",
            "text/plain": [
              "<Figure size 432x288 with 3 Axes>"
            ]
          },
          "metadata": {},
          "output_type": "display_data"
        }
      ],
      "source": [
        "sample = train_X[20]\n",
        "angleconstraint = 70\n",
        "# show the original image\n",
        "plt.imshow(sample, cmap='gray')\n",
        "plt.show()\n",
        "plt.subplot(1,3,1)\n",
        "plt.imshow(augRotate(sample, angleconstraint), cmap='gray') # show an augmented image\n",
        "plt.subplot(1,3,2)\n",
        "plt.imshow(augRotate(sample, angleconstraint), cmap='gray') # show another augmented image from the same sample\n",
        "plt.subplot(1,3,3)\n",
        "plt.imshow(augRotate(sample, angleconstraint), cmap='gray') # one more image from the same sample"
      ]
    },
    {
      "cell_type": "markdown",
      "metadata": {
        "id": "siEhyuX0AyZP"
      },
      "source": [
        "Let us try one more augmentation, Shear: A transformation in which all points along a given line remain fixed while other points are shifted parallel to by a\n",
        " distance proportional to their perpendicular distance from. Shearing a plane figure does not change its area."
      ]
    },
    {
      "cell_type": "code",
      "execution_count": null,
      "metadata": {
        "id": "46nKQ_Qj-Elg"
      },
      "outputs": [],
      "source": [
        "def shear(sample, amount):\n",
        "  tform = AffineTransform(shear = amount) # create the shear transform\n",
        "  img = warp(sample, tform) # apply the shear\n",
        "  # this makes the digit off-center. Since all the images in the test set are centralized, we will do the same here\n",
        "  col = img.sum(0).nonzero()[0]\n",
        "  row = img.sum(1).nonzero()[0]\n",
        "  if len(col)>0 and len(row)>0:\n",
        "    xshift = int(sample.shape[0]/2 - (row[0]+row[-1])/2)\n",
        "    yshift = int(sample.shape[1]/2 - (col[0]+col[-1])/2)\n",
        "    img = np.roll(img, (xshift, yshift),(0,1))\n",
        "  return img"
      ]
    },
    {
      "cell_type": "code",
      "execution_count": null,
      "metadata": {
        "colab": {
          "base_uri": "https://localhost:8080/",
          "height": 530
        },
        "id": "Zae7PZcUBDt8",
        "outputId": "931bd37b-99e1-4618-be3f-ac43daafa7da"
      },
      "outputs": [
        {
          "data": {
            "image/png": "[encoded data removed]",
            "text/plain": [
              "<Figure size 432x288 with 1 Axes>"
            ]
          },
          "metadata": {},
          "output_type": "display_data"
        },
        {
          "data": {
            "text/plain": [
              "<matplotlib.image.AxesImage at 0x7febaa0c5fd0>"
            ]
          },
          "execution_count": 16,
          "metadata": {},
          "output_type": "execute_result"
        },
        {
          "data": {
            "image/png": "[encoded data removed]",
            "text/plain": [
              "<Figure size 432x288 with 1 Axes>"
            ]
          },
          "metadata": {},
          "output_type": "display_data"
        }
      ],
      "source": [
        "sample = train_X[2]\n",
        "plt.imshow(sample, cmap='gray')\n",
        "plt.show()\n",
        "\n",
        "# apply shear\n",
        "plt.imshow(shear(sample, 0.4), cmap='gray')"
      ]
    },
    {
      "cell_type": "markdown",
      "metadata": {
        "id": "4NglWyeSDtxr"
      },
      "source": [
        "## Let us also see skeletonization of image"
      ]
    },
    {
      "cell_type": "code",
      "execution_count": null,
      "metadata": {
        "id": "XQMsvuD5BITy"
      },
      "outputs": [],
      "source": [
        "from skimage.morphology import skeletonize\n"
      ]
    },
    {
      "cell_type": "code",
      "execution_count": null,
      "metadata": {
        "colab": {
          "base_uri": "https://localhost:8080/",
          "height": 282
        },
        "id": "ze1kf_0BD0YP",
        "outputId": "ad180e21-efbc-45d7-ffdc-f26ac13a326f"
      },
      "outputs": [
        {
          "data": {
            "text/plain": [
              "<matplotlib.image.AxesImage at 0x7feba4961e90>"
            ]
          },
          "execution_count": 26,
          "metadata": {},
          "output_type": "execute_result"
        },
        {
          "data": {
            "image/png": "[encoded data removed]",
            "text/plain": [
              "<Figure size 432x288 with 1 Axes>"
            ]
          },
          "metadata": {},
          "output_type": "display_data"
        }
      ],
      "source": [
        "skeleton = skeletonize(train_X[2],method='lee')\n",
        "plt.imshow(skeleton, cmap='gray')"
      ]
    },
    {
      "cell_type": "code",
      "execution_count": null,
      "metadata": {
        "id": "ewpZG5b-D9F3"
      },
      "outputs": [],
      "source": [
        "#Structuring elements that are repeatedly used for thinning\n",
        "\n",
        "S1 = np.array([[0,0,0],[-1,1,-1],[1,1,1]]) # -1 for dont care\n",
        "S2 = np.array([[-1,0,0],[1,1,0],[-1,1,-1]])\n",
        "\n",
        "\n",
        "def CheckMatch(window,kernel):\n",
        "  for i in range(window.shape[0]):\n",
        "        for j in range(window.shape[1]):\n",
        "            if kernel[i,j]!=-1 and window[i,j]!=kernel[i,j]:\n",
        "                return False\n",
        "  return True\n",
        "\n",
        "def ApplyKernel(image,kernel): #used\n",
        "  height, width =  image.shape\n",
        "  res = np.copy(image)\n",
        "  for i in range(1,height-1):\n",
        "    for j in range (1,width-1):\n",
        "      window = image[i-1:i+2,j-1:j+2]\n",
        "      #print('window shape',window.shape)\n",
        "      Match_result = CheckMatch(window,kernel)\n",
        "      if (Match_result):\n",
        "        res[i,j]=0\n",
        "  return res\n",
        "\n",
        "\n",
        "\n",
        "def Skeletonization(image):\n",
        "  '''pass binary image'''\n",
        "  #new = np.copy(image)\n",
        "  #old = np.zeros(image.shape,dtype=np.uint8)\n",
        "  count = 1\n",
        "  change = 1000\n",
        "  while (change >0.01):\n",
        "    print('count',count)\n",
        "    new = image\n",
        "    new = ApplyKernel(new,S1)\n",
        "    new = ApplyKernel(new,S2)\n",
        "    new = ApplyKernel(new,np.rot90(S1,1)) #90 degree rotate\n",
        "    new = ApplyKernel(new,np.rot90(S2,1))\n",
        "    new = ApplyKernel(new,np.rot90(S1,2)) # 180 degree rotate\n",
        "    new = ApplyKernel(new,np.rot90(S2,2))\n",
        "    new = ApplyKernel(new,np.rot90(S1,3)) # 270 degree rotate\n",
        "    new = ApplyKernel(new,np.rot90(S2,3))\n",
        "    count+= 1\n",
        "    change = np.mean(np.abs(new-image))\n",
        "    image = new\n",
        "    plt.imshow(new,cmap='gray')\n",
        "    plt.show()\n",
        "  return new"
      ]
    },
    {
      "cell_type": "code",
      "execution_count": null,
      "metadata": {
        "id": "LwgK5XObNcjD"
      },
      "outputs": [],
      "source": [
        "binarized  =( train_X[0] > 0 ).astype(np.uint8)"
      ]
    },
    {
      "cell_type": "code",
      "execution_count": null,
      "metadata": {
        "colab": {
          "base_uri": "https://localhost:8080/",
          "height": 1000
        },
        "id": "oyQrnHghLADQ",
        "outputId": "3c488947-757e-467a-9af9-84fb749c2ca8"
      },
      "outputs": [
        {
          "name": "stdout",
          "output_type": "stream",
          "text": [
            "count 1\n"
          ]
        },
        {
          "data": {
            "image/png": "[encoded data removed]",
            "text/plain": [
              "<Figure size 432x288 with 1 Axes>"
            ]
          },
          "metadata": {},
          "output_type": "display_data"
        },
        {
          "name": "stdout",
          "output_type": "stream",
          "text": [
            "count 2\n"
          ]
        },
        {
          "data": {
            "image/png": "[encoded data removed]",
            "text/plain": [
              "<Figure size 432x288 with 1 Axes>"
            ]
          },
          "metadata": {},
          "output_type": "display_data"
        },
        {
          "name": "stdout",
          "output_type": "stream",
          "text": [
            "count 3\n"
          ]
        },
        {
          "data": {
            "image/png": "[encoded data removed]",
            "text/plain": [
              "<Figure size 432x288 with 1 Axes>"
            ]
          },
          "metadata": {},
          "output_type": "display_data"
        },
        {
          "name": "stdout",
          "output_type": "stream",
          "text": [
            "count 4\n"
          ]
        },
        {
          "data": {
            "image/png": "[encoded data removed]",
            "text/plain": [
              "<Figure size 432x288 with 1 Axes>"
            ]
          },
          "metadata": {},
          "output_type": "display_data"
        },
        {
          "name": "stdout",
          "output_type": "stream",
          "text": [
            "count 5\n"
          ]
        },
        {
          "data": {
            "image/png": "[encoded data removed]",
            "text/plain": [
              "<Figure size 432x288 with 1 Axes>"
            ]
          },
          "metadata": {},
          "output_type": "display_data"
        }
      ],
      "source": [
        "skeleton_five = Skeletonization(binarized)"
      ]
    },
    {
      "cell_type": "markdown",
      "metadata": {
        "id": "BcdqQ68TuyUp"
      },
      "source": [
        "# **ASSIGNMENTS**\n",
        "1. Modify the code to use trigrams (3-grams) instead of bigrams (2-grams) for text feature extraction. Compare and analyze the results for both English and French documents.\n",
        "2. Implement a function to calculate the entropy of a given text. Entropy measures the uncertainty or randomness in a sequence of characters. Use this function to calculate the entropy of both English and French documents from the Wikipedia pages. Analyze and compare the results.\n",
        "3. Extend the image augmentation techniques to include random translations (both horizontal and vertical shifts). Implement functions to perform random horizontal and vertical shifts on images. Apply these transformations to a few images from the MNIST dataset and visualize the augmented images.\n",
        "4. Write a function to calculate the Euclidean distance between two given texts represented as n-grams (e.g., unigrams, bigrams, etc.). Use this function to compare the similarity between the English and French documents. Discuss the implications and limitations of using n-grams for text similarity comparison.\n",
        "5. Download a sample archive text from Project Gutenberg (https://www.gutenberg.org/) and validate the findings for English and French stories.\n",
        "\n",
        "\n",
        "\n",
        "\n"
      ]
    },
    {
      "cell_type": "markdown",
      "metadata": {
        "id": "IUDQNwdVzaZy"
      },
      "source": [
        "# Solutions"
      ]
    },
    {
      "cell_type": "markdown",
      "metadata": {
        "id": "uDsVY7TVzagA"
      },
      "source": [
        "## Answer 1"
      ]
    },
    {
      "cell_type": "code",
      "execution_count": null,
      "metadata": {
        "id": "1uZdnNdTMpfn",
        "colab": {
          "base_uri": "https://localhost:8080/"
        },
        "outputId": "c61291a9-cced-42a2-9084-74327e2cb6d8"
      },
      "outputs": [
        {
          "output_type": "stream",
          "name": "stdout",
          "text": [
            "Collecting wikipedia\n",
            "  Downloading wikipedia-1.4.0.tar.gz (27 kB)\n",
            "  Preparing metadata (setup.py) ... \u001b[?25l\u001b[?25hdone\n",
            "Requirement already satisfied: beautifulsoup4 in /usr/local/lib/python3.10/dist-packages (from wikipedia) (4.11.2)\n",
            "Requirement already satisfied: requests<3.0.0,>=2.0.0 in /usr/local/lib/python3.10/dist-packages (from wikipedia) (2.27.1)\n",
            "Requirement already satisfied: urllib3<1.27,>=1.21.1 in /usr/local/lib/python3.10/dist-packages (from requests<3.0.0,>=2.0.0->wikipedia) (1.26.16)\n",
            "Requirement already satisfied: certifi>=2017.4.17 in /usr/local/lib/python3.10/dist-packages (from requests<3.0.0,>=2.0.0->wikipedia) (2023.7.22)\n",
            "Requirement already satisfied: charset-normalizer~=2.0.0 in /usr/local/lib/python3.10/dist-packages (from requests<3.0.0,>=2.0.0->wikipedia) (2.0.12)\n",
            "Requirement already satisfied: idna<4,>=2.5 in /usr/local/lib/python3.10/dist-packages (from requests<3.0.0,>=2.0.0->wikipedia) (3.4)\n",
            "Requirement already satisfied: soupsieve>1.2 in /usr/local/lib/python3.10/dist-packages (from beautifulsoup4->wikipedia) (2.4.1)\n",
            "Building wheels for collected packages: wikipedia\n",
            "  Building wheel for wikipedia (setup.py) ... \u001b[?25l\u001b[?25hdone\n",
            "  Created wheel for wikipedia: filename=wikipedia-1.4.0-py3-none-any.whl size=11680 sha256=5139f4044ee9e60dee0a6fe64ece0c53c0219099fe8bc328976bf9a57a4f01e7\n",
            "  Stored in directory: /root/.cache/pip/wheels/5e/b6/c5/93f3dec388ae76edc830cb42901bb0232504dfc0df02fc50de\n",
            "Successfully built wikipedia\n",
            "Installing collected packages: wikipedia\n",
            "Successfully installed wikipedia-1.4.0\n"
          ]
        }
      ],
      "source": [
        "! pip install wikipedia"
      ]
    },
    {
      "cell_type": "code",
      "execution_count": null,
      "metadata": {
        "id": "dfn2Mygdzftf"
      },
      "outputs": [],
      "source": [
        "import wikipedia\n",
        "import re\n",
        "import nltk\n",
        "\n",
        "from nltk.util import ngrams\n",
        "from collections import Counter\n",
        "import matplotlib.pyplot as plt"
      ]
    },
    {
      "cell_type": "code",
      "execution_count": null,
      "metadata": {
        "id": "9ILhFvn8z-jh"
      },
      "outputs": [],
      "source": [
        "# Download the data from wikipedia\n",
        "\n",
        "topic1 = 'Giraffe'\n",
        "topic2 = 'Elephant'\n",
        "\n",
        "wikipedia.set_lang('en')\n",
        "eng1 = wikipedia.page(topic1).content\n",
        "eng2 = wikipedia.page(topic2).content\n",
        "\n",
        "wikipedia.set_lang('fr')\n",
        "fr1 = wikipedia.page(topic1).content\n",
        "fr2 = wikipedia.page(topic2).content\n",
        "\n"
      ]
    },
    {
      "cell_type": "code",
      "execution_count": null,
      "metadata": {
        "id": "LpwIYiShz-vj"
      },
      "outputs": [],
      "source": [
        "#re.findall(r'[0-9]+', 'a4bc123xy845z8')"
      ]
    },
    {
      "cell_type": "code",
      "execution_count": null,
      "metadata": {
        "id": "PWwjyX8D0BqM"
      },
      "outputs": [],
      "source": [
        "def text_cleaning(text):\n",
        "  text = text.lower()\n",
        "  text = re.sub('[^a-z]+', '', text)\n",
        "  return text"
      ]
    },
    {
      "cell_type": "code",
      "execution_count": null,
      "metadata": {
        "id": "gK8FFLiSG7uV"
      },
      "outputs": [],
      "source": [
        "# cleaning text\n",
        "\n",
        "eng1 = text_cleaning(eng1)\n",
        "eng2 = text_cleaning(eng2)\n",
        "fr1 = text_cleaning(fr1)\n",
        "fr2 = text_cleaning(fr2)"
      ]
    },
    {
      "cell_type": "code",
      "execution_count": null,
      "metadata": {
        "id": "czWEfcKy0GI4"
      },
      "outputs": [],
      "source": [
        "# Creating trigrams\n",
        "\n",
        "trigram_eng1 = Counter(ngrams(eng1,3))\n",
        "trigram_eng2 = Counter(ngrams(eng2,3))\n",
        "trigram_fr1 = Counter(ngrams(fr1,3))\n",
        "trigram_fr2 = Counter(ngrams(fr2,3))"
      ]
    },
    {
      "cell_type": "code",
      "execution_count": null,
      "metadata": {
        "colab": {
          "base_uri": "https://localhost:8080/"
        },
        "id": "v9xKECXP0Mgl",
        "outputId": "a453ef2a-d3ea-48af-ce15-f9096ed7446b"
      },
      "outputs": [
        {
          "name": "stdout",
          "output_type": "stream",
          "text": [
            "Counter({('t', 'h', 'e'): 596, ('a', 'n', 'd'): 273, ('i', 'r', 'a'): 233, ('r', 'a', 'f'): 229, ('g', 'i', 'r'): 227, ('a', 'f', 'f'): 225, ('f', 'f', 'e'): 208, ('i', 'n', 'g'): 205, ('i', 'o', 'n'): 137, ('e', 's', 't'): 125, ('m', 'a', 'l'): 121, ('t', 'i', 'o'): 119, ('f', 'e', 's'): 118, ('s', 't', 'h'): 105, ('h', 'e', 'r'): 103, ('n', 't', 'h'): 102, ('a', 'r', 'e'): 100, ('i', 'n', 't'): 94, ('a', 't', 'e'): 93, ('o', 't', 'h'): 91, ('e', 'n', 't'): 90, ('a', 'l', 'e'): 89, ('a', 't', 'i'): 87, ('e', 'g', 'i'): 86, ('e', 's', 'a'): 86, ('t', 'h', 'a'): 85, ('e', 'r', 'e'): 82, ('s', 'a', 'n'): 81, ('l', 'e', 's'): 80, ('d', 't', 'h'): 80, ('r', 'e', 'a'): 78, ('e', 't', 'h'): 77, ('n', 'g', 't'): 75, ('s', 'i', 'n'): 74, ('h', 'e', 's'): 72, ('e', 'a', 'r'): 71, ('a', 'l', 'l'): 70, ('r', 'e', 's'): 70, ('t', 'e', 'r'): 69, ('i', 't', 's'): 68, ('f', 'o', 'r'): 67, ('i', 'e', 's'): 65, ('e', 'a', 'n'): 65, ('i', 't', 'h'): 64, ('h', 'e', 'g'): 62, ('o', 'n', 't'): 62, ('v', 'e', 'r'): 62, ('s', 'p', 'e'): 61, ('g', 't', 'h'): 61, ('e', 'm', 'a'): 60, ('s', 'o', 'f'): 58, ('c', 'i', 'e'): 57, ('t', 'e', 'd'): 57, ('o', 'n', 's'): 57, ('i', 'g', 'h'): 56, ('h', 'e', 'a'): 56, ('w', 'i', 't'): 55, ('d', 'i', 'n'): 55, ('t', 'i', 'n'): 55, ('a', 'v', 'e'): 55, ('c', 'o', 'm'): 55, ('e', 'd', 't'): 55, ('h', 'a', 'v'): 55, ('i', 'c', 'a'): 54, ('o', 'u', 'n'): 54, ('n', 'd', 't'): 53, ('i', 'n', 'a'): 53, ('p', 'r', 'o'): 53, ('e', 'c', 'o'): 53, ('o', 'r', 'e'): 53, ('o', 'f', 't'): 53, ('e', 'r', 's'): 52, ('c', 'a', 'l'): 52, ('n', 'e', 'c'): 52, ('l', 'a', 't'): 52, ('s', 't', 'o'): 52, ('r', 'o', 'u'): 52, ('o', 'n', 'g'): 51, ('g', 'h', 't'): 51, ('p', 'e', 'c'): 51, ('e', 's', 'e'): 51, ('h', 'e', 'i'): 51, ('f', 'r', 'o'): 51, ('e', 'c', 'k'): 51, ('f', 't', 'h'): 50, ('n', 'd', 'i'): 49, ('i', 'v', 'e'): 49, ('a', 'l', 's'): 49, ('o', 'r', 't'): 48, ('e', 'r', 'a'): 48, ('e', 's', 'i'): 48, ('c', 'o', 'n'): 47, ('e', 'c', 'i'): 46, ('r', 'e', 'd'): 46, ('l', 'a', 'r'): 45, ('c', 'a', 'n'): 45, ('a', 'n', 't'): 45, ('r', 't', 'h'): 45, ('h', 'e', 'm'): 45, ('e', 'r', 't'): 45, ('e', 'i', 'n'): 45, ('e', 'n', 'e'): 45, ('n', 'g', 'i'): 44, ('e', 'a', 's'): 44, ('r', 'o', 'm'): 44, ('s', 'a', 'r'): 44, ('l', 'e', 'g'): 44, ('h', 'e', 'n'): 44, ('r', 'i', 'n'): 44, ('a', 's', 't'): 44, ('m', 'i', 'n'): 43, ('s', 'e', 'd'): 43, ('t', 'a', 'n'): 43, ('m', 'o', 'r'): 43, ('e', 'v', 'e'): 43, ('w', 'h', 'i'): 43, ('e', 'e', 'n'): 43, ('i', 's', 't'): 42, ('e', 'r', 'n'): 42, ('u', 'n', 'd'): 42, ('a', 'i', 'n'): 42, ('e', 's', 's'): 42, ('t', 'h', 'o'): 41, ('p', 'a', 'r'): 41, ('e', 'd', 'a'): 41, ('n', 'e', 's'): 40, ('e', 'r', 'i'): 40, ('h', 'a', 's'): 40, ('u', 'l', 'a'): 40, ('i', 'm', 'a'): 39, ('n', 'a', 'n'): 39, ('s', 'i', 't'): 39, ('n', 'd', 's'): 39, ('n', 'c', 'e'): 39, ('d', 'a', 'n'): 39, ('o', 'n', 'e'): 38, ('f', 'e', 'm'): 38, ('l', 'o', 'n'): 37, ('t', 'o', 't'): 37, ('i', 't', 'i'): 37, ('i', 'n', 'e'): 37, ('h', 'a', 'n'): 37, ('v', 'e', 's'): 37, ('p', 'r', 'e'): 37, ('s', 'h', 'a'): 37, ('h', 'a', 't'): 37, ('t', 't', 'h'): 37, ('n', 'a', 'l'): 36, ('n', 't', 's'): 36, ('s', 't', 'e'): 36, ('r', 'a', 'n'): 36, ('n', 'g', 'e'): 36, ('e', 'a', 't'): 36, ('e', 'c', 't'): 36, ('l', 'a', 'n'): 35, ('a', 'n', 'i'): 35, ('e', 'i', 'r'): 35, ('i', 'n', 'c'): 35, ('s', 't', 'i'): 35, ('l', 'o', 'w'): 35, ('n', 'd', 'a'): 35, ('s', 'm', 'a'): 35, ('u', 'l', 't'): 35, ('e', 'o', 'f'): 35, ('d', 't', 'o'): 35, ('e', 's', 'w'): 34, ('c', 'h', 'a'): 34, ('h', 'i', 'c'): 34, ('o', 'm', 'e'): 34, ('n', 't', 'o'): 33, ('a', 'r', 't'): 33, ('w', 'e', 'r'): 33, ('e', 's', 'c'): 33, ('o', 'u', 'r'): 33, ('i', 'c', 'h'): 33, ('a', 's', 'a'): 33, ('s', 't', 'a'): 33, ('n', 'g', 'a'): 33, ('s', 'b', 'e'): 33, ('i', 'n', 'd'): 33, ('b', 'r', 'a'): 33, ('g', 'e', 'n'): 32, ('g', 'e', 's'): 32, ('o', 'n', 'a'): 32, ('e', 's', 'o'): 32, ('n', 's', 'i'): 32, ('d', 'e', 'r'): 32, ('s', 'e', 's'): 32, ('h', 'e', 'y'): 32, ('a', 'n', 'c'): 32, ('c', 't', 'i'): 32, ('l', 'i', 'n'): 32, ('a', 'g', 'e'): 32, ('e', 'l', 'o'): 31, ('l', 'l', 'y'): 31, ('e', 's', 'p'): 31, ('a', 'l', 'i'): 31, ('n', 'i', 'n'): 31, ('s', 's', 'i'): 31, ('t', 'i', 'c'): 31, ('e', 'n', 'd'): 31, ('a', 'c', 'h'): 31, ('k', 'i', 'n'): 31, ('u', 's', 'e'): 31, ('e', 'd', 'i'): 31, ('e', 'r', 'v'): 31, ('e', 'a', 'd'): 31, ('s', 't', 'r'): 30, ('a', 'm', 'e'): 30, ('r', 'e', 'c'): 30, ('o', 's', 'e'): 30, ('h', 'e', 'f'): 30, ('d', 'i', 's'): 30, ('t', 'h', 'i'): 30, ('t', 'i', 'v'): 30, ('e', 'm', 'o'): 30, ('t', 'o', 'r'): 30, ('s', 'w', 'i'): 29, ('a', 's', 's'): 29, ('a', 'n', 'g'): 29, ('r', 'a', 't'): 29, ('h', 'i', 's'): 29, ('i', 'v', 'i'): 28, ('h', 'e', 'l'): 28, ('o', 'u', 'g'): 28, ('u', 'g', 'h'): 28, ('o', 's', 't'): 28, ('e', 'a', 'c'): 28, ('m', 'a', 't'): 28, ('n', 't', 'e'): 28, ('i', 'l', 'l'): 28, ('e', 's', 'h'): 28, ('h', 'e', 'c'): 28, ('r', 'g', 'e'): 27, ('s', 'g', 'i'): 27, ('e', 'f', 'o'): 27, ('a', 't', 't'): 27, ('n', 'd', 'e'): 27, ('o', 'o', 'd'): 27, ('i', 't', 'y'): 27, ('c', 'u', 'l'): 27, ('o', 'n', 'o'): 27, ('i', 'n', 's'): 27, ('e', 'n', 's'): 27, ('e', 'l', 'a'): 26, ('t', 'e', 'n'): 26, ('o', 'u', 't'): 26, ('a', 't', 'h'): 26, ('b', 'l', 'e'): 26, ('p', 'e', 'r'): 26, ('e', 'b', 'r'): 26, ('n', 'i', 'm'): 25, ('t', 'r', 'a'): 25, ('t', 'r', 'e'): 25, ('h', 'i', 'n'): 25, ('u', 'r', 'e'): 25, ('r', 'a', 'c'): 25, ('e', 'l', 'y'): 25, ('e', 'g', 's'): 25, ('r', 'e', 'l'): 25, ('m', 'a', 'y'): 25, ('t', 'o', 'f'): 25, ('a', 'p', 'p'): 25, ('b', 'e', 'e'): 25, ('n', 't', 'i'): 25, ('a', 'n', 'a'): 25, ('o', 'v', 'e'): 25, ('i', 'r', 's'): 25, ('g', 'r', 'o'): 25, ('a', 'l', 'a'): 24, ('l', 'i', 's'): 24, ('e', 's', 'u'): 24, ('s', 'u', 'r'): 24, ('a', 'r', 'a'): 24, ('s', 'c', 'a'): 24, ('h', 't', 'h'): 24, ('n', 'd', 'm'): 24, ('t', 'u', 'r'): 24, ('n', 'a', 't'): 24, ('o', 'm', 'p'): 24, ('r', 'e', 'e'): 24, ('s', 'i', 's'): 24, ('r', 't', 'e'): 24, ('a', 'l', 'v'): 24, ('n', 's', 't'): 24, ('h', 'o', 'u'): 23, ('s', 'e', 'a'): 23, ('v', 'e', 'n'): 23, ('a', 'c', 't'): 23, ('t', 't', 'e'): 23, ('w', 'i', 'l'): 23, ('s', 'o', 'c'): 23, ('n', 'e', 'r'): 23, ('r', 't', 'i'): 23, ('o', 'r', 'a'): 23, ('e', 'p', 'r'): 23, ('r', 'o', 'n'): 23, ('e', 'b', 'e'): 23, ('l', 's', 'o'): 23, ('a', 'r', 'g'): 22, ('f', 'f', 'a'): 22, ('t', 'a', 'l'): 22, ('v', 'i', 'n'): 22, ('s', 'p', 'r'): 22, ('c', 'h', 'i'): 22, ('l', 'e', 'a'): 22, ('o', 'w', 'e'): 22, ('s', 'w', 'h'): 22, ('a', 'd', 'u'): 22, ('e', 's', 'b'): 22, ('a', 'b', 'l'): 22, ('e', 'h', 'a'): 22, ('m', 'a', 'n'): 22, ('t', 'e', 's'): 22, ('a', 'r', 'l'): 22, ('e', 'n', 'g'): 22, ('f', 'e', 'r'): 22, ('r', 's', 't'): 22, ('l', 'v', 'e'): 22, ('s', 't', 's'): 22, ('r', 'i', 'c'): 21, ('r', 'e', 't'): 21, ('s', 'u', 'b'): 21, ('s', 'm', 'o'): 21, ('p', 'o', 's'): 21, ('e', 't', 'o'): 21, ('o', 'w', 'n'): 21, ('h', 'a', 'r'): 21, ('r', 'i', 's'): 21, ('g', 'e', 'r'): 21, ('g', 'r', 'e'): 21, ('t', 'h', 'r'): 21, ('n', 't', 'a'): 21, ('p', 'p', 'e'): 21, ('a', 's', 'o'): 21, ('o', 'r', 'm'): 21, ('e', 'w', 'i'): 21, ('s', 'o', 'n'): 21, ('w', 'a', 's'): 21, ('n', 'i', 't'): 21, ('i', 'n', 'i'): 21, ('i', 'l', 'e'): 21, ('i', 'd', 'e'): 21, ('e', 'i', 's'): 20, ('i', 's', 'a'): 20, ('i', 'a', 'l'): 20, ('a', 'r', 'd'): 20, ('m', 'o', 's'): 20, ('c', 'h', 'e'): 20, ('s', 's', 'e'): 20, ('t', 's', 'h'): 20, ('h', 'o', 'r'): 20, ('o', 'm', 'a'): 20, ('u', 'a', 'l'): 20, ('a', 'r', 'i'): 20, ('c', 'i', 'a'): 20, ('d', 'u', 'l'): 20, ('p', 'e', 'a'): 20, ('s', 'e', 'r'): 20, ('o', 'm', 'm'): 20, ('f', 'o', 'u'): 20, ('s', 'a', 's'): 20, ('i', 't', 'a'): 20, ('e', 'n', 'c'): 20, ('e', 'c', 'a'): 20, ('e', 'l', 'i'): 20, ('l', 'e', 'n'): 20, ('l', 'l', 'o'): 20, ('a', 'n', 's'): 20, ('h', 'e', 'b'): 20, ('l', 't', 'h'): 20, ('e', 'd', 'o'): 20, ('a', 'd', 'i'): 19, ('s', 'w', 'e'): 19, ('c', 'e', 'n'): 19, ('o', 'u', 'p'): 19, ('e', 'i', 'g'): 19, ('r', 'e', 'm'): 19, ('n', 'o', 't'): 19, ('o', 's', 's'): 19, ('h', 'e', 'o'): 19, ('h', 'e', 'w'): 19, ('y', 'i', 'n'): 19, ('o', 'm', 'i'): 19, ('i', 'l', 'i'): 19, ('o', 'd', 'e'): 19, ('y', 't', 'h'): 19, ('n', 'o', 'f'): 19, ('a', 'r', 'o'): 19, ('r', 'e', 'n'): 19, ('s', 'h', 'e'): 19, ('e', 'r', 'm'): 19, ('a', 'm', 'o'): 19, ('e', 'l', 'e'): 19, ('l', 'y', 's'): 19, ('i', 's', 'e'): 19, ('t', 'a', 't'): 19, ('a', 's', 'e'): 19, ('s', 'c', 'o'): 19, ('m', 'o', 'n'): 19, ('r', 'a', 'l'): 19, ('n', 'e', 'a'): 18, ('t', 'h', 't'): 18, ('d', 'a', 'l'): 18, ('e', 's', 'm'): 18, ('e', 'x', 't'): 18, ('t', 'o', 'c'): 18, ('o', 'f', 'g'): 18, ('f', 'g', 'i'): 18, ('f', 'f', 'i'): 18, ('a', 'b', 'i'): 18, ('r', 'o', 'w'): 18, ('o', 'w', 's'): 18, ('e', 'n', 'a'): 18, ('r', 'e', 'g'): 18, ('a', 's', 'i'): 18, ('r', 'v', 'e'): 18, ('t', 'i', 'm'): 18, ('p', 't', 'i'): 18, ('e', 'f', 'e'): 18, ('u', 'r', 'i'): 18, ('h', 'i', 'g'): 18, ('e', 'e', 'd'): 18, ('t', 'i', 's'): 17, ('l', 'l', 'e'): 17, ('l', 'i', 'v'): 17, ('n', 't', 'l'): 17, ('r', 'o', 'p'): 17, ('e', 'm', 'e'): 17, ('s', 'e', 'v'): 17, ('o', 'r', 'd'): 17, ('i', 's', 'h'): 17, ('c', 't', 'e'): 17, ('e', 'i', 't'): 17, ('s', 'e', 'x'): 17, ('c', 'k', 'a'): 17, ('p', 'o', 't'): 17, ('e', 'a', 'l'): 17, ('d', 'f', 'r'): 17, ('h', 'e', 'e'): 17, ('t', 's', 'a'): 17, ('e', 's', 'f'): 17, ('b', 'r', 'o'): 17, ('e', 'd', 'f'): 17, ('n', 'g', 'o'): 17, ('o', 'u', 's'): 17, ('w', 'h', 'e'): 17, ('c', 'e', 's'): 17, ('a', 'r', 's'): 17, ('l', 'i', 't'): 17, ('n', 's', 'e'): 17, ('i', 'a', 'n'): 17, ('t', 'l', 'e'): 17, ('s', 't', 'u'): 17, ('r', 's', 'a'): 17, ('s', 's', 'u'): 17, ('d', 'a', 't'): 17, ('l', 'e', 'd'): 17, ('a', 'l', 'f'): 17, ('o', 'f', 'a'): 17, ('n', 's', 'o'): 17, ('v', 'e', 'a'): 17, ('e', 't', 'i'): 17, ('a', 'l', 't'): 17, ('i', 's', 'p'): 17, ('d', 'o', 'n'): 17, ('a', 'g', 'i'): 17, ('i', 't', 'e'): 17, ('b', 'l', 'o'): 17, ('c', 'k', 's'): 17, ('a', 'f', 'r'): 16, ('g', 'i', 'n'): 16, ('r', 'a', 'd'): 16, ('m', 'e', 'l'): 16, ('e', 's', 'd'): 16, ('o', 'l', 'o'): 16, ('m', 'e', 'n'): 16, ('n', 'o', 'r'): 16, ('e', 'g', 'r'): 16, ('e', 'a', 'g'): 16, ('o', 'c', 'i'): 16, ('c', 'k', 'i'): 16, ('u', 'n', 'g'): 16, ('e', 'd', 'b'): 16, ('l', 'e', 't'): 16, ('m', 'e', 'r'): 16, ('e', 'r', 'o'): 16, ('a', 'a', 'n'): 16, ('n', 'd', 'p'): 16, ('r', 'v', 'i'): 16, ('g', 'r', 'a'): 16, ('d', 'e', 's'): 16, ('w', 'e', 'e'): 16, ('t', 'e', 'b'): 16, ('s', 'a', 'm'): 16, ('s', 'r', 'e'): 16, ('p', 'o', 'r'): 16, ('o', 'n', 'i'): 16, ('h', 'i', 'l'): 16, ('t', 's', 't'): 16, ('r', 'e', 'p'): 16, ('i', 'f', 'f'): 16, ('e', 'e', 's'): 16, ('h', 'o', 'w'): 16, ('b', 'e', 'c'): 16, ('f', 'r', 'i'): 15, ('h', 'e', 't'): 15, ('r', 'r', 'e'): 15, ('t', 'r', 'i'): 15, ('d', 'i', 't'): 15, ('l', 'o', 'p'): 15, ('t', 'l', 'y'): 15, ('u', 'p', 't'): 15, ('t', 's', 'p'): 15, ('e', 'l', 'l'): 15, ('e', 'n', 'o'): 15, ('c', 'o', 'r'): 15, ('n', 'd', 'l'): 15, ('d', 'l', 'e'): 15, ('l', 'i', 'k'): 15, ('i', 'k', 'e'): 15, ('n', 't', 'r'): 15, ('t', 'o', 's'): 15, ('t', 'g', 'i'): 15, ('s', 'u', 's'): 15, ('s', 'l', 'e'): 15, ('r', 's', 'o'): 15, ('p', 'l', 'a'): 15, ('o', 'f', 'f'): 15, ('s', 'f', 'o'): 15, ('c', 'e', 'a'): 15, ('r', 'n', 'a'): 15, ('t', 's', 'o'): 15, ('t', 'e', 'l'): 15, ('r', 'l', 'y'): 15, ('e', 'w', 'a'): 15, ('b', 'e', 't'): 15, ('u', 'm', 'a'): 15, ('i', 'c', 'u'): 15, ('h', 'e', 'd'): 15, ('h', 'e', 'p'): 15, ('m', 'e', 't'): 15, ('a', 'c', 'e'): 15, ('c', 'o', 'u'): 15, ('f', 'e', 'w'): 15, ('n', 'c', 'o'): 15, ('p', 'u', 'l'): 15, ('w', 'i', 'n'): 15, ('r', 'a', 'i'): 15, ('h', 'e', 'h'): 15, ('s', 'a', 'l'): 14, ('e', 's', 'g'): 14, ('v', 'i', 'd'): 14, ('c', 'h', 'o'): 14, ('p', 'a', 't'): 14, ('i', 'd', 'a'): 14, ('v', 'e', 't'): 14, ('c', 'a', 't'): 14, ('s', 'o', 'm'): 14, ('i', 'l', 'd'): 14, ('n', 'r', 'e'): 14, ('n', 'd', 'o'): 14, ('s', 's', 't'): 14, ('i', 'e', 'n'): 14, ('d', 'b', 'y'): 14, ('l', 'l', 'i'): 14, ('i', 'r', 'e'): 14, ('o', 'p', 'e'): 14, ('e', 'p', 'e'): 14, ('e', 'e', 'p'): 14, ('m', 'e', 's'): 14, ('r', 't', 'a'): 14, ('t', 'w', 'e'): 14, ('e', 's', 'k'): 14, ('r', 'a', 's'): 14, ('d', 'u', 'c'): 14, ('a', 'l', 'c'): 14, ('r', 'o', 't'): 14, ('s', 'e', 'l'): 14, ('n', 'i', 's'): 14, ('p', 'e', 'n'): 14, ('c', 'a', 'u'): 14, ('a', 'u', 's'): 14, ('o', 't', 'e'): 14, ('s', 'o', 'r'): 14, ('i', 's', 's'): 14, ('u', 's', 'i'): 14, ('o', 'p', 'u'): 14, ('o', 'l', 'd'): 14, ('f', 'e', 'e'): 14, ('g', 'e', 'a'): 13, ('o', 'b', 'e'): 13, ('o', 'p', 'a'): 13, ('r', 'd', 'a'): 13, ('u', 'b', 's'): 13, ('r', 'c', 'h'): 13, ('n', 'd', 'r'): 13, ('s', 'h', 'i'): 13, ('s', 'h', 'o'): 13, ('i', 'c', 'o'): 13, ('s', 'f', 'r'): 13, ('n', 'd', 'f'): 13, ('l', 'i', 'a'): 13, ('t', 'm', 'a'): 13, ('i', 'n', 'l'): 13, ('d', 'a', 's'): 13, ('m', 'o', 'd'): 13, ('n', 'd', 'h'): 13, ('n', 'g', 's'): 13, ('n', 'd', 'c'): 13, ('a', 's', 'b'): 13, ('o', 'f', 'i'): 13, ('r', 's', 'i'): 13, ('e', 'r', 'f'): 13, ('v', 'e', 'l'): 13, ('e', 'f', 'r'): 13, ('o', 'n', 'l'): 13, ('n', 'g', 'g'): 13, ('g', 'g', 'e'): 13, ('e', 'y', 'a'): 13, ('t', 'u', 'd'): 13, ('u', 'c', 'h'): 13, ('e', 't', 'w'): 13, ('i', 'v', 'a'): 13, ('a', 'v', 'i'): 13, ('n', 'd', 'd'): 13, ('t', 'e', 'c'): 13, ('g', 'g', 'i'): 13, ('d', 'u', 'r'): 13, ('t', 'o', 'm'): 13, ('t', 'r', 'o'): 13, ('d', 'i', 'f'): 13, ('o', 'r', 's'): 13, ('a', 't', 'o'): 13, ('p', 'o', 'p'): 13, ('v', 'a', 'l'): 13, ('a', 'c', 'k'): 13, ('m', 'o', 'u'): 13, ('r', 'm', 'o'): 13, ('e', 'h', 'e'): 13, ('f', 'e', 'i'): 12, ('e', 'g', 'e'): 12, ('c', 'a', 'm'): 12, ('o', 'p', 'o'): 12, ('t', 'o', 'e'): 12, ('o', 'n', 'd'): 12, ('l', 'l', 'a'): 12, ('o', 'm', 't'): 12, ('m', 't', 'h'): 12, ('s', 'p', 'o'): 12, ('o', 'k', 'a'): 12, ('k', 'a', 'p'): 12, ('s', 'o', 'u'): 12, ('e', 'w', 'e'): 12, ('l', 'y', 'i'): 12, ('p', 'r', 'i'): 12, ('l', 'y', 'a'): 12, ('a', 'c', 'i'): 12, ('e', 'o', 'p'): 12, ('n', 'a', 's'): 12, ('e', 's', 'l'): 12, ('i', 'o', 'u'): 12, ('g', 'a', 't'): 12, ('t', 's', 'w'): 12, ('b', 'i', 'l'): 12, ('o', 'r', 'i'): 12, ('f', 'e', 'a'): 12, ('a', 't', 'u'): 12, ('r', 't', 'o'): 12, ('n', 'f', 'o'): 12, ('p', 'l', 'e'): 12, ('r', 'n', 'e'): 12, ('u', 'n', 't'): 12, ('u', 'r', 'a'): 12, ('n', 'o', 'm'): 12, ('a', 'd', 'e'): 12, ('d', 'e', 'p'): 12, ('e', 'd', 'e'): 12, ('a', 't', 's'): 12, ('s', 'u', 'g'): 12, ('u', 'g', 'g'): 12, ('u', 'l', 'l'): 12, ('e', 'n', 'i'): 12, ('y', 't', 'o'): 12, ('v', 'e', 'b'): 12, ('a', 'd', 'a'): 12, ('a', 'n', 'o'): 12, ('m', 'o', 't'): 12, ('i', 'a', 't'): 12, ('s', 'e', 'n'): 12, ('i', 'm', 'e'): 12, ('y', 'p', 'o'): 12, ('e', 'w', 'h'): 12, ('a', 'i', 'r'): 12, ('o', 'r', 'y'): 12, ('s', 's', 'o'): 12, ('t', 'a', 'i'): 12, ('p', 'i', 'n'): 12, ('s', 'l', 'o'): 12, ('i', 'c', 'k'): 12, ('l', 'o', 'o'): 12, ('g', 'i', 'v'): 12, ('t', 'e', 'a'): 12, ('a', 't', 'a'): 12, ('f', 'i', 'c'): 12, ('u', 'p', 's'): 12, ('e', 'r', 'r'): 11, ('r', 'u', 'm'): 11, ('t', 'o', 'b'): 11, ('b', 's', 'p'): 11, ('e', 'c', 'e'): 11, ('y', 'r', 'e'): 11, ('d', 'd', 'i'): 11, ('m', 'i', 't'): 11, ('l', 'a', 's'): 11, ('a', 's', 'm'): 11, ('l', 'o', 'g'): 11, ('r', 'e', 'i'): 11, ('c', 'o', 'a'): 11, ('o', 'a', 't'): 11, ('a', 'l', 'o'): 11, ('a', 'p', 'i'): 11, ('u', 't', 'h'): 11, ('e', 'e', 'a'): 11, ('h', 'a', 'b'): 11, ('l', 'e', 'o'): 11, ('e', 'r', 'd'): 11, ('r', 'i', 'o'): 11, ('e', 'a', 'p'): 11, ('g', 'a', 'i'): 11, ('y', 'o', 'u'): 11, ('v', 'a', 'r'): 11, ('d', 'm', 'o'): 11, ('r', 'i', 't'): 11, ('d', 'c', 'a'): 11, ('u', 'n', 'i'): 11, ('t', 'i', 'l'): 11, ('d', 'a', 'r'): 11, ('r', 'e', 'f'): 11, ('l', 'y', 't'): 11, ('y', 'a', 'r'): 11, ('c', 'a', 'p'): 11, ('a', 'n', 'e'): 11, ('s', 'a', 'g'): 11, ('r', 'a', 'e'): 11, ('s', 'k', 'u'): 11, ('h', 'u', 'm'): 11, ('v', 'e', 'd'): 11, ('h', 'o', 's'): 11, ('n', 'd', 'b'): 11, ('h', 'r', 'e'): 11, ('e', 'r', 'g'): 11, ('s', 'n', 'e'): 11, ('f', 'i', 'r'): 11, ('t', 'i', 't'): 11, ('p', 'i', 'c'): 11, ('h', 'y', 'p'): 11, ('a', 't', 'c'): 11, ('t', 'c', 'o'): 11, ('n', 'c', 'l'): 11, ('c', 'l', 'u'): 11, ('y', 'a', 'l'): 11, ('i', 'n', 'o'): 11, ('r', 'm', 'a'): 11, ('t', 'e', 'm'): 11, ('y', 's', 't'): 11, ('t', 'o', 'p'): 11, ('e', 'r', 'c'): 11, ('t', 'r', 'u'): 10, ('t', 'o', 'n'): 10, ('l', 'y', 'g'): 10, ('e', 'm', 'i'): 10, ('o', 'g', 'i'): 10, ('n', 'g', 'u'): 10, ('n', 'g', 'c'): 10, ('n', 'g', 'n'): 10, ('k', 'a', 'n'): 10, ('s', 'i', 'c'): 10, ('s', 's', 'p'): 10, ('e', 'd', 'c'): 10, ('d', 'c', 'o'): 10, ('t', 'p', 'a'): 10, ('m', 'i', 'l'): 10, ('h', 'a', 'd'): 10, ('b', 'i', 't'): 10, ('d', 's', 't'): 10, ('f', 'o', 'o'): 10, ('d', 's', 'o'): 10, ('e', 'r', 'b'): 10, ('s', 'l', 'i'): 10, ('b', 'a', 'c'): 10, ('b', 'u', 't'): 10, ('e', 'g', 'a'): 10, ('h', 'r', 'o'): 10, ('o', 'm', 'b'): 10, ('i', 'n', 'm'): 10, ('n', 'm', 'a'): 10, ('a', 'c', 'c'): 10, ('o', 'r', 'r'): 10, ('f', 'e', 'h'): 10, ('n', 'b', 'e'): 10, ('k', 's', 'a'): 10, ('v', 'a', 't'): 10, ('t', 's', 'f'): 10, ('u', 'm', 'e'): 10, ('a', 'l', 'p'): 10, ('n', 'd', 'g'): 10, ('f', 'i', 'n'): 10, ('o', 's', 'i'): 10, ('n', 'e', 't'): 10, ('l', 'i', 'e'): 10, ('i', 'g', 'i'): 10, ('m', 'p', 'e'): 10, ('e', 'u', 's'): 10, ('r', 'd', 'i'): 10, ('n', 'a', 'r'): 10, ('c', 'o', 'l'): 10, ('n', 'l', 'y'): 10, ('p', 'i', 't'): 10, ('r', 'e', 'r'): 10, ('o', 'c', 'a'): 10, ('e', 'p', 'a'): 10, ('u', 'd', 'y'): 10, ('y', 'e', 'a'): 10, ('o', 'n', 'c'): 10, ('o', 'h', 'a'): 10, ('k', 'u', 'l'): 10, ('u', 'r', 't'): 10, ('a', 's', 'c'): 10, ('m', 'y', 'a'): 10, ('e', 'p', 'o'): 10, ('s', 'e', 'm'): 10, ('i', 'u', 'm'): 10, ('n', 's', 'u'): 10, ('m', 'a', 's'): 10, ('v', 'i', 't'): 10, ('s', 'p', 'a'): 10, ('n', 't', 't'): 10, ('u', 'c', 't'): 10, ('r', 'o', 'd'): 10, ('u', 'r', 'v'): 10, ('d', 'e', 'd'): 10, ('u', 's', 't'): 10, ('g', 'a', 'n'): 10, ('l', 'u', 'd'): 10, ('u', 'd', 'i'): 10, ('d', 'g', 'i'): 10, ('o', 'f', 'm'): 10, ('o', 'i', 'n'): 10, ('g', 'u', 'l'): 10, ('l', 'e', 'f'): 10, ('a', 'p', 't'): 10, ('c', 'u', 'r'): 10, ('i', 's', 'm'): 10, ('a', 't', 'l'): 10, ('u', 'r', 's'): 10, ('s', 'i', 'd'): 10, ('s', 'k', 'i'): 10, ('c', 'r', 'e'): 10, ('t', 'h', 's'): 10, ('o', 'f', 's'): 10, ('t', 'o', 'd'): 10, ('s', 'a', 't'): 10, ('i', 's', 'i'): 10, ('s', 'i', 'o'): 10, ('a', 'r', 'y'): 10, ('s', 'f', 'e'): 10, ('o', 'f', 'e'): 9, ('e', 'd', 'm'): 9, ('d', 'm', 'a'): 9, ('b', 'e', 'l'): 9, ('r', 'i', 'a'): 9, ('u', 'm', 'i'): 9, ('t', 't', 'o'): 9, ('e', 'o', 'n'): 9, ('a', 'c', 'a'): 9, ('a', 'r', 'c'): 9, ('r', 's', 'p'): 9, ('p', 't', 'o'): 9, ('r', 'm', 'i'): 9, ('i', 't', 'o'): 9, ('d', 'r', 'i'): 9, ('m', 'e', 'a'): 9, ('n', 'c', 't'): 9, ('g', 'n', 'e'): 9, ('a', 't', 'p'): 9, ('c', 'l', 'a'): 9, ('e', 'd', 'u'): 9, ('d', 'a', 'e'): 9, ('n', 'g', 'w'): 9, ('l', 'o', 's'): 9, ('r', 'f', 'o'): 9, ('r', 'c', 'e'): 9, ('o', 'd', 'y'): 9, ('r', 'd', 's'): 9, ('p', 'o', 'n'): 9, ('n', 'l', 'a'): 9, ('d', 'o', 'm'): 9, ('t', 'o', 'o'): 9, ('r', 'a', 'b'): 9, ('f', 'i', 't'): 9, ('i', 'n', 'n'): 9, ('a', 'r', 'k'): 9, ('p', 'p', 'r'): 9, ('o', 'x', 'i'): 9, ('m', 'b', 'e'): 9, ('m', 'p', 'o'): 9, ('n', 'e', 'n'): 9, ('n', 'g', 'l'): 9, ('d', 'p', 'r'): 9, ('r', 'o', 'b'): 9, ('l', 'e', 'e'): 9, ('f', 'e', 'c'): 9, ('o', 'l', 'u'): 9, ('r', 'd', 'e'): 9, ('g', 'h', 'o'): 9, ('c', 'e', 'r'): 9, ('o', 'v', 'i'): 9, ('r', 'a', 'g'): 9, ('a', 'd', 'o'): 9, ('e', 'd', 's'): 9, ('s', 'i', 'v'): 9, ('d', 'o', 'w'): 9, ('m', 'e', 'd'): 9, ('b', 'o', 'd'): 9, ('o', 'k', 'e'): 9, ('i', 'm', 'i'): 9, ('r', 'o', 'a'): 9, ('l', 'l', 's'): 9, ('c', 'e', 'd'): 9, ('t', 'i', 'e'): 9, ('d', 'e', 'n'): 9, ('o', 'd', 'u'): 9, ('l', 'a', 'c'): 9, ('t', 'c', 'h'): 9, ('c', 'e', 'o'): 9, ('n', 'g', 'm'): 9, ('n', 'g', 'd'): 9, ('y', 's', 'e'): 9, ('o', 'c', 'o'): 9, ('h', 'o', 't'): 9, ('e', 's', 'r'): 9, ('s', 'c', 'i'): 9, ('m', 'f', 't'): 9, ('r', 't', 't'): 9, ('g', 'e', 'i'): 9, ('m', 'o', 'v'): 9, ('l', 'd', 'e'): 9, ('f', 'e', 't'): 9, ('o', 'w', 't'): 9, ('p', 't', 'h'): 9, ('n', 'g', 'r'): 9, ('r', 'e', 'v'): 9, ('n', 's', 'a'): 9, ('p', 'e', 't'): 9, ('e', 't', 'e'): 9, ('y', 'a', 'n'): 9, ('k', 'e', 'n'): 9, ('m', 'm', 'a'): 8, ('g', 't', 'o'): 8, ('e', 't', 'a'): 8, ('s', 't', 'l'): 8, ('y', 'g', 'i'): 8, ('l', 'y', 'r'): 8, ('d', 'i', 'v'): 8, ('n', 'd', 'n'): 8, ('x', 't', 'i'): 8, ('c', 't', 's'): 8, ('k', 'n', 'o'): 8, ('n', 'o', 'w'): 8, ('o', 'r', 'n'): 8, ('o', 't', 't'): 8, ('i', 's', 'c'): 8, ('e', 'e', 'x'): 8, ('h', 't', 'o'): 8, ('i', 'n', 'h'): 8, ('n', 'h', 'a'): 8, ('t', 's', 'm'): 8, ('i', 'r', 'o'): 8, ('t', 'a', 'r'): 8, ('t', 'a', 'b'): 8, ('m', 'b', 'a'): 8, ('b', 'a', 't'): 8, ('b', 'o', 'u'): 8, ('b', 'e', 'a'): 8, ('r', 'i', 'g'): 8, ('d', 'h', 'a'): 8, ('n', 'f', 'e'): 8, ('s', 'b', 'o'): 8, ('b', 'y', 't'): 8, ('o', 'r', 'c'): 8, ('r', 'c', 'o'): 8, ('r', 'v', 'a'): 8, ('g', 'a', 'm'): 8, ('u', 't', 'e'): 8, ('t', 'e', 't'): 8, ('e', 'm', 'b'): 8, ('b', 'e', 'r'): 8, ('m', 'e', 'g'): 8, ('r', 'f', 'a'): 8, ('a', 'f', 'e'): 8, ('h', 'a', 'i'): 8, ('v', 'o', 'l'): 8, ('i', 's', 'o'): 8, ('t', 'w', 'o'): 8, ('e', 'o', 't'): 8, ('e', 'c', 'l'): 8, ('l', 'a', 'd'): 8, ('l', 'o', 'c'): 8, ('d', 's', 'p'): 8, ('s', 'p', 'l'): 8, ('r', 'i', 'b'): 8, ('t', 'o', 'h'): 8, ('m', 'p', 'a'): 8, ('f', 'o', 'l'): 8, ('n', 'e', 'e'): 8, ('e', 'r', 'y'): 8, ('i', 'z', 'e'): 8, ('y', 'h', 'a'): 8, ('u', 'c', 'e'): 8, ('v', 'i', 'c'): 8, ('s', 'e', 'o'): 8, ('u', 'r', 'o'): 8, ('g', 's', 'a'): 8, ('o', 'n', 'b'): 8, ('e', 'c', 'h'): 8, ('g', 'i', 's'): 8, ('s', 'w', 'a'): 8, ('e', 't', 'r'): 8, ('s', 'd', 'i'): 8, ('d', 'w', 'i'): 8, ('e', 'd', 'g'): 8, ('g', 'h', 'e'): 8, ('t', 'e', 'i'): 8, ('s', 'b', 'r'): 8, ('a', 'l', 'd'): 8, ('d', 'f', 'o'): 8, ('e', 'l', 's'): 8, ('e', 'q', 'u'): 8, ('t', 'o', 'g'): 8, ('l', 'e', 'c'): 8, ('r', 'g', 'i'): 8, ('e', 'f', 'i'): 8, ('s', 'a', 'f'): 8, ('a', 'g', 'r'): 8, ('g', 'm', 'a'): 8, ('a', 'n', 'r'): 8, ('c', 'h', 'c'): 8, ('w', 'e', 'v'): 8, ('a', 'b', 'o'): 8, ('n', 'g', 'p'): 8, ('l', 'a', 'y'): 8, ('g', 'e', 't'): 8, ('s', 'g', 'r'): 8, ('e', 'u', 'p'): 8, ('d', 'n', 'e'): 8, ('h', 'a', 'l'): 8, ('s', 'a', 'c'): 8, ('s', 'u', 'c'): 8, ('o', 'e', 's'): 8, ('l', 's', 't'): 8, ('i', 'n', 'k'): 8, ('e', 'p', 'i'): 8, ('i', 'c', 't'): 8, ('e', 'n', 'u'): 7, ('f', 'a', 'i'): 7, ('t', 's', 's'): 7, ('t', 's', 'e'): 7, ('g', 's', 'i'): 7, ('i', 'f', 'i'): 7, ('f', 'a', 'm'): 7, ('a', 'm', 'i'): 7, ('f', 'i', 'd'): 7, ('h', 'i', 't'): 7, ('e', 'o', 'k'): 7, ('e', 'd', 'r'): 7, ('s', 'u', 'a'): 7, ('v', 'a', 'n'): 7, ('n', 'd', 'w'): 7, ('o', 'd', 's'): 7, ('d', 'f', 'l'): 7, ('f', 'l', 'o'): 7, ('l', 'i', 'o'): 7, ('v', 'e', 'i'): 7, ('r', 'o', 'f'): 7, ('u', 's', 'a'): 7, ('i', 'e', 'r'): 7, ('r', 'a', 'r'): 7, ('a', 'p', 'o'): 7, ('n', 'c', 'i'): 7, ('r', 'a', 'p'): 7, ('c', 'a', 'r'): 7, ('o', 'n', 'f'): 7, ('r', 't', 's'): 7, ('r', 'r', 'a'): 7, ('d', 'i', 'c'): 7, ('r', 'o', 'x'): 7, ('x', 'i', 'm'): 7, ('m', 'e', 'm'): 7, ('e', 'p', 't'): 7, ('n', 'a', 'm'): 7, ('r', 'l', 'i'): 7, ('l', 't', 'i'): 7, ('u', 'r', 'n'): 7, ('p', 'a', 'c'): 7, ('a', 'c', 'o'): 7, ('d', 'o', 'f'): 7, ('f', 'a', 'n'): 7, ('b', 'l', 'y'): 7, ('d', 'i', 'r'): 7, ('r', 'o', 's'): 7, ('u', 't', 'i'): 7, ('o', 'f', 'o'): 7, ('s', 'c', 'e'): 7, ('t', 'o', 'a'): 7, ('m', 'u', 'c'): 7, ('s', 'c', 'r'): 7, ('c', 'r', 'i'): 7, ('b', 'e', 'd'): 7, ('d', 'e', 'a'): 7, ('n', 's', 'b'): 7, ('b', 'y', 'l'): 7, ('n', 'o', 'n'): 7, ('d', 'm', 'y'): 7, ('w', 'h', 'o'): 7, ('s', 'i', 'z'): 7, ('l', 'i', 'g'): 7, ('f', 'f', 'o'): 7, ('i', 'l', 'a'): 7, ('a', 'm', 'a'): 7, ('g', 'e', 'd'): 7, ('s', 'a', 'p'): 7, ('r', 'e', 'o'): 7, ('r', 'e', 'b'): 7, ('n', 'i', 'a'): 7, ('g', 'a', 'l'): 7, ('v', 'i', 'v'): 7, ('n', 'a', 'f'): 7, ('s', 'd', 'e'): 7, ('l', 'y', 'c'): 7, ('o', 'm', 'o'): 7, ('e', 'd', 'w'): 7, ('d', 'i', 'e'): 7, ('e', 'x', 'p'): 7, ('f', 'm', 'o'): 7, ('t', 'h', 'c'): 7, ('e', 'g', 'u'): 7, ('i', 'b', 'l'): 7, ('g', 'n', 'i'): 7, ('d', 'e', 't'): 7, ('a', 'i', 'l'): 7, ('o', 'g', 'e'): 7, ('i', 'c', 'i'): 7, ('i', 'n', 'f'): 7, ('s', 'u', 'p'): 7, ('u', 'p', 'p'): 7, ('p', 'p', 'o'): 7, ('s', 'n', 'o'): 7, ('l', 's', 'u'): 7, ('o', 'w', 'i'): 7, ('h', 't', 'i'): 7, ('l', 't', 'f'): 7, ('t', 's', 'b'): 7, ('c', 'm', 'i'): 7, ('n', 'l', 'o'): 7, ('a', 'g', 'a'): 7, ('h', 'c', 'a'): 7, ('e', 'a', 'm'): 7, ('f', 'l', 'a'): 7, ('u', 's', 'h'): 7, ('s', 'e', 'e'): 7, ('e', 'h', 'o'): 7, ('u', 't', 't'): 7, ('e', 'w', 'o'): 7, ('n', 'c', 'a'): 7, ('t', 'f', 'o'): 7, ('t', 's', 'g'): 7, ('o', 'n', 'h'): 7, ('r', 'i', 'e'): 7, ('o', 'c', 'c'): 7, ('e', 'y', 'e'): 7, ('a', 'y', 's'): 7, ('g', 'i', 't'): 7, ('t', 'a', 'g'): 7, ('e', 'r', 'l'): 7, ('t', 'e', 'e'): 7, ('o', 'l', 'a'): 7, ('a', 'k', 'e'): 7, ('n', 'g', 'b'): 7, ('c', 't', 'o'): 7, ('e', 'n', 'r'): 7, ('s', 'd', 'o'): 7, ('w', 'a', 't'): 7, ('k', 'e', 'e'): 7, ('e', 't', 's'): 7, ('p', 'e', 'o'): 7, ('m', 'm', 'o'): 7, ('t', 'p', 'r'): 7, ('t', 'w', 'i'): 7, ('o', 'f', 'b'): 7, ('m', 'm', 'u'): 7, ('e', 'a', 'f'): 6, ('a', 'i', 't'): 6, ('t', 'l', 'i'): 6, ('f', 'a', 'c'): 6, ('o', 'r', 'p'): 6, ('h', 'o', 'l'): 6, ('a', 'l', 'm'): 6, ('h', 'i', 'e'): 6, ('i', 'c', 's'): 6, ('y', 'l', 'o'): 6, ('s', 'c', 'l'): 6, ('i', 'e', 'd'): 6, ('i', 'l', 'y'): 6, ('a', 'e', 'a'): 6, ('u', 's', 'u'): 6, ('n', 'n', 'a'): 6, ('w', 'o', 'o'): 6, ('d', 'l', 'a'): 6, ('c', 'e', 'i'): 6, ('i', 's', 'l'): 6, ('e', 'a', 'v'): 6, ('m', 'a', 'r'): 6, ('y', 'a', 'c'): 6, ('i', 'a', 's'): 6, ('w', 's', 'e'): 6, ('h', 't', 's'): 6, ('h', 'l', 'i'): 6, ('d', 's', 's'): 6, ('n', 'h', 'e'): 6, ('f', 'r', 'e'): 6, ('u', 't', 'a'): 6, ('g', 'a', 'r'): 6, ('b', 'l', 'i'): 6, ('s', 'o', 'l'): 6, ('o', 'l', 'e'): 6, ('l', 'e', 'r'): 6, ('s', 'i', 'b'): 6, ('f', 't', 'e'): 6, ('l', 'n', 'e'): 6, ('l', 'f', 'o'): 6, ('l', 'p', 'a'): 6, ('l', 'y', 'm'): 6, ('z', 'o', 'o'): 6, ('l', 'y', 'f'): 6, ('l', 'u', 't'): 6, ('p', 'e', 'l'): 6, ('a', 'r', 'r'): 6, ('r', 'e', 'u'): 6, ('a', 'n', 'f'): 6, ('n', 'c', 'h'): 6, ('h', 'g', 'i'): 6, ('e', 'e', 'k'): 6, ('d', 'r', 'e'): 6, ('t', 'o', 'i'): 6, ('h', 'a', 'p'): 6, ('d', 'l', 'i'): 6, ('t', 'a', 'x'): 6, ('a', 'x', 'o'): 6, ('x', 'o', 'n'): 6, ('o', 'l', 'i'): 6, ('b', 'e', 'i'): 6, ('i', 'l', 'o'): 6, ('a', 'p', 'r'): 6, ('e', 'm', 'u'): 6, ('m', 'u', 's'): 6, ('s', 'e', 't'): 6, ('n', 'e', 'd'): 6, ('g', 'o', 'f'): 6, ('d', 'i', 'a'): 6, ('d', 's', 'i'): 6, ('r', 'i', 'u'): 6, ('e', 'u', 'r'): 6, ('l', 'c', 'a'): 6, ('i', 'm', 'p'): 6, ('r', 'u', 'c'): 6, ('c', 't', 'u'): 6, ('r', 'e', 'w'): 6, ('a', 'w', 'h'): 6, ('c', 'l', 'i'): 6, ('l', 'e', 'i'): 6, ('e', 'b', 'i'): 6, ('m', 'a', 'i'): 6, ('e', 'e', 'v'): 6, ('r', 'y', 's'): 6, ('i', 's', 'n'): 6, ('t', 'c', 'a'): 6, ('t', 'e', 'o'): 6, ('r', 'e', 'h'): 6, ('f', 'e', 'g'): 6, ('b', 'a', 's'): 6, ('s', 'd', 'a'): 6, ('u', 'r', 'r'): 6, ('y', 'o', 'n'): 6, ('u', 's', 'c'): 6, ('q', 'u', 'e'): 6, ('n', 'd', 'u'): 6, ('t', 's', 'i'): 6, ('o', 'u', 'l'): 6, ('u', 'l', 'd'): 6, ('d', 'b', 'e'): 6, ('l', 'i', 'c'): 6, ('c', 'e', 'p'): 6, ('m', 'u', 'l'): 6, ('r', 's', 's'): 6, ('c', 'i', 'n'): 6, ('g', 'o', 'n'): 6, ('h', 'o', 'd'): 6, ('m', 'i', 'c'): 6, ('a', 'n', 'b'): 6, ('d', 'e', 'l'): 6, ('g', 'c', 'a'): 6, ('d', 's', 'e'): 6, ('h', 'i', 'p'): 6, ('l', 'u', 'm'): 6, ('l', 'c', 'o'): 6, ('e', 'v', 'a'): 6, ('t', 'i', 'a'): 6, ('o', 'n', 'm'): 6, ('y', 'b', 'e'): 6, ('w', 'e', 'i'): 6, ('i', 's', 'k'): 6, ('t', 'f', 'e'): 6, ('t', 's', 'l'): 6, ('s', 'a', 'd'): 6, ('r', 'u', 's'): 6, ('e', 'b', 'l'): 6, ('e', 'm', 'p'): 6, ('l', 's', 'a'): 6, ('e', 'x', 'u'): 6, ('x', 'u', 'a'): 6, ('g', 'e', 'm'): 6, ('r', 's', 'e'): 6, ('d', 'p', 'o'): 6, ('t', 's', 'u'): 6, ('l', 'y', 'p'): 6, ('r', 'y', 't'): 6, ('f', 't', 'i'): 6, ('m', 'a', 'd'): 6, ('t', 'y', 'p'): 6, ('h', 'o', 'f'): 6, ('b', 'i', 'r'): 6, ('i', 'r', 't'): 6, ('d', 'u', 'p'): 6, ('o', 'c', 'k'): 6, ('c', 'k', 'e'): 6, ('t', 'o', 'l'): 6, ('n', 'm', 'o'): 6, ('n', 'c', 'r'): 6, ('r', 'l', 'e'): 6, ('q', 'u', 'i'): 6, ('t', 'l', 'o'): 6, ('e', 'f', 'f'): 6, ('r', 'e', 'q'): 6, ('a', 't', 'r'): 6, ('w', 'a', 'l'): 6, ('g', 's', 'o'): 6, ('n', 'y', 'o'): 6, ('d', 'a', 'y'): 6, ('p', 'a', 's'): 6, ('l', 'l', 't'): 6, ('s', 's', 'a'): 6, ('o', 'd', 'f'): 6, ('d', 'r', 'u'): 6, ('e', 'm', 't'): 6, ('m', 't', 'o'): 6, ('m', 'u', 'n'): 6, ('c', 'c', 'u'): 6, ('e', 'g', 'y'): 6, ('y', 'p', 't'): 6, ('o', 'p', 'l'): 6, ('f', 'e', 'p'): 6, ('a', 'n', 'h'): 5, ('n', 'h', 'o'): 5, ('n', 'u', 's'): 5, ('i', 's', 'w'): 5, ('e', 'd', 'd'): 5, ('h', 't', 'e'): 5, ('t', 'e', 'x'): 5, ('s', 'd', 'u'): 5, ('n', 'e', 'w'): 5, ('o', 'c', 'h'): 5, ('p', 'h', 'o'): 5, ('a', 's', 'u'): 5, ('s', 'c', 'h'): 5, ('n', 'l', 'i'): 5, ('r', 'n', 's'): 5, ('f', 'i', 'e'): 5, ('g', 'w', 'i'): 5, ('t', 's', 'c'): 5, ('c', 'l', 'o'): 5, ('x', 't', 'e'): 5, ('n', 'i', 'g'): 5, ('i', 'g', 'e'): 5, ('s', 't', 'g'): 5, ('a', 'v', 'a'): 5, ('a', 'n', 'n'): 5, ('u', 'r', 'c'): 5, ('c', 'a', 'c'): 5, ('a', 's', 'p'): 5, ('e', 'r', 'h'): 5, ('r', 'h', 'e'): 5, ('o', 't', 'r'): 5, ('o', 'r', 'b'): 5, ('o', 'r', 'h'): 5, ('s', 'b', 'u'): 5, ('g', 'c', 'o'): 5, ('a', 't', 'b'): 5, ('n', 't', 'm'): 5, ('c', 'c', 'e'): 5, ('y', 'f', 'o'): 5, ('d', 'v', 'a'): 5, ('u', 'l', 'i'): 5, ('e', 'n', 'f'): 5, ('p', 'a', 'i'): 5, ('o', 'o', 'k'): 5, ('a', 'l', 'u'): 5, ('r', 'p', 'a'): 5, ('n', 'u', 'm'): 5, ('y', 'm', 'o'): 5, ('g', 'l', 'i'): 5, ('o', 'b', 'a'): 5, ('b', 'a', 'b'): 5, ('i', 'c', 'e'): 5, ('t', 'd', 'e'): 5, ('r', 'i', 'v'): 5, ('o', 'p', 'r'): 5, ('i', 's', 'f'): 5, ('k', 'e', 's'): 5, ('a', 'p', 'e'): 5, ('l', 'o', 'u'): 5, ('e', 'v', 'o'): 5, ('e', 'o', 'r'): 5, ('n', 's', 'c'): 5, ('d', 'e', 'e'): 5, ('a', 't', 'g'): 5, ('c', 'h', 'm'): 5, ('h', 'm', 'o'): 5, ('i', 'b', 'e'): 5, ('g', 'e', 'c'): 5, ('o', 'l', 'l'): 5, ('c', 'h', 'h'): 5, ('h', 'h', 'a'): 5, ('m', 'b', 'l'): 5, ('l', 'y', 'b'): 5, ('i', 'l', 't'): 5, ('k', 'e', 'r'): 5, ('l', 'l', 'g'): 5, ('s', 'i', 'm'): 5, ('a', 'y', 'h'): 5, ('l', 't', 'g'): 5, ('p', 'a', 'l'): 5, ('d', 's', 'a'): 5, ('l', 's', 'w'): 5, ('s', 'f', 'i'): 5, ('r', 'n', 'g'): 5, ('t', 's', 'n'): 5, ('a', 's', 'l'): 5, ('k', 'e', 'l'): 5, ('c', 't', 'a'): 5, ('d', 'd', 'e'): 5, ('r', 'n', 'i'): 5, ('t', 'e', 'g'): 5, ('s', 'l', 'a'): 5, ('s', 't', 'w'): 5, ('t', 'w', 'h'): 5, ('v', 'e', 'f'): 5, ('o', 'p', 'i'): 5, ('t', 's', 'd'): 5, ('v', 'e', 'h'): 5, ('i', 'e', 't'): 5, ('a', 'y', 'a'): 5, ('s', 'o', 'h'): 5, ('s', 'e', 'p'): 5, ('h', 't', 'a'): 5, ('i', 't', 't'): 5, ('d', 'y', 'o'): 5, ('a', 'l', 'y'): 5, ('t', 'i', 'p'): 5, ('e', 'x', 'i'): 5, ('a', 'n', 'l'): 5, ('a', 'd', 't'): 5, ('t', 't', 'i'): 5, ('t', 'g', 'e'): 5, ('y', 's', 'u'): 5, ('b', 'o', 'r'): 5, ('s', 'b', 'a'): 5, ('f', 'a', 's'): 5, ('a', 't', 'w'): 5, ('l', 'o', 'f'): 5, ('a', 'y', 'b'): 5, ('e', 'n', 'p'): 5, ('d', 'e', 'g'): 5, ('l', 'a', 'g'): 5, ('n', 'a', 'd'): 5, ('n', 'd', 'k'): 5, ('s', 'p', 'i'): 5, ('i', 's', 'r'): 5, ('k', 'n', 'e'): 5, ('o', 'f', 'h'): 5, ('d', 'e', 'f'): 5, ('s', 'e', 'c'): 5, ('n', 'u', 't'): 5, ('l', 'd', 't'): 5, ('t', 'y', 't'): 5, ('g', 'h', 'i'): 5, ('e', 'b', 'a'): 5, ('b', 'a', 'l'): 5, ('m', 'o', 'f'): 5, ('v', 'i', 's'): 5, ('o', 'o', 't'): 5, ('r', 'u', 'n'): 5, ('e', 'r', 'w'): 5, ('y', 'p', 'i'): 5, ('f', 'l', 'e'): 5, ('h', 'e', 'u'): 5, ('c', 'k', 'l'): 5, ('k', 'l', 'e'): 5, ('d', 'p', 'a'): 5, ('l', 'y', 'e'): 5, ('e', 'd', 'n'): 5, ('d', 'e', 'o'): 5, ('l', 't', 's'): 5, ('s', 'o', 'v'): 5, ('t', 'a', 'k'): 5, ('s', 'e', 'g'): 5, ('n', 'h', 'i'): 5, ('n', 'n', 'e'): 5, ('w', 't', 'o'): 5, ('r', 'y', 'n'): 5, ('y', 'f', 'e'): 5, ('k', 's', 'i'): 5, ('c', 'e', 'l'): 5, ('o', 's', 'u'): 5, ('r', 's', 'u'): 5, ('a', 'l', 'k'): 5, ('l', 'k', 'i'): 5, ('e', 'h', 'i'): 5, ('p', 'h', 'a'): 5, ('k', 'i', 'l'): 5, ('b', 'e', 'h'): 5, ('u', 'm', 'b'): 5, ('w', 'n', 't'): 5, ('w', 'a', 'n'): 5, ('n', 'k', 'i'): 5, ('e', 'p', 's'): 5, ('i', 'd', 'u'): 5, ('d', 'u', 'a'): 5, ('i', 'n', 'b'): 5, ('t', 'e', 'w'): 5, ('o', 'd', 'i'): 5, ('l', 'e', 'm'): 5, ('c', 'e', 't'): 5, ('r', 'o', 'c'): 5, ('u', 'r', 'y'): 5, ('t', 'y', 'a'): 5, ('g', 'y', 'p'): 5, ('h', 'o', 'o'): 4, ('m', 'a', 'm'): 4, ('a', 'm', 'm'): 4, ('a', 'l', 'b'): 4, ('u', 's', 'g'): 4, ('c', 'l', 'e'): 4, ('a', 's', 'w'): 4, ('g', 'i', 'c'): 4, ('f', 'a', 'a'): 4, ('a', 'a', 'r'): 4, ('r', 'e', 'k'): 4, ('f', 'o', 's'): 4, ('s', 'i', 'l'): 4, ('g', 'u', 'i'): 4, ('e', 'o', 's'): 4, ('s', 'i', 'f'): 4, ('d', 'u', 'n'): 4, ('e', 'f', 'a'): 4, ('w', 'e', 's'): 4, ('s', 'a', 'v'): 4, ('n', 'a', 'h'): 4, ('h', 's', 'a'): 4, ('i', 'r', 'f'): 4, ('u', 'i', 't'): 4, ('o', 'f', 'w'): 4, ('c', 'h', 't'): 4, ('n', 'n', 'o'): 4, ('e', 'd', 'h'): 4, ('d', 'd', 'o'): 4, ('d', 'o', 'g'): 4, ('d', 'f', 'e'): 4, ('l', 'o', 'r'): 4, ('l', 't', 'm'): 4, ('y', 'g', 'a'): 4, ('u', 't', 's'): 4, ('i', 's', 'u'): 4, ('t', 'y', 'f'): 4, ('n', 'c', 'u'): 4, ('l', 't', 'u'): 4, ('e', 'c', 'u'): 4, ('i', 'n', 'p'): 4, ('n', 'p', 'a'): 4, ('o', 'f', 'n'): 4, ('u', 'l', 'n'): 4, ('n', 'e', 'x'): 4, ('t', 'i', 'r'): 4, ('a', 'n', 'y'): 4, ('r', 'm', 'e'): 4, ('n', 'z', 'o'): 4, ('o', 'o', 's'): 4, ('w', 'n', 'o'): 4, ('y', 'f', 'r'): 4, ('s', 'i', 'a'): 4, ('e', 'd', 'p'): 4, ('l', 'y', 'd'): 4, ('c', 't', 'l'): 4, ('i', 'd', 'd'): 4, ('h', 'f', 'o'): 4, ('d', 'e', 'v'): 4, ('p', 'e', 'd'): 4, ('r', 'r', 'i'): 4, ('w', 'o', 'l'): 4, ('o', 'd', 'a'): 4, ('y', 'l', 'a'): 4, ('e', 'r', 'u'): 4, ('b', 'o', 'v'): 4, ('a', 'e', 'c'): 4, ('d', 's', 'h'): 4, ('a', 'm', 'b'): 4, ('a', 'e', 'w'): 4, ('p', 'l', 'i'): 4, ('y', 'l', 'e'): 4, ('f', 'u', 'r'): 4, ('o', 'r', 'w'): 4, ('t', 'h', 'u'): 4, ('r', 'y', 'x'): 4, ('y', 'a', 'a'): 4, ('y', 'b', 'u'): 4, ('b', 'u', 'i'): 4, ('u', 'i', 'l'): 4, ('d', 'e', 'w'): 4, ('a', 'g', 'u'): 4, ('d', 'e', 'u'): 4, ('l', 's', 'h'): 4, ('o', 'a', 'd'): 4, ('r', 's', 'k'): 4, ('p', 'i', 'l'): 4, ('b', 'e', 'f'): 4, ('t', 't', 'r'): 4, ('c', 'k', 'p'): 4, ('n', 'e', 'u'): 4, ('e', 'b', 'o'): 4, ('d', 'n', 'o'): 4, ('m', 'a', 'e'): 4, ('c', 'i', 'l'): 4, ('b', 'u', 's'): 4, ('a', 'n', 'm'): 4, ('d', 'r', 'y'): 4, ('a', 'c', 'r'): 4, ('t', 'd', 'i'): 4, ('d', 'h', 'i'): 4, ('o', 'n', 'r'): 4, ('v', 'e', 'c'): 4, ('s', 'e', 'h'): 4, ('m', 'e', 'i'): 4, ('n', 'l', 'e'): 4, ('y', 'g', 'e'): 4, ('i', 'r', 'c'): 4, ('r', 'y', 'a'): 4, ('d', 'a', 'p'): 4, ('d', 's', 'u'): 4, ('c', 'o', 'g'): 4, ('o', 'g', 'n'): 4, ('l', 'y', 'o'): 4, ('a', 'l', 'n'): 4, ('h', 't', 'w'): 4, ('s', 'i', 'x'): 4, ('l', 'd', 'b'): 4, ('h', 'y', 'l'): 4, ('d', 'e', 'i'): 4, ('o', 'f', 'l'): 4, ('d', 'g', 'e'): 4, ('n', 'g', 'f'): 4, ('o', 'a', 'l'): 4, ('s', 'h', 'y'): 4, ('i', 's', 'g'): 4, ('r', 'r', 'o'): 4, ('s', 't', 'p'): 4, ('g', 's', 't'): 4, ('w', 's', 't'): 4, ('n', 's', 'h'): 4, ('e', 'e', 'i'): 4, ('o', 'r', 'g'): 4, ('f', 'a', 'l'): 4, ('a', 'u', 't'): 4, ('t', 'w', 'a'): 4, ('f', 'a', 'p'): 4, ('y', 'g', 'r'): 4, ('k', 'g', 'l'): 4, ('g', 'l', 'b'): 4, ('y', 'o', 'r'): 4, ('m', 'm', 'i'): 4, ('f', 'e', 'n'): 4, ('y', 'l', 'i'): 4, ('e', 'a', 'b'): 4, ('n', 'a', 'p'): 4, ('o', 'a', 'c'): 4, ('e', 'm', 's'): 4, ('s', 'y', 's'): 4, ('t', 'a', 'c'): 4, ('s', 'm', 'e'): 4, ('o', 'd', 'o'): 4, ('d', 'o', 'u'): 4, ('b', 'o', 't'): 4, ('f', 'u', 's'): 4, ('s', 'c', 'u'): 4, ('r', 'o', 'l'): 4, ('t', 'b', 'e'): 4, ('n', 'd', 'y'): 4, ('l', 'd', 'a'): 4, ('n', 'a', 'g'): 4, ('i', 'p', 'i'): 4, ('w', 't', 'h'): 4, ('o', 't', 'i'): 4, ('e', 'l', 'd'): 4, ('r', 'w', 'i'): 4, ('u', 'r', 'f'): 4, ('i', 's', 'b'): 4, ('r', 'h', 'a'): 4, ('p', 's', 't'): 4, ('b', 'u', 'r'): 4, ('i', 'a', 'g'): 4, ('e', 'e', 't'): 4, ('t', 'h', 'l'): 4, ('o', 'm', 'f'): 4, ('g', 'l', 'e'): 4, ('o', 'f', 'd'): 4, ('h', 'c', 'e'): 4, ('a', 'i', 's'): 4, ('e', 'u', 'n'): 4, ('r', 's', 'w'): 4, ('w', 'o', 'u'): 4, ('c', 'i', 'c'): 4, ('i', 'c', 'v'): 4, ('c', 'v', 'e'): 4, ('m', 'p', 't'): 4, ('f', 'a', 'r'): 4, ('i', 'f', 't'): 4, ('t', 'u', 'n'): 4, ('s', 'o', 't'): 4, ('r', 'y', 'o'): 4, ('r', 'b', 'r'): 4, ('o', 'd', 't'): 4, ('w', 's', 'i'): 4, ('t', 'h', 'f'): 4, ('d', 'r', 'o'): 4, ('e', 'r', 'p'): 4, ('u', 'i', 'r'): 4, ('d', 'h', 'e'): 4, ('b', 'j', 'e'): 4, ('j', 'e', 'c'): 4, ('i', 't', 'f'): 4, ('i', 'n', 'w'): 4, ('n', 'w', 'h'): 4, ('n', 'p', 'r'): 4, ('a', 'l', 'g'): 4, ('g', 'i', 'l'): 4, ('t', 'a', 's'): 4, ('i', 's', 'd'): 4, ('r', 'o', 'v'): 4, ('n', 't', 'u'): 4, ('m', 'i', 'g'): 4, ('n', 's', 'w'): 4, ('n', 'b', 'y'): 4, ('a', 'd', 's'): 4, ('t', 'u', 's'): 4, ('g', 'd', 'o'): 4, ('l', 'p', 'r'): 4, ('b', 'a', 'n'): 4, ('y', 'h', 'i'): 4, ('o', 'p', 'p'): 4, ('s', 't', 'c'): 4, ('s', 'o', 'p'): 4, ('e', 'y', 'h'): 4, ('n', 'm', 'e'): 4, ('o', 'f', 'p'): 4, ('y', 'a', 's'): 4, ('f', 'e', 'f'): 4, ('l', 't', 'r'): 4, ('l', 'i', 'f'): 4, ('i', 'f', 'e'): 4, ('c', 'c', 'o'): 4, ('y', 'm', 'a'): 4, ('u', 'n', 'a'): 4, ('l', 'd', 's'): 4, ('f', 'r', 'a'): 4, ('l', 'e', 'w'): 4, ('v', 'i', 'o'): 4, ('n', 'k', 'e'): 4, ('g', 'p', 'o'): 4, ('o', 'r', 'f'): 4, ('v', 'e', 'g'): 4, ('v', 'e', 'y'): 4, ('t', 'h', 'g'): 4, ('s', 'i', 'g'): 4, ('i', 'r', 'h'): 4, ('c', 'r', 'u'): 4, ('o', 'o', 'f'): 3, ('l', 'b', 'e'): 3, ('h', 't', 't'): 3, ('t', 'h', 'n'): 3, ('i', 'd', 'i'): 3, ('t', 'o', 'u'): 3, ('o', 'e', 'i'): 3, ('d', 'u', 'e'): 3, ('i', 'r', 'm'): 3, ('h', 'o', 'n'): 3, ('n', 'a', 'a'): 3, ('r', 'p', 'h'): 3, ('l', 'm', 'e'): 3, ('e', 'k', 'n'): 3, ('x', 't', 'r'): 3, ('o', 's', 'o'): 3, ('s', 't', 't'): 3, ('o', 'd', 'l'): 3, ('r', 'i', 'm'): 3, ('r', 'i', 'l'): 3, ('r', 'b', 'i'): 3, ('n', 's', 'l'): 3, ('y', 'e', 'n'): 3, ('d', 'a', 'f'): 3, ('a', 'n', 'w'): 3, ('n', 'w', 'i'): 3, ('l', 'd', 'd'): 3, ('g', 's', 'm'): 3, ('y', 'p', 'r'): 3, ('r', 'e', 'y'): 3, ('o', 'f', 'r'): 3, ('r', 'b', 'a'): 3, ('f', 'u', 'n'): 3, ('g', 'g', 'r'): 3, ('a', 'l', 'h'): 3, ('l', 'h', 'i'): 3, ('k', 'i', 's'): 3, ('w', 'e', 'a'): 3, ('g', 'a', 'c'): 3, ('c', 'h', 'b'): 3, ('h', 'b', 'e'): 3, ('g', 'u', 'e'): 3, ('e', 'd', 'v'): 3, ('r', 'n', 'c'): 3, ('e', 'n', 'b'): 3, ('l', 'u', 'n'): 3, ('n', 'i', 'o'): 3, ('e', 'i', 'u'): 3, ('i', 'u', 'c'): 3, ('u', 'c', 'n'): 3, ('v', 'u', 'l'): 3, ('o', 'e', 'x'): 3, ('i', 'r', 'p'): 3, ('y', 'p', 'a'): 3, ('r', 'k', 's'): 3, ('d', 'g', 'a'): 3, ('y', 'm', 'e'): 3, ('m', 'o', 'l'): 3, ('w', 'o', 'r'): 3, ('a', 'r', 'f'): 3, ('a', 'h', 'u'): 3, ('a', 'n', 'z'): 3, ('z', 'u', 'r'): 3, ('n', 'f', 'l'): 3, ('f', 'l', 'u'): 3, ('a', 'f', 'a'): 3, ('n', 'd', 'z'): 3, ('a', 'p', 'h'): 3, ('m', 'i', 'd'): 3, ('d', 'd', 'l'): 3, ('a', 'u', 'n'): 3, ('m', 'g', 'i'): 3, ('s', 'e', 'i'): 3, ('i', 't', 'd'): 3, ('n', 't', 'g'): 3, ('r', 'd', 'r'): 3, ('o', 'i', 't'): 3, ('y', 'e', 'v'): 3, ('y', 't', 'w'): 3, ('a', 'o', 'f'): 3, ('i', 'o', 'd'): 3, ('d', 'a', 'c'): 3, ('r', 'b', 'e'): 3, ('r', 'i', 'd'): 3, ('n', 'g', 'h'): 3, ('r', 'b', 'o'): 3, ('p', 'a', 'n'): 3, ('y', 'c', 'l'): 3, ('o', 'g', 'r'): 3, ('r', 'a', 'm'): 3, ('o', 'a', 'n'): 3, ('o', 'n', 'y'): 3, ('n', 'y', 'e'): 3, ('g', 'o', 't'): 3, ('e', 'e', 'l'): 3, ('f', 'e', 'l'): 3, ('e', 'f', 'u'): 3, ('r', 'w', 'a'): 3, ('d', 'w', 'h'): 3, ('b', 'y', 'a'): 3, ('y', 'a', 't'): 3, ('e', 'd', 'l'): 3, ('f', 'o', 'k'): 3, ('a', 'c', 'l'): 3, ('d', 's', 'l'): 3, ('a', 'e', 'o'): 3, ('g', 'u', 's'): 3, ('s', 's', 'h'): 3, ('c', 'a', 'a'): 3, ('a', 'd', 'b'): 3, ('o', 'r', 'o'): 3, ('r', 's', 'f'): 3, ('u', 'm', 'w'): 3, ('r', 's', 'b'): 3, ('b', 'o', 'h'): 3, ('o', 'h', 'l'): 3, ('i', 'a', 'w'): 3, ('a', 'w', 'a'): 3, ('f', 'e', 'b'): 3, ('n', 'b', 'o'): 3, ('i', 'a', 'a'): 3, ('l', 'i', 'm'): 3, ('o', 'c', 'e'): 3, ('b', 'i', 'o'): 3, ('j', 'u', 'm'): 3, ('y', 'c', 'a'): 3, ('b', 'e', 'g'): 3, ('i', 'e', 'v'): 3, ('y', 's', 'a'): 3, ('c', 'r', 'o'): 3, ('r', 's', 'h'): 3, ('n', 't', 'd'): 3, ('o', 't', 'o'): 3, ('n', 'r', 'a'): 3, ('a', 'h', 'i'): 3, ('c', 'i', 'd'): 3, ('n', 'b', 'a'): 3, ('h', 'c', 'o'): 3, ('l', 'g', 'r'): 3, ('p', 'o', 'f'): 3, ('p', 't', 'a'): 3, ('g', 'a', 'v'): 3, ('m', 'e', 'c'): 3, ('n', 'j', 'a'): 3, ('u', 'e', 's'): 3, ('e', 's', 'v'): 3, ('y', 'o', 'f'): 3, ('e', 'p', 'h'): 3, ('p', 'h', 'y'): 3, ('u', 'd', 'e'): 3, ('x', 'i', 's'): 3, ('e', 'x', 'c'): 3, ('d', 'y', 's'): 3, ('y', 's', 'h'): 3, ('t', 't', 'a'): 3, ('a', 't', 'm'): 3, ('o', 't', 'a'): 3, ('c', 'o', 'v'): 3, ('g', 'e', 'o'): 3, ('s', 'r', 'a'): 3, ('i', 'p', 'p'): 3, ('y', 'p', 'h'): 3, ('b', 'y', 'm'): 3, ('u', 'e', 'n'): 3, ('u', 'r', 'p'): 3, ('r', 'p', 'r'): 3, ('s', 'u', 'm'): 3, ('t', 'h', 'y'): 3, ('a', 's', 'g'): 3, ('y', 'd', 'e'): 3, ('a', 'f', 'o'): 3, ('u', 'b', 'l'): 3, ('f', 'a', 'g'): 3, ('f', 'u', 'l'): 3, ('l', 'w', 'i'): 3, ('b', 'f', 'o'): 3, ('y', 'i', 's'): 3, ('l', 'o', 't'): 3, ('o', 't', 'c'): 3, ('b', 'l', 'a'): 3, ('r', 'k', 'e'): 3, ('e', 'y', 'g'): 3, ('o', 'w', 'o'): 3, ('l', 'a', 'i'): 3, ('o', 'u', 'f'): 3, ('u', 'f', 'l'): 3, ('f', 's', 'a'): 3, ('d', 's', 'w'): 3, ('g', 't', 'r'): 3, ('o', 'g', 'a'): 3, ('b', 'e', 's'): 3, ('v', 'i', 'e'): 3, ('g', 'p', 'r'): 3, ('z', 'e', 'a'): 3, ('e', 'l', 'v'): 3, ('b', 'e', 'm'): 3, ('e', 'i', 'm'): 3, ('i', 'n', 'u'): 3, ('n', 'u', 'n'): 3, ('a', 'y', 'r'): 3, ('l', 's', 'b'): 3, ('d', 'y', 't'): 3, ('l', 'e', 'x'): 3, ('o', 'd', 'v'): 3, ('d', 'v', 'e'): 3, ('g', 'l', 'a'): 3, ('l', 'c', 'h'): 3, ('d', 'o', 'l'): 3, ('d', 'm', 'e'): 3, ('u', 'n', 'c'): 3, ('d', 'b', 'o'): 3, ('v', 'e', 'p'): 3, ('b', 'o', 'n'): 3, ('v', 'a', 's'): 3, ('e', 'n', 'm'): 3, ('i', 'a', 'b'): 3, ('a', 'y', 't'): 3, ('p', 'w', 'h'): 3, ('f', 'a', 'd'): 3, ('u', 'm', 'p'): 3, ('a', 't', 'f'): 3, ('l', 't', 'o'): 3, ('d', 'o', 'v'): 3, ('y', 'e', 's'): 3, ('s', 'a', 'b'): 3, ('a', 'd', 'v'): 3, ('h', 't', 'c'): 3, ('e', 'v', 'i'): 3, ('h', 'a', 'g'): 3, ('d', 's', 'm'): 3, ('a', 'r', 'p'): 3, ('n', 'o', 's'): 3, ('i', 'l', 's'): 3, ('h', 's', 't'): 3, ('s', 'b', 'l'): 3, ('c', 'k', 'o'): 3, ('k', 'o', 'f'): 3, ('f', 'f', 'l'): 3, ('i', 'r', 'y'): 3, ('s', 'a', 'h'): 3, ('a', 'h', 'a'): 3, ('f', 'f', 'r'): 3, ('c', 'k', 't'): 3, ('c', 'k', 'w'): 3, ('n', 'e', 'm'): 3, ('f', 'd', 'e'): 3, ('t', 'f', 'r'): 3, ('a', 'd', 'd'): 3, ('y', 'c', 'o'): 3, ('m', 'p', 'r'): 3, ('r', 'l', 'a'): 3, ('a', 'f', 't'): 3, ('s', 'w', 'o'): 3, ('t', 'o', 'y'): 3, ('a', 'n', 'u'): 3, ('a', 'e', 's'): 3, ('r', 'r', 'u'): 3, ('r', 'a', 'h'): 3, ('u', 'd', 'u'): 3, ('n', 'a', 'b'): 3, ('r', 's', 'c'): 3, ('h', 'w', 'h'): 3, ('c', 'h', 's'): 3, ('f', 'b', 'i'): 3, ('n', 'o', 'p'): 3, ('y', 'r', 'a'): 3, ('k', 'e', 'd'): 3, ('u', 't', 'r'): 3, ('c', 'h', 'p'): 3, ('l', 's', 'e'): 3, ('k', 's', 'e'): 3, ('s', 'h', 'd'): 3, ('h', 'd', 'o'): 3, ('n', 'a', 'c'): 3, ('y', 'n', 'e'): 3, ('p', 'l', 'o'): 3, ('y', 'o', 't'): 3, ('m', 's', 'o'): 3, ('o', 'f', 'c'): 3, ('x', 'p', 'l'): 3, ('d', 'b', 'a'): 3, ('e', 'h', 'u'): 3, ('a', 'n', 'k'): 3, ('e', 't', 't'): 3, ('d', 'i', 'g'): 3, ('l', 'v', 'i'): 3, ('w', 'o', 'g'): 3, ('e', 'b', 'y'): 3, ('w', 'a', 'r'): 3, ('l', 'm', 'o'): 3, ('t', 'u', 'm'): 3, ('l', 'o', 'm'): 3, ('y', 'n', 'o'): 3, ('i', 'r', 'l'): 3, ('e', 'y', 'm'): 3, ('m', 'a', 'k'): 3, ('s', 'b', 'y'): 3, ('o', 'd', 'r'): 3, ('b', 'e', 'n'): 3, ('s', 'k', 'n'): 3, ('l', 's', 'i'): 3, ('g', 'h', 'a'): 3, ('d', 'o', 'x'): 3, ('t', 'l', 'a'): 3, ('t', 'h', 'b'): 3, ('o', 'o', 'l'): 3, ('d', 't', 'i'): 3, ('s', 'm', 'u'): 3, ('n', 'o', 'u'): 3, ('t', 's', 'r'): 3, ('o', 'n', 'w'): 3, ('n', 'r', 'u'): 3, ('l', 'y', 'h'): 3, ('e', 'n', 'v'): 3, ('o', 'n', 'v'): 3, ('n', 'v', 'e'): 3, ('r', 'g', 'r'): 3, ('m', 'a', 'c'): 3, ('e', 't', 'u'): 3, ('a', 't', 'v'): 3, ('t', 'v', 'a'): 3, ('e', 'a', 'e'): 3, ('m', 'b', 'r'): 3, ('d', 't', 'e'): 3, ('f', 'c', 'a'): 3, ('p', 'p', 'i'): 3, ('r', 'f', 'e'): 3, ('s', 's', 'f'): 3, ('e', 's', 'y'): 3, ('o', 'w', 'a'): 3, ('n', 'i', 'c'): 3, ('l', 'd', 'i'): 3, ('f', 'i', 's'): 3, ('o', 'h', 'u'): 3, ('s', 'r', 'u'): 3, ('s', 'a', 'i'): 3, ('i', 'n', 'r'): 3, ('d', 'o', 'r'): 3, ('e', 'k', 's'): 3, ('f', 'i', 'g'): 3, ('o', 'a', 's'): 3, ('r', 'f', 'r'): 3, ('s', 's', 'n'): 3, ('t', 'i', 'f'): 3, ('x', 'p', 'e'): 3, ('w', 'n', 'a'): 3, ('h', 'm', 'e'): 3, ('r', 'w', 'h'): 3, ('r', 'o', 'k'): 3, ('n', 'e', 'f'): 3, ('p', 'o', 'o'): 3, ('l', 't', 'a'): 3, ('r', 'f', 'i'): 3, ('e', 'n', 'y'): 3, ('r', 'h', 'i'): 3, ('t', 'y', 'i'): 3, ('e', 'l', 'f'): 3, ('s', 'r', 'i'): 3, ('r', 'p', 'e'): 3, ('f', 'a', 'f'): 3, ('h', 'e', 'k'): 3, ('e', 'k', 'i'): 3, ('n', 'y', 'a'): 3, ('r', 'u', 'x'): 3, ('u', 'x', 'a'): 3, ('d', 'e', 'c'): 3, ('a', 'e', 'r'): 3, ('b', 'e', 'o'): 2, ('h', 'n', 'i'): 2, ('x', 't', 'a'): 2, ('w', 'r', 'e'): 2, ('d', 'n', 'u'): 2, ('n', 'u', 'c'): 2, ('d', 'n', 'a'): 2, ('a', 'a', 's'): 2, ('w', 'e', 'l'): 2, ('r', 'e', 'x'): 2, ('w', 'n', 'f'): 2, ('n', 'f', 'r'): 2, ('l', 'r', 'e'): 2, ('r', 'd', 't'): 2, ('f', 'd', 'i'): 2, ('u', 'i', 's'): 2, ('l', 'y', 'l'): 2, ('r', 'n', 'l'): 2, ('k', 'e', 'o'): 2, ('s', 's', 'c'): 2, ('d', 'r', 'a'): 2, ('g', 'e', 'e'): 2, ('c', 'a', 'i'): 2, ('a', 'h', 's'): 2, ('f', 'r', 'u'): 2, ('r', 'u', 'i'): 2, ('b', 'i', 'v'): 2, ('i', 'v', 'o'): 2, ('v', 'o', 'r'): 2, ('d', 'h', 'y'): 2, ('h', 'y', 'e'): 2, ('o', 'g', 's'): 2, ('y', 'u', 'p'): 2, ('u', 'p', 'o'): 2, ('g', 'o', 'r'): 2, ('o', 'f', 'u'): 2, ('d', 'a', 'd'): 2, ('a', 'y', 'g'): 2, ('h', 's', 'o'): 2, ('h', 'n', 'e'): 2, ('t', 'b', 'o'): 2, ('s', 'a', 'w'): 2, ('s', 'g', 'a'): 2, ('i', 'b', 'i'): 2, ('e', 'y', 'o'): 2, ('i', 'a', 'r'): 2, ('g', 's', 'b'): 2, ('b', 'o', 'o'): 2, ('o', 'k', 's'): 2, ('o', 'o', 'n'): 2, ('f', 'n', 'a'): 2, ('c', 'n', 'a'): 2, ('a', 's', 'v'): 2, ('s', 'v', 'u'): 2, ('n', 'n', 'u'): 2, ('u', 's', 'n'): 2, ('s', 'n', 'a'): 2, ('n', 'w', 'e'): 2, ('k', 'e', 'p'): 2, ('i', 'n', 'z'): 2, ('e', 't', 'y'): 2, ('o', 'g', 'y'): 2, ('t', 'k', 'n'): 2, ('b', 'i', 'c'): 2, ('z', 'a', 'r'): 2, ('r', 'n', 'p'): 2, ('p', 'o', 'u'): 2, ('d', 'p', 'l'): 2, ('j', 'a', 'r'): 2, ('d', 'z', 'i'): 2, ('z', 'i', 'r'): 2, ('y', 'd', 'i'): 2, ('f', 'a', 'u'): 2, ('r', 'm', 'g'): 2, ('m', 'd', 'e'): 2, ('c', 'h', 'g'): 2, ('h', 'n', 'a'): 2, ('m', 'l', 'o'): 2, ('p', 'r', 'd'): 2, ('o', 's', 'c'): 2, ('k', 'e', 'c'): 2, ('n', 'e', 'o'): 2, ('r', 'a', 'a'): 2, ('e', 'e', 'r'): 2, ('t', 't', 'l'): 2, ('e', 'g', 'o'): 2, ('h', 'i', 'd'): 2, ('s', 'k', 'd'): 2, ('k', 'd', 'e'): 2, ('w', 'f', 'i'): 2, ('a', 'g', 'o'): 2, ('v', 'e', 'w'): 2, ('h', 'o', 'v'): 2, ('s', 't', 'v'): 2, ('l', 'l', 'l'): 2, ('w', 'e', 'd'): 2, ('o', 'f', 'v'): 2, ('r', 'd', 'o'): 2, ('s', 'l', 'y'): 2, ('y', 'a', 'o'): 2, ('a', 'o', 'r'): 2, ('a', 'l', 'r'): 2, ('d', 'a', 'm'): 2, ('d', 'i', 'u'): 2, ('u', 'm', 's'): 2, ('m', 's', 'i'): 2, ('z', 'e', 'd'): 2, ('h', 't', 'l'): 2, ('a', 'o', 'n'): 2, ('u', 'b', 'c'): 2, ('b', 'c', 'o'): 2, ('n', 'o', 'k'): 2, ('p', 'i', 'o'): 2, ('i', 'o', 'r'): 2, ('l', 'g', 'i'): 2, ('t', 'h', 'm'): 2, ('i', 'd', 's'): 2, ('d', 'b', 'r'): 2, ('l', 'a', 'e'): 2, ('u', 's', 's'): 2, ('t', 'a', 'f'): 2, ('c', 'a', 'v'): 2, ('p', 'i', 'a'): 2, ('a', 'p', 'a'): 2, ('y', 's', 'i'): 2, ('c', 'h', 'f'): 2, ('t', 'a', 'p'): 2, ('y', 'a', 'd'): 2, ('i', 'a', 'c'): 2, ('d', 'c', 'h'): 2, ('e', 'w', 's'): 2, ('c', 'a', 'd'): 2, ('e', 'p', 'l'): 2, ('m', 'e', 'b'): 2, ('i', 'o', 'l'): 2, ('g', 'j', 'u'): 2, ('d', 'i', 'd'): 2, ('e', 'n', 'h'): 2, ('d', 'w', 'e'): 2, ('a', 'h', 'e'): 2, ('e', 'h', 'y'): 2, ('w', 'h', 'a'): 2, ('u', 'p', 'l'): 2, ('m', 'u', 't'): 2, ('d', 'a', 'h'): 2, ('f', 'e', 'v'): 2, ('c', 'o', 'i'): 2, ('d', 'b', 'i'): 2, ('i', 'o', 'f'): 2, ('d', 'o', 'k'): 2, ('c', 'i', 'r'): 2, ('r', 'c', 'u'): 2, ('n', 'a', 'e'): 2, ('b', 'i', 'n'): 2, ('l', 'n', 'a'): 2, ('h', 'u', 'r'): 2, ('i', 'n', 'j'): 2, ('b', 'r', 'i'): 2, ('s', 'v', 'a'): 2, ('o', 'o', 'r'): 2, ('l', 'd', 'n'): 2, ('d', 'y', 'u'): 2, ('y', 'u', 's'): 2, ('g', 'y', 'o'): 2, ('d', 'y', 'a'): 2, ('f', 'm', 'u'): 2, ('i', 'p', 'l'): 2, ('a', 't', 'd'): 2, ('o', 'd', 'c'): 2, ('c', 'h', 'y'): 2, ('z', 'i', 'n'): 2, ('t', 'm', 'u'): 2, ('d', 's', 'c'): 2, ('g', 'a', 's'): 2, ('d', 's', 'd'): 2, ('p', 'h', 'i'): 2, ('n', 's', 'p'): 2, ('g', 'h', 'l'): 2, ('h', 'l', 'y'): 2, ('t', 'p', 'o'): 2, ('u', 'r', 'd'): 2, ('i', 'c', 'r'): 2, ('h', 's', 'c'): 2, ('g', 't', 'a'): 2, ('r', 'i', 'p'): 2, ('u', 'm', 'n'): 2, ('s', 'f', 'a'): 2, ('l', 'e', 'y'): 2, ('c', 'o', 'p'): 2, ('n', 'p', 'u'): 2, ('f', 't', 't'): 2, ('l', 'l', 'w'): 2, ('h', 'm', 'a'): 2, ('g', 'e', 'w'): 2, ('s', 'k', 'g'): 2, ('l', 'b', 'f'): 2, ('d', 'k', 'g'): 2, ('a', 'y', 'o'): 2, ('g', 'd', 'a'): 2, ('t', 'u', 'f'): 2, ('u', 'f', 't'): 2, ('f', 't', 'o'): 2, ('f', 'h', 'a'): 2, ('a', 's', 'd'): 2, ('r', 'k', 'b'): 2, ('s', 't', 'n'): 2, ('t', 'n', 'u'): 2, ('t', 'b', 'r'): 2, ('l', 'y', 'w'): 2, ('y', 'w', 'h'): 2, ('d', 'b', 'u'): 2, ('w', 'o', 'f'): 2, ('d', 'a', 'b'): 2, ('m', 's', 'e'): 2, ('r', 'c', 'a'): 2, ('i', 'q', 'u'): 2, ('l', 'f', 's'): 2, ('f', 's', 'u'): 2, ('m', 'p', 'l'): 2, ('l', 's', 'y'): 2, ('m', 's', 'a'): 2, ('s', 't', 'm'): 2, ('l', 'l', 'b'): 2, ('h', 'c', 'm'): 2, ('l', 'b', 'o'): 2, ('n', 'g', 'v'): 2, ('u', 'i', 'd'): 2, ('e', 'x', 'o'): 2, ('x', 'o', 'r'): 2, ('l', 'l', 'm'): 2, ('l', 'm', 'a'): 2, ('p', 'c', 'a'): 2, ('l', 'c', 'i'): 2, ('c', 'i', 'u'): 2, ('p', 's', 'o'): 2, ('s', 's', 'k'): 2, ('m', 'e', 'h'): 2, ('e', 'o', 'c'): 2, ('d', 'y', 'l'): 2, ('d', 'g', 'r'): 2, ('y', 'a', 'b'): 2, ('e', 'm', 'w'): 2, ('m', 'w', 'i'): 2, ('d', 'v', 'i'): 2, ('l', 'f', 'i'): 2, ('i', 'e', 'l'): 2, ('l', 'd', 'f'): 2, ('e', 'e', 'y'): 2, ('f', 'h', 'e'): 2, ('o', 'v', 'a'): 2, ('t', 'o', 'w'): 2, ('d', 'b', 'l'): 2, ('u', 't', 'c'): 2, ('a', 'p', 's'): 2, ('s', 'u', 'n'): 2, ('u', 'n', 'b'): 2, ('n', 'b', 'u'): 2, ('s', 'f', 'l'): 2, ('x', 'i', 'b'): 2, ('e', 'r', 'j'): 2, ('j', 'a', 'w'): 2, ('w', 'i', 'd'): 2, ('h', 'l', 'o'): 2, ('w', 'n', 's'): 2, ('y', 'e', 'l'): 2, ('b', 'e', 'u'): 2, ('j', 'u', 'v'): 2, ('u', 'v', 'e'): 2, ('n', 'i', 'l'): 2, ('c', 'k', 'r'): 2, ('k', 'r', 'e'): 2, ('s', 'u', 'l'): 2, ('a', 'e', 'n'): 2, ('o', 't', 'f'): 2, ('r', 'c', 'm'): 2, ('y', 't', 'a'): 2, ('t', 'h', 'p'): 2, ('h', 'p', 'e'): 2, ('l', 'd', 'h'): 2, ('l', 't', 't'): 2, ('o', 'y', 'o'): 2, ('k', 'p', 'r'): 2, ('k', 'a', 'r'): 2, ('l', 'd', 'u'): 2, ('i', 'g', 'a'): 2, ('e', 's', 'n'): 2, ('k', 'e', 't'): 2, ('k', 'e', 'i'): 2, ('i', 'b', 'u'): 2, ('n', 'r', 'i'): 2, ('t', 'u', 'a'): 2, ('o', 't', 'g'): 2, ('p', 't', 'e'): 2, ('l', 'f', 'e'): 2, ('c', 'o', 'f'): 2, ('x', 'c', 'e'): 2, ('f', 's', 'e'): 2, ('y', 'c', 'h'): 2, ('g', 'b', 'r'): 2, ('o', 'm', 's'): 2, ('r', 's', 'l'): 2, ('k', 'u', 'd'): 2, ('d', 'i', 'm'): 2, ('k', 'a', 's'): 2, ('a', 's', 'k'): 2, ('u', 't', 'm'): 2, ('l', 'e', 'v'): 2, ('e', 'e', 'f'): 2, ('t', 'a', 'd'): 2, ('s', 'u', 'f'): 2, ('u', 'f', 'f'): 2, ('t', 'y', 'r'): 2, ('h', 'p', 'u'): 2, ('p', 'u', 't'): 2, ('o', 'l', 'v'): 2, ('e', 'o', 'b'): 2, ('o', 'b', 'j'): 2, ('t', 'f', 'a'): 2, ('s', 'o', 'b'): 2, ('v', 'i', 'g'): 2, ('g', 's', 'l'): 2, ('i', 'u', 's'): 2, ('n', 'a', 'o'): 2, ('p', 'u', 's'): 2, ('w', 'r', 'i'): 2, ('s', 't', 'f'): 2, ('n', 'k', 'y'): 2, ('l', 's', 'g'): 2, ('o', 'o', 'v'): 2, ('l', 'a', 'w'): 2, ('a', 'w', 's'): 2, ('w', 's', 'a'): 2, ('l', 'i', 'u'): 2, ('m', 'h', 'a'): 2, ('g', 'w', 'a'): 2, ('m', 'e', 'o'): 2, ('l', 'l', 'c'): 2, ('v', 'e', 'm'): 2, ('d', 'e', 'b'): 2, ('m', 'w', 'h'): 2, ('t', 'o', 'k'): 2, ('k', 'm', 'h'): 2, ('m', 'h', 'm'): 2, ('h', 'm', 'p'): 2, ('m', 'p', 'h'): 2, ('w', 'i', 'm'): 2, ('i', 'm', 'm'): 2, ('g', 's', 'w'): 2, ('a', 'k', 'i'): 2, ('t', 'b', 'a'): 2, ('c', 'k', 'u'): 2, ('k', 'u', 'p'): 2, ('u', 'p', 'i'): 2, ('t', 'f', 'i'): 2, ('u', 'p', 'w'): 2, ('a', 'i', 'g'): 2, ('u', 'p', 'a'): 2, ('a', 'd', 'f'): 2, ('c', 'h', 'd'): 2, ('t', 's', 'k'): 2, ('p', 's', 'i'): 2, ('d', 'h', 'o'): 2, ('a', 't', 'n'): 2, ('i', 't', 'u'): 2, ('p', 's', 'l'): 2, ('w', 'n', 'h'): 2, ('p', 's', 'h'): 2, ('n', 'o', 'l'): 2, ('e', 'p', 'p'): 2, ('i', 'p', 'o'): 2, ('t', 'e', 'p'): 2, ('e', 'f', 't'): 2, ('f', 't', 'r'): 2, ('y', 'n', 'g'): 2, ('h', 'e', 'v'): 2, ('h', 'u', 's'): 2, ('s', 't', 'y'): 2, ('s', 'k', 'e'): 2, ('o', 'l', 't'): 2, ('l', 'l', 'u'): 2, ('k', 'g', 'i'): 2, ('o', 'w', 'w'): 2, ('t', 'i', 'd'): 2, ('l', 'v', 'o'): 2, ('l', 'l', 'p'): 2, ('o', 'x', 'y'): 2, ('x', 'y', 'g'): 2, ('i', 't', 'c'): 2, ('p', 'i', 'r'): 2, ('f', 'f', 'u'): 2, ('e', 'm', 'h'): 2, ('t', 'e', 'f'): 2, ('y', 'd', 'o'): 2, ('n', 'f', 'a'): 2, ('l', 'y', 'u'): 2, ('s', 's', 'b'): 2, ('i', 't', 'r'): 2, ('l', 's', 'c'): 2, ('h', 'b', 'l'): 2, ('t', 'b', 'l'): 2, ('o', 'o', 'm'): 2, ('e', 'o', 'e'): 2, ('o', 'p', 'h'): 2, ('h', 'a', 'm'): 2, ('y', 's', 'm'): 2, ('l', 'r', 'a'): 2, ('f', 's', 'm'): 2, ('l', 'g', 'a'): 2, ('r', 'y', 'h'): 2, ('d', 'o', 'p'): 2, ('i', 'e', 'a'): 2, ('m', 'i', 'p'): 2, ('i', 'p', 'h'): 2, ('y', 's', 'p'): 2, ('g', 'o', 'l'): 2, ('n', 'v', 'i'): 2, ('v', 'i', 'r'): 2, ('r', 'u', 'b'): 2, ('a', 'b', 'u'): 2, ('c', 't', 'p'): 2, ('g', 'e', 'f'): 2, ('y', 's', 'w'): 2, ('e', 'y', 'f'): 2, ('a', 'y', 'i'): 2, ('w', 'a', 'i'): 2, ('t', 'y', 'd'): 2, ('r', 'y', 'i'): 2, ('l', 'f', 'a'): 2, ('g', 'f', 'o'): 2, ('p', 'u', 'r'): 2, ('r', 'p', 'o'): 2, ('o', 'n', 'k'): 2, ('n', 'z', 'a'): 2, ('z', 'a', 'n'): 2, ('u', 'b', 'p'): 2, ('b', 'p', 'o'): 2, ('h', 'd', 'i'): 2, ('l', 'f', 'm'): 2, ('l', 'e', 'b'): 2, ('b', 'i', 'a'): 2, ('o', 'n', 'n'): 2, ('g', 'h', 'm'): 2, ('h', 'm', 'i'): 2, ('p', 's', 'm'): 2, ('p', 's', 'a'): 2, ('g', 'w', 'h'): 2, ('k', 's', 'o'): 2, ('h', 's', 'y'): 2, ('s', 'y', 'o'): 2, ('h', 'f', 'e'): 2, ('c', 'c', 'a'): 2, ('c', 'a', 's'): 2, ('o', 'a', 'm'): 2, ('o', 'c', 'r'): 2, ('t', 'o', 'v'): 2, ('z', 'e', 's'): 2, ('g', 'h', 's'): 2, ('n', 's', 'g'): 2, ('p', 'm', 'a'): 2, ('m', 'e', 'w'): 2, ('o', 'e', 'a'): 2, ('f', 'l', 'y'): 2, ('a', 'd', 'l'): 2, ('r', 'y', 'd'): 2, ('n', 'o', 'e'): 2, ('r', 't', 'u'): 2, ('n', 'e', 'i'): 2, ('t', 'y', 'b'): 2, ('u', 's', 'f'): 2, ('p', 't', 't'): 2, ('u', 'd', 'g'): 2, ('g', 'e', 'h'): 2, ('t', 'h', 'h'): 2, ('h', 'h', 'i'): 2, ('s', 'o', 's'): 2, ('w', 'o', 'm'): 2, ('n', 'u', 'r'): 2, ('y', 'h', 'e'): 2, ('d', 'd', 'r'): 2, ('d', 'k', 'i'): 2, ('k', 'i', 'c'): 2, ('g', 'i', 'f'): 2, ('u', 'c', 'k'): 2, ('f', 'w', 'i'): 2, ('t', 'h', 'w'): 2, ('h', 'w', 'i'): 2, ('x', 'm', 'o'): 2, ('t', 'm', 'o'): 2, ('r', 'y', 'e'): 2, ('i', 'r', 'n'): 2, ('t', 'y', 'n'): 2, ('p', 'o', 'w'): 2, ('u', 'e', 'l'): 2, ('n', 'j', 'u'): 2, ('f', 'b', 'r'): 2, ('c', 'e', 'b'): 2, ('i', 'g', 'n'): 2, ('n', 'i', 'f'): 2, ('y', 'e', 'd'): 2, ('l', 'v', 'a'): 2, ('f', 'm', 'i'): 2, ('i', 'g', 'r'): 2, ('z', 'e', 'b'): 2, ('a', 's', 'r'): 2, ('o', 'n', 'p'): 2, ('r', 'a', 'w'): 2, ('m', 'e', 'p'): 2, ('k', 's', 'p'): 2, ('m', 'a', 'a'): 2, ('d', 'y', 'e'): 2, ('p', 'e', 's'): 2, ('s', 'y', 'm'): 2, ('s', 'h', 'u'): 2, ('k', 'i', 'f'): 2, ('f', 'i', 'a'): 2, ('o', 'r', 'l'): 2, ('t', 'p', 'e'): 2, ('r', 'o', 'g'): 2, ('o', 'g', 'l'): 2, ('g', 'l', 'y'): 2, ('u', 'b', 'j'): 2, ('n', 'p', 'e'): 2, ('r', 'n', 'k'): 2, ('e', 'e', 'g'): 2, ('m', 'b', 'o'): 2, ('l', 'a', 'm'): 2, ('s', 'm', 'i'): 2, ('a', 'i', 'd'): 2, ('d', 'f', 'i'): 2, ('f', 'i', 'l'): 2, ('i', 'l', 'm'): 2, ('l', 'm', 's'): 2, ('e', 'y', 's'): 2, ('d', 'd', 'u'): 2, ('d', 'a', 'g'): 2, ('u', 's', 'm'): 2, ('n', 'a', 'u'): 2, ('o', 't', 's'): 2, ('x', 'a', 'n'): 2, ('e', 'l', 't'): 2, ('u', 'c', 'i'): 2, ('n', 'r', 'o'): 2, ('a', 'l', 'w'): 2, ('i', 't', 'w'): 2, ('r', 'h', 'u'): 2, ('n', 't', 'p'): 2, ('u', 'm', 'r'): 2, ('u', 'm', 'm'): 2, ('m', 'm', 'n'): 2, ('m', 'n', 'y'): 2, ('y', 'o', 'l'): 2, ('l', 'o', 'k'): 2, ('o', 'k', 'h'): 2, ('d', 't', 'r'): 2, ('f', 'e', 'd'): 1, ('g', 't', 'e'): 1, ('h', 't', 'r'): 1, ('u', 'e', 't'): 1, ('e', 'w', 'r'): 1, ('u', 'c', 'l'): 1, ('r', 'd', 'n'): 1, ('i', 'l', 'r'): 1, ('i', 'e', 'f'): 1, ('e', 'f', 'd'): 1, ('g', 'c', 'h'): 1, ('c', 's', 'a'): 1, ('p', 'i', 'i'): 1, ('i', 'i', 't'): 1, ('d', 's', 'f'): 1, ('o', 'm', 'c'): 1, ('m', 'c', 'h'): 1, ('h', 'a', 'f'): 1, ('o', 'm', 'n'): 1, ('m', 'n', 'i'): 1, ('i', 'a', 'i'): 1, ('d', 'w', 'o'): 1, ('f', 'w', 'o'): 1, ('d', 'y', 'p'): 1, ('y', 'p', 'l'): 1, ('e', 'y', 'b'): 1, ('y', 'b', 'r'): 1, ('c', 'h', 'l'): 1, ('a', 'y', 'p'): 1, ('e', 'y', 'u'): 1, ('f', 'f', 's'): 1, ('f', 's', 'p'): 1, ('u', 'n', 'r'): 1, ('a', 'g', 'g'): 1, ('n', 's', 'm'): 1, ('s', 'h', 's'): 1, ('g', 'h', 'n'): 1, ('a', 'w', 'e'): 1, ('i', 'g', 'u'): 1, ('u', 'e', 'd'): 1, ('n', 'y', 'p'): 1, ('g', 'e', 'g'): 1, ('l', 'l', 'f'): 1, ('l', 'd', 'm'): 1, ('e', 'k', 'e'): 1, ('t', 'y', 'm'): 1, ('g', 'y', 't'): 1, ('s', 't', 'k'): 1, ('i', 'c', 'w'): 1, ('c', 'w', 'o'): 1, ('r', 'd', 'z'): 1, ('d', 'z', 'a'): 1, ('f', 'a', 'h'): 1, ('h', 'u', 'l'): 1, ('n', 'z', 'u'): 1, ('o', 'f', 'z'): 1, ('f', 'z', 'u'): 1, ('r', 'n', 'f'): 1, ('t', 'e', 'z'): 1, ('e', 'z', 'u'): 1, ('s', 'h', 't'): 1, ('g', 's', 'j'): 1, ('s', 'j', 'a'): 1, ('p', 'h', 'w'): 1, ('h', 'w', 'e'): 1, ('n', 'm', 'i'): 1, ('s', 'h', 'j'): 1, ('h', 'j', 'a'): 1, ('p', 'h', 'g'): 1, ('h', 'g', 'e'): 1, ('n', 't', 'z'): 1, ('t', 'z', 't'): 1, ('z', 't', 'h'): 1, ('s', 'h', 'f'): 1, ('r', 'm', 'd'): 1, ('a', 'i', 'c'): 1, ('s', 'h', 'n'): 1, ('m', 'e', 'f'): 1, ('t', 'g', 'r'): 1, ('e', 'k', 'k'): 1, ('k', 'k', 'a'): 1, ('k', 'a', 'm'): 1, ('a', 'm', 'l'): 1, ('o', 'm', 'k'): 1, ('m', 'k', 'm'): 1, ('k', 'm', 'l'): 1, ('r', 'd', 'l'): 1, ('o', 'm', 'y'): 1, ('m', 'y', 'e'): 1, ('f', 'o', 'n'): 1, ('r', 'a', 'o'): 1, ('a', 'e', 'i'): 1, ('c', 't', 'y'): 1, ('t', 'y', 'l'): 1, ('a', 'a', 'l'): 1, ('a', 'e', 'p'): 1, ('a', 'e', 'd'): 1, ('p', 'e', 'g'): 1, ('g', 'o', 'a'): 1, ('a', 'e', 'm'): 1, ('u', 's', 'k'): 1, ('d', 'y', 'c'): 1, ('o', 'w', 'f'): 1, ('f', 'o', 'v'): 1, ('c', 'e', 'm'): 1, ('i', 'l', 'g'): 1, ('l', 'g', 'e'): 1, ('t', 'v', 'e'): 1, ('f', 'v', 'e'): 1, ('a', 'e', 'f'): 1, ('y', 'x', 'w'): 1, ('x', 'w', 'h'): 1, ('u', 's', 'l'): 1, ('y', 'a', 'm'): 1, ('a', 'm', 'y'): 1, ('r', 'm', 'y'): 1, ('l', 'i', 'b'): 1, ('i', 'b', 'y'): 1, ('l', 't', 'b'): 1, ('d', 'y', 'g'): 1, ('y', 'x', 'a'): 1, ('x', 'a', 'p'): 1, ('y', 'x', 'm'): 1, ('x', 'm', 'a'): 1, ('u', 'm', 'g'): 1, ('m', 'a', 'p'): 1, ('u', 's', 'r'): 1, ('y', 'x', 's'): 1, ('x', 's', 'a'): 1, ('m', 'w', 'a'): 1, ('y', 'i', 'm'): 1, ('k', 'p', 'o'): 1, ('h', 'f', 'i'): 1, ('y', 'a', 'w'): 1, ('f', 'a', 'w'): 1, ('w', 's', 'p'): 1, ('y', 'a', 'i'): 1, ('o', 'm', 'g'): 1, ('m', 'g', 'j'): 1, ('d', 'g', 'g'): 1, ('e', 'g', 'j'): 1, ('o', 'b', 'u'): 1, ('e', 'g', 'g'): 1, ('s', 's', 'm'): 1, ('m', 'e', 'x'): 1, ('n', 'm', 'y'): 1, ('l', 'p', 'l'): 1, ('i', 'd', 'c'): 1, ('d', 'c', 'p'): 1, ('c', 'p', 'l'): 1, ('a', 'd', 'r'): 1, ('v', 'e', 'e'): 1, ('x', 'p', 'o'): 1, ('t', 'o', 'x'): 1, ('x', 'i', 'n'): 1, ('r', 'm', 'u'): 1, ('a', 'd', 'm'): 1, ('p', 'i', 'g'): 1, ('e', 'i', 'd'): 1, ('o', 'a', 'r'): 1, ('r', 'y', 'g'): 1, ('d', 'c', 'i'): 1, ('n', 's', 's'): 1, ('c', 'n', 'c'): 1, ('r', 'l', 'l'): 1, ('a', 'e', 'u'): 1, ('u', 's', 'o'): 1, ('m', 'i', 'a'): 1, ('r', 'v', 'u'): 1, ('v', 'u', 's'): 1, ('j', 'a', 'c'): 1, ('a', 'c', 'q'): 1, ('c', 'q', 'u'): 1, ('i', 'c', 'n'): 1, ('m', 'i', 'e'): 1, ('c', 's', 'o'): 1, ('g', 'm', 'i'): 1, ('i', 'x', 'l'): 1, ('x', 'l', 'i'): 1, ('g', 'd', 'e'): 1, ('p', 'p', 'l'): 1, ('c', 's', 'p'): 1, ('p', 't', 'd'): 1, ('f', 'l', 'i'): 1, ('x', 'c', 'h'): 1, ('n', 'i', 'z'): 1, ('i', 'z', 'i'): 1, ('g', 'f', 'r'): 1, ('m', 't', 'w'): 1, ('w', 'o', 't'): 1, ('i', 'x', 's'): 1, ('x', 's', 'p'): 1, ('f', 'a', 't'): 1, ('t', 'm', 'e'): 1, ('i', 't', 'g'): 1, ('e', 'o', 'g'): 1, ('c', 's', 't'): 1, ('c', 'h', 'r'): 1, ('s', 'g', 'c'): 1, ('s', 'g', 'g'): 1, ('d', 'g', 't'): 1, ('g', 't', 'i'): 1, ('l', 's', 'k'): 1, ('k', 'i', 'r'): 1, ('h', 'i', 'i'): 1, ('i', 'i', 's'): 1, ('b', 'y', 'p'): 1, ('o', 'b', 'o'): 1, ('d', 'm', 'u'): 1, ('s', 'e', 'q'): 1, ('w', 's', 'h'): 1, ('i', 'p', 'b'): 1, ('p', 'b', 'e'): 1, ('l', 'd', 'g'): 1, ('b', 's', 'u'): 1, ('o', 'g', 'c'): 1, ('i', 'p', 't'): 1, ('m', 'n', 's'): 1, ('l', 'n', 'i'): 1, ('d', 'w', 'a'): 1, ('u', 't', 'l'): 1, ('l', 'u', 'a'): 1, ('u', 'a', 't'): 1, ('f', 'a', 'v'): 1, ('p', 'u', 'b'): 1, ('f', 'a', 'j'): 1, ('a', 'j', 'u'): 1, ('a', 'e', 'g'): 1, ('p', 'o', 'm'): 1, ('a', 'p', 'u'): 1, ('p', 'u', 'n'): 1, ('u', 'n', 'j'): 1, ('j', 'a', 'b'): 1, ('b', 'i', 'e'): 1, ('a', 'p', 'y'): 1, ('p', 'y', 'g'): 1, ('y', 'g', 'm'): 1, ('e', 'i', 'c'): 1, ('c', 's', 'f'): 1, ('s', 'f', 'u'): 1, ('w', 'n', 'g'): 1, ('d', 'm', 'f'): 1, ('d', 'y', 'i'): 1, ('r', 'a', 'y'): 1, ('c', 'k', 'n'): 1, ('f', 'm', 'm'): 1, ('e', 'c', 'm'): 1, ('r', 'k', 't'): 1, ('k', 't', 'u'): 1, ('k', 'b', 'l'): 1, ('u', 't', 'b'): 1, ('y', 'b', 'l'): 1, ('k', 's', 'u'): 1, ('i', 'r', 'u'): 1, ('r', 'c', 'r'): 1, ('a', 'm', 'c'): 1, ('m', 'c', 'o'): 1, ('r', 'n', 'h'): 1, ('a', 'i', 'm'): 1, ('a', 'h', 'w'): 1, ('h', 'w', 'o'): 1, ('t', 'e', 'v'): 1, ('e', 'w', 'm'): 1, ('w', 'm', 'e'): 1, ('c', 'e', 'h'): 1, ('t', 'v', 'i'): 1, ('i', 'e', 'w'): 1, ('n', 't', 'f'): 1, ('s', 'a', 'u'): 1, ('n', 'i', 'q'): 1, ('u', 'e', 'c'): 1, ('r', 'n', 't'): 1, ('n', 'd', 'v'): 1, ('y', 't', 'e'): 1, ('e', 'x', 'b'): 1, ('x', 'b', 'l'): 1, ('t', 'g', 'l'): 1, ('u', 'r', 'm'): 1, ('c', 's', 'c'): 1, ('i', 'c', 'c'): 1, ('c', 'c', 'h'): 1, ('i', 't', 'm'): 1, ('l', 'f', 'u'): 1, ('h', 's', 'e'): 1, ('e', 'x', 'e'): 1, ('x', 'e', 's'): 1, ('d', 'o', 's'): 1, ('n', 's', 'k'): 1, ('d', 'f', 'u'): 1, ('g', 'v', 'a'): 1, ('y', 't', 'u'): 1, ('f', 't', 's'): 1, ('o', 'p', 'w'): 1, ('b', 'e', 'b'): 1, ('d', 'k', 'n'): 1, ('n', 'o', 'b'): 1, ('o', 'b', 'b'): 1, ('b', 'b', 'e'): 1, ('m', 'p', 'w'): 1, ('o', 'p', 'c'): 1, ('u', 'm', 'd'): 1, ('r', 'm', 'b'): 1, ('m', 'b', 'u'): 1, ('b', 'u', 'm'): 1, ('m', 'p', 's'): 1, ('y', 'a', 'g'): 1, ('l', 'l', 'h'): 1, ('l', 'h', 'o'): 1, ('l', 'u', 'b'): 1, ('k', 'e', 'h'): 1, ('e', 'l', 'p'): 1, ('l', 'p', 'i'): 1, ('c', 'c', 'i'): 1, ('c', 'i', 'p'): 1, ('l', 'a', 'l'): 1, ('a', 'b', 'f'): 1, ('u', 'e', 'w'): 1, ('a', 'b', 'r'): 1, ('n', 'o', 'c'): 1, ('o', 'c', 'u'): 1, ('r', 'p', 't'): 1, ('v', 'a', 'b'): 1, ('u', 'e', 'i'): 1, ('t', 'c', 'm'): 1, ('k', 'p', 'e'): 1, ('s', 'p', 'f'): 1, ('p', 'f', 'o'): 1, ('l', 'i', 'p'): 1, ('p', 'i', 's'): 1, ('r', 'p', 'p'): 1, ('r', 'j', 'a'): 1, ('r', 'd', 'p'): 1, ('o', 'w', 'c'): 1, ('w', 'c', 'r'): 1, ('k', 't', 'h'): 1, ('k', 'w', 'h'): 1, ('f', 's', 'h'): 1, ('c', 't', 'h'): 1, ('k', 't', 'y'): 1, ('g', 'h', 'j'): 1, ('h', 'j', 'u'): 1, ('a', 'e', 'e'): 1, ('e', 'y', 'c'): 1, ('s', 'v', 'e'): 1, ('m', 'n', 'c'): 1, ('t', 't', 'y'): 1, ('f', 's', 'i'): 1, ('g', 'e', 'u'): 1, ('g', 'e', 'l'): 1, ('p', 's', 'b'): 1, ('g', 'b', 'i'): 1, ('u', 'p', 'b'): 1, ('p', 'b', 'y'): 1, ('n', 't', 'w'): 1, ('m', 'a', 'h'): 1, ('c', 'k', 'v'): 1, ('k', 'v', 'e'): 1, ('a', 'e', 'h'): 1, ('e', 't', 'j'): 1, ('t', 'j', 'o'): 1, ('j', 'o', 'i'): 1, ('p', 'o', 'i'): 1, ('h', 'i', 'f'): 1, ('i', 'e', 'b'): 1, ('a', 'e', 't'): 1, ('d', 't', 'u'): 1, ('u', 'n', 'l'): 1, ('d', 't', 't'): 1, ('w', 's', 'c'): 1, ('s', 'c', 't'): 1, ('a', 'h', 'o'): 1, ('g', 'r', 'i'): 1, ('i', 'b', 'd'): 1, ('b', 'd', 'e'): 1, ('e', 'e', 'm'): 1, ('a', 'g', 'n'): 1, ('g', 'n', 'o'): 1, ('b', 'y', 'i'): 1, ('l', 'h', 'y'): 1, ('k', 's', 'c'): 1, ('a', 'r', 'w'): 1, ('y', 'i', 't'): 1, ('m', 's', 'm'): 1, ('k', 'e', 'k'): 1, ('e', 'k', 'u'): 1, ('d', 'u', 's'): 1, ('b', 'o', 'k'): 1, ('g', 'h', 'w'): 1, ('e', 'n', 'q'): 1, ('n', 'q', 'u'): 1, ('u', 'c', 'a'): 1, ('t', 'm', 'f'): 1, ('h', 's', 'u'): 1, ('g', 'm', 'o'): 1, ('a', 'f', 'b'): 1, ('i', 'o', 'm'): 1, ('s', 's', 'w'): 1, ('h', 'f', 'u'): 1, ('u', 'l', 'h'): 1, ('o', 'p', 'y'): 1, ('p', 'y', 'h'): 1, ('y', 'h', 'o'): 1, ('u', 't', 'j'): 1, ('t', 'j', 'u'): 1, ('j', 'u', 's'): 1, ('o', 'w', 'm'): 1, ('w', 'm', 'u'): 1, ('b', 'e', 'y'): 1, ('f', 'o', 't'): 1, ('d', 'y', 'f'): 1, ('k', 'd', 'u'): 1, ('g', 'a', 'f'): 1, ('n', 'h', 'y'): 1, ('i', 'c', 'g'): 1, ('c', 'g', 'i'): 1, ('e', 'e', 'b'): 1, ('d', 'o', 'b'): 1, ('o', 'b', 't'): 1, ('b', 't', 'a'): 1, ('l', 'o', 'y'): 1, ('r', 'm', 's'): 1, ('f', 'c', 'o'): 1, ('w', 'h', 'y'): 1, ('h', 'y', 'f'): 1, ('r', 'p', 'u'): 1, ('u', 's', 'w'): 1, ('c', 'h', 'w'): 1, ('y', 'e', 'q'): 1, ('u', 'i', 'v'): 1, ('n', 'w', 'r'): 1, ('t', 'f', 'u'): 1, ('s', 'a', 'k'): 1, ('a', 'k', 'n'): 1, ('u', 's', 'p'): 1, ('r', 'y', 'l'): 1, ('k', 'y', 'l'): 1, ('c', 'm', 'c'): 1, ('m', 'c', 'm'): 1, ('i', 'a', 'm'): 1, ('e', 't', 'l'): 1, ('h', 't', 'g'): 1, ('c', 'k', 'd'): 1, ('e', 'w', 'c'): 1, ('w', 'c', 'l'): 1, ('l', 'g', 'l'): 1, ('e', 'i', 'l'): 1, ('u', 'm', 'h'): 1, ('e', 't', 'c'): 1, ('t', 'c', 'r'): 1, ('n', 'e', 'b'): 1, ('d', 'o', 'i'): 1, ('i', 'l', 'w'): 1, ('l', 'c', 'u'): 1, ('u', 'r', 'l'): 1, ('r', 'l', 'u'): 1, ('l', 'u', 'p'): 1, ('o', 'l', 'm'): 1, ('m', 'o', 'm'): 1, ('p', 'e', 'e'): 1, ('f', 'u', 'p'): 1, ('o', 'k', 'm'): 1, ('n', 'k', 'm'): 1, ('p', 'h', 'f'): 1, ('l', 'd', 'p'): 1, ('l', 'y', 'n'): 1, ('o', 't', 'b'): 1, ('m', 'm', 'e'): 1, ('r', 'l', 'o'): 1, ('y', 'c', 'u'): 1, ('c', 'u', 'm'): 1, ('y', 'm', 'i'): 1, ('h', 't', 'b'): 1, ('l', 'o', 'a'): 1, ('r', 'a', 'x'): 1, ('a', 'x', 'w'): 1, ('x', 'w', 'o'): 1, ('b', 'e', 'w'): 1, ('w', 'n', 'b'): 1, ('a', 'r', 'm'): 1, ('o', 'r', 'k'): 1, ('y', 'l', 'y'): 1, ('l', 'k', 'n'): 1, ('e', 'n', 'l'): 1, ('e', 't', 'b'): 1, ('n', 't', 'k'): 1, ('p', 'w', 'a'): 1, ('g', 's', 's'): 1, ('h', 't', 'u'): 1, ('t', 'u', 'p'): 1, ('p', 'a', 'g'): 1, ('e', 'i', 'f'): 1, ('k', 'i', 't'): 1, ('a', 'y', 'm'): 1, ('t', 'n', 'i'): 1, ('y', 's', 'l'): 1, ('r', 't', 'd'): 1, ('p', 'p', 'h'): 1, ('l', 'e', 'l'): 1, ('c', 'k', 'b'): 1, ('k', 'b', 'a'): 1, ('k', 'w', 'a'): 1, ('x', 'i', 'c'): 1, ('l', 's', 'l'): 1, ('f', 't', 'n'): 1, ('t', 'n', 'e'): 1, ('r', 'm', 'f'): 1, ('c', 'h', 'n'): 1, ('k', 'a', 'l'): 1, ('v', 'a', 'g'): 1, ('n', 'b', 'r'): 1, ('h', 'p', 'a'): 1, ('k', 't', 'o'): 1, ('y', 'n', 'x'): 1, ('n', 'x', 't'): 1, ('x', 't', 'h'): 1, ('f', 'n', 'e'): 1, ('y', 'm', 'f'): 1, ('v', 'a', 'p'): 1, ('c', 'o', 'o'): 1, ('g', 'v', 'o'): 1, ('c', 'k', 'g'): 1, ('w', 'w', 'i'): 1, ('d', 'p', 'i'): 1, ('p', 'i', 'p'): 1, ('i', 'p', 'e'): 1, ('h', 'o', 'x'): 1, ('s', 'u', 'e'): 1, ('r', 'y', 'r'): 1, ('u', 'n', 'n'): 1, ('n', 'n', 'i'): 1, ('y', 's', 'y'): 1, ('l', 'b', 'a'): 1, ('d', 'c', 'm'): 1, ('c', 'm', 'f'): 1, ('r', 't', 'm'): 1, ('o', 'u', 'b'): 1, ('o', 'd', 'p'): 1, ('n', 'b', 'l'): 1, ('r', 't', 'c'): 1, ('s', 'c', 'm'): 1, ('g', 'h', 'h'): 1, ('h', 'h', 'e'): 1, ('r', 't', 'r'): 1, ('y', 'u', 'n'): 1, ('u', 'n', 'o'): 1, ('m', 'i', 'r'): 1, ('k', 'w', 'i'): 1, ('e', 'c', 'r'): 1, ('s', 's', 's'): 1, ('d', 'p', 'u'): 1, ('s', 'h', 'b'): 1, ('l', 'd', 'o'): 1, ('d', 'o', 'e'): 1, ('h', 'e', 'j'): 1, ('e', 'j', 'u'): 1, ('j', 'u', 'g'): 1, ('u', 'g', 'u'): 1, ('a', 'r', 'v'): 1, ('n', 'v', 'a'): 1, ('n', 't', 'b'): 1, ('g', 'b', 'a'): 1, ('o', 'r', 'v'): 1, ('v', 'a', 'a'): 1, ('l', 'u', 'i'): 1, ('i', 'd', 'p'): 1, ('o', 'b', 'l'): 1, ('t', 'i', 'g'): 1, ('h', 't', 'p'): 1, ('o', 'm', 'u'): 1, ('e', 'm', 'g'): 1, ('v', 'e', 'o'): 1, ('l', 'm', 'u'): 1, ('o', 'w', 'r'): 1, ('g', 'u', 'r'): 1, ('u', 'r', 'g'): 1, ('c', 'h', 'u'): 1, ('h', 'u', 'p'): 1, ('h', 's', 'w'): 1, ('l', 'i', 'z'): 1, ('n', 'm', 'f'): 1, ('l', 'l', 'r'): 1, ('i', 'o', 'o'): 1, ('l', 'b', 'l'): 1, ('e', 'n', 'w'): 1, ('n', 'w', 'o'): 1, ('e', 'y', 'p'): 1, ('b', 'r', 'e'): 1, ('e', 'e', 'o'): 1, ('e', 'o', 'v'): 1, ('h', 'y', 's'): 1, ('g', 'i', 'a'): 1, ('w', 'i', 'g'): 1, ('i', 'g', 's'): 1, ('u', 'b', 'f'): 1, ('b', 'f', 'a'): 1, ('h', 'r', 'a'): 1, ('s', 'h', 'r'): 1, ('h', 'r', 'u'): 1, ('b', 's', 'g'): 1, ('b', 'o', 'f'): 1, ('f', 'p', 'l'): 1, ('d', 'a', 'i'): 1, ('a', 'y', 'c'): 1, ('w', 'o', 'n'): 1, ('g', 'e', 'b'): 1, ('f', 'b', 'a'): 1, ('b', 'a', 'r'): 1, ('r', 'k', 'g'): 1, ('w', 'e', 't'): 1, ('b', 'u', 'n'): 1, ('u', 't', 'w'): 1, ('g', 'e', 'v'): 1, ('m', 'a', 'b'): 1, ('s', 'i', 'e'): 1, ('n', 'c', 'y'): 1, ('c', 'y', 'a'): 1, ('a', 'r', 'u'): 1, ('l', 'f', 'd'): 1, ('d', 'c', 'u'): 1, ('c', 'u', 'd'): 1, ('w', 'a', 'g'): 1, ('l', 's', 'f'): 1, ('f', 'a', 'e'): 1, ('l', 'p', 'e'): 1, ('l', 'g', 'o'): 1, ('u', 't', 'd'): 1, ('t', 'd', 'r'): 1, ('o', 'f', 'y'): 1, ('f', 'y', 'o'): 1, ('m', 'e', 'y'): 1, ('s', 't', 'd'): 1, ('t', 'd', 'u'): 1, ('f', 'd', 'a'): 1, ('y', 't', 'i'): 1, ('r', 's', 'g'): 1, ('y', 'd', 'u'): 1, ('n', 'e', 'l'): 1, ('o', 'e', 'c'): 1, ('p', 'o', 'g'): 1, ('u', 'p', 'h'): 1, ('n', 'a', 'k'): 1, ('r', 'c', 'l'): 1, ('l', 'i', 'q'): 1, ('i', 'p', 's'): 1, ('p', 's', 'e'): 1, ('p', 's', 'r'): 1, ('a', 'f', 'i'): 1, ('n', 'f', 'u'): 1, ('r', 'u', 'p'): 1, ('p', 't', 's'): 1, ('l', 'a', 'p'): 1, ('f', 'w', 'h'): 1, ('u', 'p', 'e'): 1, ('u', 'p', 'c'): 1, ('e', 'x', 's'): 1, ('x', 's', 'e'): 1, ('m', 'i', 'x'): 1, ('i', 'x', 'e'): 1, ('x', 'e', 'd'): 1, ('e', 'x', 'g'): 1, ('x', 'g', 'r'): 1, ('s', 'o', 'o'): 1, ('o', 'o', 'c'): 1, ('x', 'p', 'a'): 1, ('m', 'g', 'r'): 1, ('g', 'a', 'g'): 1, ('n', 'p', 'l'): 1, ('a', 'y', 'f'): 1, ('y', 'f', 'i'): 1, ('r', 'y', 'b'): 1, ('s', 'o', 'a'): 1, ('p', 's', 'g'): 1, ('l', 'b', 'u'): 1, ('h', 'o', 'm'): 1, ('y', 'r', 'o'): 1, ('a', 'm', 'f'): 1, ('m', 'f', 'a'): 1, ('e', 'y', 'n'): 1, ('y', 'b', 'i'): 1, ('r', 'f', 'l'): 1, ('v', 'i', 'b'): 1, ('i', 'b', 'r'): 1, ('i', 'r', 'v'): 1, ('r', 'v', 'o'): 1, ('v', 'o', 'c'): 1, ('t', 'e', 'u'): 1, ('g', 's', 'n'): 1, ('e', 'e', 'z'): 1, ('e', 'z', 'e'): 1, ('h', 's', 's'): 1, ('m', 'o', 'a'): 1, ('g', 'r', 'u'): 1, ('o', 'w', 'l'): 1, ('w', 'l', 's'): 1, ('i', 'p', 'm'): 1, ('i', 't', 'l'): 1, ('o', 'u', 'd'): 1, ('u', 'd', 'c'): 1, ('h', 's', 'f'): 1, ('g', 'b', 'y'): 1, ('b', 'y', 'b'): 1, ('i', 't', 'b'): 1, ('m', 'o', 'o'): 1, ('o', 'o', 'i'): 1, ('t', 'h', 'v'): 1, ('h', 'v', 'i'): 1, ('u', 'm', 't'): 1, ('m', 'e', 'e'): 1, ('e', 'l', 'm'): 1, ('l', 'm', 'h'): 1, ('m', 'h', 'o'): 1, ('l', 't', 'z'): 1, ('t', 'z', 'r'): 1, ('z', 'r', 'e'): 1, ('h', 'b', 'o'): 1, ('g', 'u', 'a'): 1, ('u', 'a', 'g'): 1, ('s', 's', 'd'): 1, ('w', 's', 'u'): 1, ('u', 'b', 'm'): 1, ('b', 'm', 'i'): 1, ('m', 'i', 's'): 1, ('b', 'y', 'd'): 1, ('y', 'd', 'r'): 1, ('d', 'l', 'y'): 1, ('p', 'o', 'l'): 1, ('o', 'l', 'y'): 1, ('d', 'e', 'x'): 1, ('s', 'c', 'y'): 1, ('c', 'y', 'c'): 1, ('g', 'a', 'p'): 1, ('y', 'd', 'a'): 1, ('y', 's', 'f'): 1, ('o', 'p', 't'): 1, ('g', 'f', 'e'): 1, ('e', 'k', 'm'): 1, ('k', 'm', 'a'): 1, ('g', 'o', 'p'): 1, ('r', 'u', 't'): 1, ('g', 'b', 'e'): 1, ('w', 'o', 'w'): 1, ('k', 's', 'm'): 1, ('g', 'a', 'd'): 1, ('r', 'j', 'u'): 1, ('y', 'b', 'y'): 1, ('a', 'm', 'u'): 1, ('e', 'f', 'l'): 1, ('l', 'e', 'h'): 1, ('e', 'h', 'm'): 1, ('l', 'l', 'k'): 1, ('l', 'k', 'e'): 1, ('p', 's', 'u'): 1, ('u', 'b', 'o'): 1, ('b', 'a', 'y'): 1, ('a', 'y', 'l'): 1, ('k', 'a', 'f'): 1, ('k', 'o', 'n'): 1, ('r', 'n', 'u'): 1, ('n', 'u', 'd'): 1, ('a', 'd', 'h'): 1, ('g', 's', 'r'): 1, ('y', 'b', 'o'): 1, ('s', 'b', 'i'): 1, ('g', 'u', 'p'): 1, ('g', 's', 'f'): 1, ('d', 'f', 'a'): 1, ('e', 'u', 'm'): 1, ('m', 'b', 'i'): 1, ('e', 'w', 'b'): 1, ('w', 'b', 'o'): 1, ('s', 'm', 'f'): 1, ('l', 'f', 'c'): 1, ('m', 'a', 'o'): 1, ('e', 'k', 'o'): 1, ('k', 'o', 'l'): 1, ('e', 'e', 'w'): 1, ('s', 'e', 'u'): 1, ('e', 'w', 'd'): 1, ('w', 'd', 'a'): 1, ('u', 'p', 'm'): 1, ('y', 's', 'o'): 1, ('s', 'e', 'w'): 1, ('o', 'l', 'c'): 1, ('s', 'k', 'o'): 1, ('f', 'p', 'r'): 1, ('k', 'a', 't'): 1, ('o', 'l', 's'): 1, ('w', 'n', 'y'): 1, ('e', 'y', 'd'): 1, ('u', 'r', 'b'): 1, ('l', 'f', 'w'): 1, ('i', 'x', 'm'): 1, ('o', 'p', 'n'): 1, ('p', 'n', 'u'): 1, ('i', 'x', 't'): 1, ('x', 't', 'o'): 1, ('h', 't', 'm'): 1, ('a', 'y', 'n'): 1, ('c', 'e', 'u'): 1, ('l', 'd', 'w'): 1, ('r', 'o', 'r'): 1, ('f', 'i', 'v'): 1, ('a', 'b', 'e'): 1, ('u', 'r', 'k'): 1, ('r', 'k', 'n'): 1, ('a', 's', 'n'): 1, ('g', 'b', 'o'): 1, ('u', 'c', 'c'): 1, ('u', 'b', 'a'): 1, ('u', 'p', 'r'): 1, ('l', 's', 'p'): 1, ('w', 's', 'w'): 1, ('t', 'r', 'y'): 1, ('d', 'o', 'd'): 1, ('o', 'd', 'g'): 1, ('f', 'a', 'b'): 1, ('o', 'w', 'd'): 1, ('w', 'd', 'e'): 1, ('g', 'd', 'u'): 1, ('e', 'l', 'c'): 1, ('w', 'w', 'e'): 1, ('o', 't', 'l'): 1, ('j', 'u', 'r'): 1, ('e', 'n', 'j'): 1, ('w', 's', 'b'): 1, ('e', 'n', 'n'): 1, ('r', 't', 'w'): 1, ('f', 'o', 'b'): 1, ('o', 'b', 's'): 1, ('b', 's', 'e'): 1, ('o', 'k', 'p'): 1, ('k', 'p', 'l'): 1, ('e', 'x', 'a'): 1, ('x', 'a', 'c'): 1, ('n', 'e', 'p'): 1, ('e', 'x', 'm'): 1, ('u', 'n', 'u'): 1, ('o', 'y', 'e'): 1, ('f', 's', 'o'): 1, ('z', 'e', 'e'): 1, ('r', 'f', 'u'): 1, ('u', 'l', 'k'): 1, ('m', 'a', 'j'): 1, ('a', 'j', 'o'): 1, ('j', 'o', 'r'): 1, ('e', 'v', 'u'): 1, ('s', 'a', 'q'): 1, ('a', 'q', 'u'): 1, ('q', 'u', 'a'): 1, ('u', 'a', 'r'): 1, ('o', 'a', 'h'): 1, ('f', 'o', 'f'): 1, ('r', 'n', 'd'): 1, ('r', 'y', 'w'): 1, ('y', 'w', 'i'): 1, ('d', 'z', 'e'): 1, ('o', 's', 'p'): 1, ('o', 't', 'p'): 1, ('m', 'f', 'u'): 1, ('w', 'a', 'y'): 1, ('a', 'y', 'z'): 1, ('y', 'z', 'e'): 1, ('s', 'k', 'b'): 1, ('k', 'b', 'y'): 1, ('b', 'y', 'w'): 1, ('y', 'w', 'a'): 1, ('o', 'k', 'i'): 1, ('e', 'a', 'a'): 1, ('f', 'g', 'e'): 1, ('a', 'h', 'y'): 1, ('h', 'y', 'a'): 1, ('a', 'a', 'm'): 1, ('y', 'o', 'm'): 1, ('d', 'r', 'h'): 1, ('l', 'u', 's'): 1, ('o', 'w', 'b'): 1, ('w', 'b', 'i'): 1, ('o', 'x', 'p'): 1, ('o', 'c', 'l'): 1, ('t', 'i', 'b'): 1, ('u', 's', 'd'): 1, ('e', 'y', 'w'): 1, ('y', 'w', 'e'): 1, ('i', 'm', 's'): 1, ('l', 'i', 'l'): 1, ('l', 'l', 'n'): 1, ('s', 's', 'r'): 1, ('f', 'w', 'r'): 1, ('n', 'k', 'l'): 1, ('a', 'w', 'f'): 1, ('y', 'm', 'p'): 1, ('r', 'u', 'a'): 1, ('u', 'a', 'h'): 1, ('k', 'b', 'u'): 1, ('i', 'd', 'n'): 1, ('s', 'o', 'i'): 1, ('o', 'i', 'l'): 1, ('c', 'e', 'w'): 1, ('k', 'y', 'b'): 1, ('m', 'a', 'g'): 1, ('y', 'f', 'a'): 1, ('t', 'y', 'g'): 1, ('e', 'a', 'u'): 1, ('u', 't', 'y'): 1, ('l', 'f', 'g'): 1, ('d', 'k', 'u'): 1, ('k', 'u', 's'): 1, ('z', 'e', 'r'): 1, ('r', 'a', 'v'): 1, ('f', 't', 'w'): 1, ('e', 'd', 'y'): 1, ('r', 'l', 'd'): 1, ('r', 't', 'p'): 1, ('p', 'h', 'h'): 1, ('h', 'h', 'o'): 1, ('f', 'v', 'a'): 1, ('o', 'l', 'k'): 1, ('l', 'k', 't'): 1, ('k', 't', 'a'): 1, ('t', 'u', 'g'): 1, ('u', 'g', 'e'): 1, ('y', 'a', 'u'): 1, ('c', 't', 't'): 1, ('i', 'r', 'g'): 1, ('r', 'g', 'o'): 1, ('g', 'o', 'd'): 1, ('o', 'd', 'm'): 1, ('d', 'm', 'd'): 1, ('m', 'd', 'a'): 1, ('s', 'o', 'w'): 1, ('p', 'h', 's'): 1, ('h', 's', 'r'): 1, ('d', 'm', 'm'): 1, ('m', 'm', 'y'): 1, ('m', 'y', 'i'): 1, ('d', 's', 'g'): 1, ('r', 'n', 'w'): 1, ('v', 'a', 'd'): 1, ('h', 'b', 'u'): 1, ('f', 'h', 'i'): 1, ('g', 's', 'd'): 1, ('y', 'm', 'b'): 1, ('b', 'o', 'l'): 1, ('a', 'f', 'l'): 1, ('c', 'o', 's'): 1, ('o', 's', 'm'): 1, ('p', 'o', 'c'): 1, ('i', 'c', 'm'): 1, ('c', 'm', 'o'): 1, ('l', 'd', 'r'): 1, ('k', 's', 'f'): 1, ('d', 'a', 'v'): 1, ('d', 'a', 'u'): 1, ('a', 'u', 'f'): 1, ('u', 'f', 'e'): 1, ('i', 'd', 'o'): 1, ('t', 'd', 'a'): 1, ('d', 'd', 'a'): 1, ('a', 'h', 'l'): 1, ('h', 'l', 's'): 1, ('n', 'e', 'y'): 1, ('d', 'u', 'm'): 1, ('b', 'o', 'a'): 1, ('m', 's', 's'): 1, ('o', 'y', 's'): 1, ('y', 's', 'r'): 1, ('c', 'o', 't'): 1, ('e', 'y', 't'): 1, ('c', 'e', 'x'): 1, ('v', 'e', 'u'): 1, ('r', 'p', 'i'): 1, ('s', 'u', 'i'): 1, ('f', 'p', 'a'): 1, ('g', 'o', 'u'): 1, ('i', 'f', 'b'): 1, ('f', 'b', 'l'): 1, ('g', 's', 'c'): 1, ('m', 'p', 'u'): 1, ('s', 'm', 's'): 1, ('m', 's', 't'): 1, ('f', 'b', 'o'): 1, ('x', 'a', 's'): 1, ('d', 'm', 'i'): 1, ('m', 'i', 'm'): 1, ('i', 'm', 'o'): 1, ('o', 's', 'a'): 1, ('c', 'i', 's'): 1, ('e', 'p', 'g'): 1, ('p', 'g', 'i'): 1, ('a', 'y', 'e'): 1, ('b', 'y', 'j'): 1, ('y', 'j', 'u'): 1, ('j', 'u', 'l'): 1, ('c', 'a', 'e'): 1, ('n', 'b', 'c'): 1, ('b', 'c', 'w'): 1, ('c', 'w', 'i'): 1, ('r', 'n', 'r'): 1, ('m', 'p', 'i'): 1, ('o', 'e', 'u'): 1, ('g', 'h', 'c'): 1, ('c', 't', 'w'): 1, ('a', 'b', 's'): 1, ('b', 's', 'w'): 1, ('t', 'y', 's'): 1, ('d', 'i', 'w'): 1, ('i', 'w', 'a'): 1, ('a', 'b', 'y'): 1, ('b', 'y', 'e'): 1, ('y', 'e', 'x'): 1, ('e', 'r', 'z'): 1, ('r', 'z', 'h'): 1, ('z', 'h', 'e'): 1, ('g', 'd', 'y'): 1, ('d', 'y', 'n'): 1, ('y', 'n', 'a'): 1, ('t', 'y', 'z'): 1, ('y', 'z', 'o'): 1, ('l', 'w', 'a'): 1, ('h', 'o', 'a'): 1, ('e', 'm', 'y'): 1, ('m', 'y', 't'): 1, ('a', 'l', 'q'): 1, ('l', 'q', 'i'): 1, ('q', 'i', 'l'): 1, ('c', 'i', 'g'): 1, ('e', 'n', 'z'): 1, ('z', 'o', 'd'): 1, ('d', 'e', 'm'): 1, ('c', 'i', 'i'): 1, ('i', 'i', 'n'): 1, ('c', 'e', 'z'): 1, ('e', 'z', 'a'): 1, ('h', 't', 'f'): 1, ('f', 't', 'f'): 1, ('e', 's', 'x'): 1, ('s', 'x', 'o'): 1, ('x', 'o', 'f'): 1, ('f', 'n', 'u'): 1, ('i', 'a', 'o'): 1, ('r', 'n', 'z'): 1, ('g', 'h', 'k'): 1, ('h', 'k', 'e'): 1, ('m', 'h', 'e'): 1, ('h', 'y', 'i'): 1, ('e', 'y', 'r'): 1, ('e', 'a', 'h'): 1, ('u', 's', 'b'): 1, ('y', 'n', 'u'): 1, ('o', 's', 'd'): 1, ('o', 't', 'y'): 1, ('n', 'g', 'z'): 1, ('g', 'z', 'o'): 1, ('r', 's', 'm'): 1, ('i', 'm', 'u'): 1, ('k', 'e', 'f'): 1, ('o', 'm', 'v'): 1, ('m', 'v', 'i'): 1, ('e', 'b', 'u'): 1, ('l', 't', 'p'): 1, ('l', 'o', 'i'): 1, ('h', 'u', 'n'): 1, ('i', 'r', 'b'): 1, ('t', 'p', 'u'): 1, ('i', 'l', 'h'): 1, ('l', 'h', 'a'): 1, ('a', 's', 'f'): 1, ('k', 'l', 'a'): 1, ('m', 's', 'w'): 1, ('b', 'u', 'g'): 1, ('u', 'g', 'a'): 1, ('m', 'o', 'k'): 1, ('f', 'b', 'u'): 1, ('n', 'w', 'a'): 1, ('t', 'n', 'o'): 1, ('s', 'e', 'b'): 1, ('m', 'r', 'p'): 1, ('o', 'f', 'k'): 1, ('f', 'k', 'o'): 1, ('k', 'o', 'r'): 1, ('n', 'k', 'u'): 1, ('k', 'u', 'm'): 1, ('k', 'h', 'w'): 1, ('r', 'u', 'd'): 1, ('d', 'g', 'l'): 1, ('y', 'h', 'y'): 1, ('k', 'h', 'm'): 1, ('d', 'm', 't'): 1, ('m', 't', 't'): 1, ('i', 'd', 't'): 1, ('l', 'u', 'c'): 1, ('s', 'g', 'h'): 1, ('m', 'r', 'c'): 1, ('c', 'n', 'i'): 1, ('a', 'i', 'a'): 1, ('n', 'u', 'b'): 1, ('u', 'b', 'i'): 1, ('r', 'y', 'c'): 1, ('c', 't', 'k'): 1, ('t', 'k', 'i'): 1, ('r', 'b', 'u'): 1, ('s', 'h', 'm'): 1, ('c', 'r', 'a'): 1, ('u', 'i', 'n'): 1, ('m', 'a', 'u'): 1, ('a', 'u', 'r'): 1, ('n', 'e', 'g'): 1, ('d', 'n', 'i'): 1, ('d', 'a', 'a'): 1, ('e', 'd', 'z'): 1, ('d', 'z', 'o'): 1, ('o', 's', 'h'): 1, ('a', 's', 'h'): 1, ('r', 'a', 'z'): 1, ('a', 'z', 'i'): 1, ('r', 'o', 'o'): 1, ('m', 'f', 'o'): 1, ('c', 'k', 'h'): 1, ('k', 'h', 'a'): 1, ('c', 'o', 'e'): 1, ('y', 'a', 'v'): 1, ('a', 'v', 'o'): 1, ('v', 'o', 'i'): 1, ('o', 'i', 'd'): 1, ('c', 't', 'c'): 1, ('b', 'y', 'f'): 1, ('g', 'a', 'b'): 1, ('l', 'd', 'l'): 1, ('b', 'y', 'h'): 1, ('g', 'p', 'a'): 1, ('i', 't', 'p'): 1, ('p', 'o', 'a'): 1, ('y', 'b', 'a'): 1, ('s', 'o', 'e'): 1, ('o', 'e', 'f'): 1, ('f', 't', 'a'): 1, ('e', 'd', 'k'): 1, ('d', 'i', 'x'): 1, ('i', 'x', 'i'): 1, ('x', 'i', 'i'): 1, ('i', 'i', 'o'): 1, ('c', 'i', 't'): 1, ('o', 'a', 'u'): 1, ('a', 'u', 'g'): 1, ('u', 'g', 'm'): 1, ('g', 'm', 'e'): 1, ('s', 'k', 'y'): 1, ('k', 'y', 'a'): 1, ('k', 'e', 'u'): 1, ('p', 'r', 'a'): 1, ('f', 'e', 'x'): 1, ('v', 'i', 'a'): 1, ('e', 'y', 'i'): 1, ('t', 'a', 'e'): 1, ('o', 'n', 'j'): 1, ('j', 'u', 'n'): 1, ('h', 'a', 'e'): 1, ('k', 'e', 'a'): 1, ('f', 'p', 'o'): 1, ('c', 'a', 'g'): 1, ('r', 'h', 'o'): 1, ('n', 'a', 'i'): 1, ('o', 'b', 'i'): 1, ('b', 'i', 'w'): 1, ('i', 'w', 'i'): 1, ('n', 'k', 's'): 1, ('l', 'w', 'e'): 1, ('w', 'e', 'b'): 1, ('e', 'b', 's'): 1, ('b', 's', 'i'): 1})\n"
          ]
        }
      ],
      "source": [
        "print(trigram_eng1)"
      ]
    },
    {
      "cell_type": "code",
      "execution_count": null,
      "metadata": {
        "colab": {
          "base_uri": "https://localhost:8080/",
          "height": 953
        },
        "id": "YwnMsPuMHj8m",
        "outputId": "5c5ac058-4d43-4cee-efbb-00367bf9c622"
      },
      "outputs": [
        {
          "data": {
            "image/png": "[encoded data removed]",
            "text/plain": [
              "<Figure size 640x480 with 1 Axes>"
            ]
          },
          "metadata": {},
          "output_type": "display_data"
        },
        {
          "data": {
            "image/png": "[encoded data removed]",
            "text/plain": [
              "<Figure size 640x480 with 1 Axes>"
            ]
          },
          "metadata": {},
          "output_type": "display_data"
        },
        {
          "data": {
            "image/png": "[encoded data removed]",
            "text/plain": [
              "<Figure size 640x480 with 1 Axes>"
            ]
          },
          "metadata": {},
          "output_type": "display_data"
        },
        {
          "data": {
            "image/png": "[encoded data removed]",
            "text/plain": [
              "<Figure size 640x480 with 1 Axes>"
            ]
          },
          "metadata": {},
          "output_type": "display_data"
        }
      ],
      "source": [
        "# PLotting Trigrams\n",
        "\n",
        "plt.subplot(2, 2, 1)\n",
        "plt.hist(trigram_eng1)\n",
        "plt.title('English 1')\n",
        "plt.show()\n",
        "\n",
        "plt.subplot(2, 2, 2)\n",
        "plt.hist(trigram_eng2)\n",
        "plt.title('English 2')\n",
        "plt.show()\n",
        "\n",
        "plt.subplot(2, 2, 3)\n",
        "plt.hist(trigram_fr1)\n",
        "plt.title('French 1')\n",
        "plt.show()\n",
        "\n",
        "plt.subplot(2, 2, 4)\n",
        "plt.hist(trigram_fr2)\n",
        "plt.title('French 2')\n",
        "plt.show()"
      ]
    },
    {
      "cell_type": "markdown",
      "metadata": {
        "id": "ug3Fx38d0Um6"
      },
      "source": [
        "## Answer 2"
      ]
    },
    {
      "cell_type": "code",
      "execution_count": null,
      "metadata": {
        "id": "rZyDpYFp0Rnq"
      },
      "outputs": [],
      "source": [
        "from collections import Counter\n",
        "import math\n",
        "\n",
        "\n",
        "def calculate_entropy(text):\n",
        "  total_len = len(text)\n",
        "  char_count = Counter(text)\n",
        "  entropy = 0\n",
        "\n",
        "  for elem in char_count:\n",
        "    prob = char_count[elem] * math.log2(total_len)\n",
        "    entropy -= prob * math.log2(prob)\n",
        "\n",
        "  return entropy"
      ]
    },
    {
      "cell_type": "code",
      "execution_count": null,
      "metadata": {
        "id": "8sOho5WA07Zi"
      },
      "outputs": [],
      "source": [
        "## set language and then download the data.\n",
        "\n",
        "topic = 'Elephant'\n",
        "\n",
        "wikipedia.set_lang('en')\n",
        "eng = wikipedia.page(topic).content\n",
        "\n",
        "wikipedia.set_lang('fr')\n",
        "fr = wikipedia.page(topic).content"
      ]
    },
    {
      "cell_type": "code",
      "execution_count": null,
      "metadata": {
        "id": "QGuGMP251EOR"
      },
      "outputs": [],
      "source": [
        "def text_cleaning(text):\n",
        "  text = text.lower()\n",
        "  text = re.sub('[^a-z]+', '', text)\n",
        "  return text\n",
        "\n",
        "# cleaning text\n",
        "\n",
        "eng = text_cleaning(eng)\n",
        "fr = text_cleaning(fr)\n"
      ]
    },
    {
      "cell_type": "code",
      "execution_count": null,
      "metadata": {
        "colab": {
          "base_uri": "https://localhost:8080/"
        },
        "id": "FY6-j0iIJvAh",
        "outputId": "bd9fc65a-df3a-4dc3-afd8-ced513aff3f7"
      },
      "outputs": [
        {
          "output_type": "stream",
          "name": "stdout",
          "text": [
            "Entropy for English:  -10263896.826279068\n",
            "Entropy for French:  -6519008.630310986\n"
          ]
        }
      ],
      "source": [
        "eng_entropy = calculate_entropy(eng)\n",
        "fr_entropy = calculate_entropy(fr)\n",
        "\n",
        "print(\"Entropy for English: \", eng_entropy)\n",
        "print(\"Entropy for French: \", fr_entropy)"
      ]
    },
    {
      "cell_type": "code",
      "execution_count": null,
      "metadata": {
        "colab": {
          "base_uri": "https://localhost:8080/",
          "height": 472
        },
        "id": "kS30jIhzX5-B",
        "outputId": "d57f17b7-2e2e-4c1c-8ffb-51bf6a1116ac"
      },
      "outputs": [
        {
          "output_type": "display_data",
          "data": {
            "text/plain": [
              "<Figure size 640x480 with 1 Axes>"
            ],
            "image/png": "[encoded data removed]"
          },
          "metadata": {}
        }
      ],
      "source": [
        "# Comparing entropy values\n",
        "\n",
        "languages = ['English', 'French']\n",
        "entropy_values = [eng_entropy, fr_entropy]\n",
        "\n",
        "plt.bar(languages, entropy_values, color=['b', 'g'])\n",
        "plt.xlabel('Languages')\n",
        "plt.ylabel('Entropy')\n",
        "plt.title('Entropy Comparison: English vs. French')\n",
        "plt.show()"
      ]
    },
    {
      "cell_type": "markdown",
      "source": [
        "Entropy values closer to zero indicate more predictable and less random data, while higher entropy values indicate more unpredictability and randomness.\n",
        "\n",
        "* Higher entropy may indicate more randomness and variability in the English text, while lower entropy suggests more structure and predictability.\n",
        "\n",
        "* Higher entropy might imply that English text is more complex and diverse compared to French(English uses a larger variety of words or patterns)"
      ],
      "metadata": {
        "id": "W5Pr2NGv4B5A"
      }
    },
    {
      "cell_type": "markdown",
      "metadata": {
        "id": "6X0yz7hyWXyA"
      },
      "source": [
        "## Answer 3"
      ]
    },
    {
      "cell_type": "code",
      "execution_count": null,
      "metadata": {
        "id": "3JYOIGwuWY2y"
      },
      "outputs": [],
      "source": [
        "from keras.datasets import mnist\n",
        "\n",
        "import numpy as np\n",
        "rng = np.random.default_rng(seed=42)\n",
        "from sklearn.utils.extmath import cartesian\n",
        "from skimage.transform import rotate, AffineTransform, warp\n",
        "import math"
      ]
    },
    {
      "cell_type": "code",
      "execution_count": null,
      "metadata": {
        "colab": {
          "base_uri": "https://localhost:8080/"
        },
        "id": "I1Pa02PKWq8B",
        "outputId": "34bb7bc3-f8fe-4528-fc77-d77b73a52521"
      },
      "outputs": [
        {
          "output_type": "stream",
          "name": "stdout",
          "text": [
            "Downloading data from https://storage.googleapis.com/tensorflow/tf-keras-datasets/mnist.npz\n",
            "11490434/11490434 [==============================] - 0s 0us/step\n",
            "original data size: (60000, 28, 28)\n"
          ]
        }
      ],
      "source": [
        "#loading the dataset\n",
        "(train_X, train_y), (test_X, test_y) = mnist.load_data()\n",
        "train_X = train_X/255\n",
        "test_X = test_X/255\n",
        "\n",
        "print(\"original data size:\",train_X.shape)"
      ]
    },
    {
      "cell_type": "code",
      "execution_count": null,
      "metadata": {
        "colab": {
          "base_uri": "https://localhost:8080/"
        },
        "id": "eQunXnuGWwSo",
        "outputId": "eb4537ee-7900-44ea-8d50-cfa3e35a5838"
      },
      "outputs": [
        {
          "output_type": "stream",
          "name": "stdout",
          "text": [
            "Now it is: (50, 28, 28)\n"
          ]
        }
      ],
      "source": [
        "train_X = train_X[::1200,:,:].copy() # subsample. Otherwise it will take too long!\n",
        "train_y = train_y[::1200].copy() # do the same to the labels\n",
        "\n",
        "print(\"Now it is:\", train_X.shape)"
      ]
    },
    {
      "cell_type": "code",
      "execution_count": null,
      "metadata": {
        "colab": {
          "base_uri": "https://localhost:8080/",
          "height": 430
        },
        "id": "2utYQTbBa07y",
        "outputId": "db45240f-0ecf-482c-8fe1-f7b6449baf52"
      },
      "outputs": [
        {
          "output_type": "display_data",
          "data": {
            "text/plain": [
              "<Figure size 640x480 with 1 Axes>"
            ],
            "image/png": "[encoded data removed]"
          },
          "metadata": {}
        }
      ],
      "source": [
        "plt.imshow(train_X[0])\n",
        "plt.show()"
      ]
    },
    {
      "cell_type": "code",
      "execution_count": null,
      "metadata": {
        "colab": {
          "base_uri": "https://localhost:8080/",
          "height": 447
        },
        "id": "ZuK6dCQ1bUWE",
        "outputId": "0692e096-5bd9-4d1d-8eca-a7fd089d6ae1"
      },
      "outputs": [
        {
          "data": {
            "text/plain": [
              "<matplotlib.image.AxesImage at 0x78009db33d30>"
            ]
          },
          "execution_count": 100,
          "metadata": {},
          "output_type": "execute_result"
        },
        {
          "data": {
            "image/png": "[encoded data removed]",
            "text/plain": [
              "<Figure size 640x480 with 1 Axes>"
            ]
          },
          "metadata": {},
          "output_type": "display_data"
        }
      ],
      "source": [
        "# Function for random horizontal shift\n",
        "\n",
        "def horizontal_shift(img, max_shift):\n",
        "\n",
        "  shift_amount = np.random.randint(-max_shift, max_shift + 1)\n",
        "  shifted_image = np.roll(img, shift_amount, axis=1)\n",
        "  return shifted_image\n",
        "\n",
        "plt.imshow(horizontal_shift(train_X[0], 70))"
      ]
    },
    {
      "cell_type": "code",
      "execution_count": null,
      "metadata": {
        "colab": {
          "base_uri": "https://localhost:8080/",
          "height": 447
        },
        "id": "AadppHZseDcc",
        "outputId": "f51c33bc-58e5-49d6-f06c-cc1c20873194"
      },
      "outputs": [
        {
          "output_type": "execute_result",
          "data": {
            "text/plain": [
              "<matplotlib.image.AxesImage at 0x7a2b28558b50>"
            ]
          },
          "metadata": {},
          "execution_count": 48
        },
        {
          "output_type": "display_data",
          "data": {
            "text/plain": [
              "<Figure size 640x480 with 1 Axes>"
            ],
            "image/png": "[encoded data removed]"
          },
          "metadata": {}
        }
      ],
      "source": [
        "# Function for random vertical shift\n",
        "def vertical_shift(img, max_shift):\n",
        "\n",
        "  shift_amount = np.random.randint(-max_shift, max_shift + 1)\n",
        "  shifted_image = np.roll(img, shift_amount, axis=0)\n",
        "  return shifted_image\n",
        "\n",
        "plt.imshow(vertical_shift(train_X[0], 70))"
      ]
    },
    {
      "cell_type": "markdown",
      "metadata": {
        "id": "cnmqHb8clYs2"
      },
      "source": [
        "## Answer 4"
      ]
    },
    {
      "cell_type": "code",
      "execution_count": null,
      "metadata": {
        "id": "NqJogl0niJu0"
      },
      "outputs": [],
      "source": [
        "import wikipedia\n",
        "from nltk.util import ngrams\n",
        "\n",
        "# Download the data from wikipedia\n",
        "\n",
        "topic = 'Giraffe'\n",
        "\n",
        "wikipedia.set_lang('en')\n",
        "eng = wikipedia.page(topic).content\n",
        "\n",
        "wikipedia.set_lang('fr')\n",
        "fr = wikipedia.page(topic).content"
      ]
    },
    {
      "cell_type": "code",
      "execution_count": null,
      "metadata": {
        "id": "3riyKpA1mq94"
      },
      "outputs": [],
      "source": [
        "def text_cleaning(text):\n",
        "  text = text.lower()\n",
        "  text = re.sub('[^a-z]+', '', text)\n",
        "  return text\n",
        "\n",
        "# cleaning text\n",
        "eng = text_cleaning(eng)\n",
        "fr = text_cleaning(fr)"
      ]
    },
    {
      "cell_type": "code",
      "source": [
        "import numpy as np\n",
        "\n",
        "def euclidean_distance(eng, fr):\n",
        "\n",
        "  ngram_eng = Counter(eng)\n",
        "  ngram_fr = Counter(fr)\n",
        "\n",
        "\n",
        "  total_ngrams = list(set(ngram_eng.keys()) | set(ngram_fr.keys()))\n",
        "\n",
        "  eng_count = np.array([eng.get(x, 0) for x in total_ngrams])\n",
        "  fr_count = np.array([fr.get(x, 0) for x in total_ngrams])\n",
        "\n",
        "  distance = np.linalg.norm(eng_count - fr_count)\n",
        "\n",
        "  return distance"
      ],
      "metadata": {
        "id": "xjaf7q8GpzEW"
      },
      "execution_count": null,
      "outputs": []
    },
    {
      "cell_type": "code",
      "execution_count": null,
      "metadata": {
        "colab": {
          "base_uri": "https://localhost:8080/"
        },
        "id": "noHploXZm64u",
        "outputId": "f3ff8333-a8e1-4dbe-a9ef-000cc1bd528d"
      },
      "outputs": [
        {
          "output_type": "stream",
          "name": "stdout",
          "text": [
            "Euclidean distance between English and French : 1104.6112438319647\n"
          ]
        }
      ],
      "source": [
        "euclidean_distance = euclidean_distance(Counter(ngrams(eng,3)), Counter(ngrams(fr,3)))\n",
        "\n",
        "print(\"Euclidean distance between English and French :\", euclidean_distance)\n"
      ]
    },
    {
      "cell_type": "markdown",
      "source": [
        "* **The result represents the extent of dissimilarity between the two texts based on the chosen n-grams**\n",
        "\n",
        "* **The result obtained suggests that the two texts have a relatively high difference in their n-gram distributions. This indicates that the English and French texts are significantly dissimilar when considering the given n-grams as features.**\n",
        "\n",
        "\n",
        "\n",
        "---\n",
        "\n",
        "\n",
        "\n",
        "### Implications:\n",
        "\n",
        "* N-grams provide a simple and effective way to represent text data as feature vectors.\n",
        "\n",
        "* Euclidean distance metric allows us to measure the similarity or dissimilarity between texts represented by n-grams.\n",
        "\n",
        "* N-grams can be used in applications such as document clustering, Plagarism checker etc...\n",
        "\n",
        "### Limitations:\n",
        "\n",
        "* N-grams suffer from the \"curse of dimensionality\" when the n-gram size becomes large. As the dimensionality increases, the Euclidean distance may lose its effectiveness in representing true text similarity.\n",
        "\n",
        "* N-grams are sensitive to word order, but they do not capture the semantic meaning of words or sentences. This means that texts with similar meanings but different word orders may have high Euclidean distances.\n"
      ],
      "metadata": {
        "id": "9lGVeUUNrmR7"
      }
    },
    {
      "cell_type": "markdown",
      "source": [
        "## Answer 5"
      ],
      "metadata": {
        "id": "7C5ZhgXwrKcR"
      }
    },
    {
      "cell_type": "code",
      "source": [
        "import requests\n",
        "import re\n",
        "import nltk\n",
        "from nltk.corpus import stopwords\n",
        "from nltk.util import ngrams"
      ],
      "metadata": {
        "id": "on_OhTuNuvJN"
      },
      "execution_count": null,
      "outputs": []
    },
    {
      "cell_type": "code",
      "execution_count": null,
      "metadata": {
        "id": "VqCBEqy4uwmE"
      },
      "outputs": [],
      "source": [
        "# Loading data from Gutenberg website\n",
        "\n",
        "eng_url = \"https://www.gutenberg.org/cache/epub/8800/pg8800.txt\"\n",
        "fr_url = \"https://www.gutenberg.org/files/36098/36098-8.txt\"\n",
        "\n",
        "eng_raw = str(requests.get(eng_url).content)\n",
        "fr_raw = str(requests.get(fr_url).content)"
      ]
    },
    {
      "cell_type": "code",
      "source": [
        "# cleaning the text\n",
        "\n",
        "def text_cleaning(text):\n",
        "\n",
        "  text = text.lower()\n",
        "  text = re.sub('[^a-z]+', ' ', text)\n",
        "  return text\n",
        "\n",
        "\n",
        "eng_text = text_cleaning(eng_raw)\n",
        "fr_text = text_cleaning(fr_raw)"
      ],
      "metadata": {
        "id": "KGdutGVKt_jy"
      },
      "execution_count": null,
      "outputs": []
    },
    {
      "cell_type": "code",
      "source": [
        "# Calculating entropy for both texts\n",
        "\n",
        "from collections import Counter\n",
        "import math\n",
        "\n",
        "\n",
        "def calculate_entropy(text):\n",
        "  total_len = len(text)\n",
        "  char_count = Counter(text)\n",
        "  entropy = 0\n",
        "\n",
        "  for elem in char_count:\n",
        "    prob = char_count[elem] * math.log2(total_len)\n",
        "    entropy -= prob * math.log2(prob)\n",
        "\n",
        "  return entropy\n",
        "\n",
        "print(\"Entropy for English: \", calculate_entropy(eng_text))\n",
        "print(\"Entropy for French: \",(calculate_entropy(fr_text)))"
      ],
      "metadata": {
        "colab": {
          "base_uri": "https://localhost:8080/"
        },
        "id": "ndRq7spc0Y0a",
        "outputId": "35ad2030-23f1-414e-8348-89ff4293f965"
      },
      "execution_count": null,
      "outputs": [
        {
          "output_type": "stream",
          "name": "stdout",
          "text": [
            "Entropy for English:  -272834962.9544579\n",
            "Entropy for French:  -18189488.299933355\n"
          ]
        }
      ]
    },
    {
      "cell_type": "code",
      "source": [
        "# Comparing entropy values\n",
        "\n",
        "languages = ['English', 'French']\n",
        "entropy_values = [calculate_entropy(eng_text), calculate_entropy(fr_text)]\n",
        "\n",
        "plt.bar(languages, entropy_values, color=['b', 'g'])\n",
        "plt.xlabel('Languages')\n",
        "plt.ylabel('Entropy')\n",
        "plt.title('Entropy Comparison of Gutenberg data: English vs. French')\n",
        "plt.show()"
      ],
      "metadata": {
        "colab": {
          "base_uri": "https://localhost:8080/",
          "height": 487
        },
        "id": "AC2acTJd1OCH",
        "outputId": "9f8f7dc0-7d5d-45d9-9a23-81d2ea42ca1b"
      },
      "execution_count": null,
      "outputs": [
        {
          "output_type": "display_data",
          "data": {
            "text/plain": [
              "<Figure size 640x480 with 1 Axes>"
            ],
            "image/png": "[encoded data removed]"
          },
          "metadata": {}
        }
      ]
    },
    {
      "cell_type": "code",
      "source": [
        "# Calculating unigram, bigram and trigram for english and french\n",
        "\n",
        "unigram_eng = Counter(ngrams(eng_text, 1))\n",
        "bigram_eng = Counter(ngrams(eng_text, 2))\n",
        "trigram_eng = Counter(ngrams(eng_text, 3))\n",
        "\n",
        "unigram_fr = Counter(ngrams(fr_text, 1))\n",
        "bigram_fr = Counter(ngrams(fr_text, 2))\n",
        "trigram_fr = Counter(ngrams(fr_text, 3))"
      ],
      "metadata": {
        "id": "sJoobnj2yGQA"
      },
      "execution_count": null,
      "outputs": []
    },
    {
      "cell_type": "markdown",
      "source": [
        "Plotting various ngrams"
      ],
      "metadata": {
        "id": "zFmG2zL85qu8"
      }
    },
    {
      "cell_type": "code",
      "source": [
        "# Plotting unirigrams\n",
        "\n",
        "plt.subplot(2, 1, 1)\n",
        "plt.hist(unigram_eng)\n",
        "plt.title('English unigram')\n",
        "plt.show()\n",
        "\n",
        "plt.subplot(2, 1, 2)\n",
        "plt.hist(unigram_fr)\n",
        "plt.title('French unigram')\n",
        "plt.show()\n",
        "\n",
        "plt.show()"
      ],
      "metadata": {
        "colab": {
          "base_uri": "https://localhost:8080/",
          "height": 485
        },
        "id": "0oDcOGc62xdy",
        "outputId": "8b0b083d-6d38-443f-9943-1c1eab19fd30"
      },
      "execution_count": null,
      "outputs": [
        {
          "output_type": "display_data",
          "data": {
            "text/plain": [
              "<Figure size 640x480 with 1 Axes>"
            ],
            "image/png": "[encoded data removed]"
          },
          "metadata": {}
        },
        {
          "output_type": "display_data",
          "data": {
            "text/plain": [
              "<Figure size 640x480 with 1 Axes>"
            ],
            "image/png": "[encoded data removed]"
          },
          "metadata": {}
        }
      ]
    },
    {
      "cell_type": "markdown",
      "source": [
        "We can see that the unigrams for English and French are very similar. So this is not a good feature if we want to distinguish between English and French."
      ],
      "metadata": {
        "id": "RIva_oH8gCkV"
      }
    },
    {
      "cell_type": "code",
      "source": [
        "# Plotting bigrams\n",
        "\n",
        "plt.subplot(2, 1, 1)\n",
        "plt.hist(bigram_eng)\n",
        "plt.title('English bigram')\n",
        "plt.show()\n",
        "\n",
        "plt.subplot(2, 1, 2)\n",
        "plt.hist(bigram_fr)\n",
        "plt.title('French bigram')\n",
        "plt.show()\n",
        "\n",
        "plt.show()"
      ],
      "metadata": {
        "colab": {
          "base_uri": "https://localhost:8080/",
          "height": 485
        },
        "id": "xnTffskU5Pr2",
        "outputId": "6c556246-ae0c-4410-aa97-c754057e7114"
      },
      "execution_count": null,
      "outputs": [
        {
          "output_type": "display_data",
          "data": {
            "text/plain": [
              "<Figure size 640x480 with 1 Axes>"
            ],
            "image/png": "[encoded data removed]"
          },
          "metadata": {}
        },
        {
          "output_type": "display_data",
          "data": {
            "text/plain": [
              "<Figure size 640x480 with 1 Axes>"
            ],
            "image/png": "[encoded data removed]"
          },
          "metadata": {}
        }
      ]
    },
    {
      "cell_type": "markdown",
      "source": [
        "We can see that bigrams for English and French are also very similar. So this is not a good feature if we want to distinguish between English and French."
      ],
      "metadata": {
        "id": "I7M0SpXSgK4o"
      }
    },
    {
      "cell_type": "code",
      "source": [
        "# Plotting trigrams\n",
        "\n",
        "plt.subplot(2, 1, 1)\n",
        "plt.hist(trigram_eng)\n",
        "plt.title('English trigram')\n",
        "plt.show()\n",
        "\n",
        "plt.subplot(2, 1, 2)\n",
        "plt.hist(trigram_fr)\n",
        "plt.title('French trigram')\n",
        "plt.show()\n",
        "\n",
        "plt.show()"
      ],
      "metadata": {
        "colab": {
          "base_uri": "https://localhost:8080/",
          "height": 485
        },
        "id": "54LmylRc5eRY",
        "outputId": "3483c641-e5a9-4d19-f393-189bfa8f4d1e"
      },
      "execution_count": null,
      "outputs": [
        {
          "output_type": "display_data",
          "data": {
            "text/plain": [
              "<Figure size 640x480 with 1 Axes>"
            ],
            "image/png": "[encoded data removed]"
          },
          "metadata": {}
        },
        {
          "output_type": "display_data",
          "data": {
            "text/plain": [
              "<Figure size 640x480 with 1 Axes>"
            ],
            "image/png": "[encoded data removed]"
          },
          "metadata": {}
        }
      ]
    },
    {
      "cell_type": "markdown",
      "source": [
        "Its looks like trigrams for English and French are also very similar. So we need to use other to reduce features\n"
      ],
      "metadata": {
        "id": "h7-ScWvcgRq-"
      }
    }
  ],
  "metadata": {
    "colab": {
      "provenance": [],
      "include_colab_link": true
    },
    "kernelspec": {
      "display_name": "Python 3",
      "name": "python3"
    },
    "language_info": {
      "name": "python"
    }
  },
  "nbformat": 4,
  "nbformat_minor": 0
}
